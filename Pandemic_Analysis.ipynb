{
  "nbformat": 4,
  "nbformat_minor": 0,
  "metadata": {
    "colab": {
      "provenance": []
    },
    "kernelspec": {
      "name": "python3",
      "display_name": "Python 3"
    },
    "language_info": {
      "name": "python"
    }
  },
  "cells": [
    {
      "cell_type": "code",
      "execution_count": null,
      "metadata": {
        "colab": {
          "base_uri": "https://localhost:8080/"
        },
        "id": "hDMna6I1ltTU",
        "outputId": "944fe2b0-fc8b-4c06-ecee-a357d93edef6"
      },
      "outputs": [
        {
          "output_type": "stream",
          "name": "stdout",
          "text": [
            "Collecting EoN\n",
            "  Downloading EoN-1.1.tar.gz (113 kB)\n",
            "\u001b[?25l\r\u001b[K     |███                             | 10 kB 21.6 MB/s eta 0:00:01\r\u001b[K     |█████▉                          | 20 kB 13.1 MB/s eta 0:00:01\r\u001b[K     |████████▊                       | 30 kB 9.7 MB/s eta 0:00:01\r\u001b[K     |███████████▋                    | 40 kB 8.6 MB/s eta 0:00:01\r\u001b[K     |██████████████▌                 | 51 kB 5.5 MB/s eta 0:00:01\r\u001b[K     |█████████████████▍              | 61 kB 6.5 MB/s eta 0:00:01\r\u001b[K     |████████████████████▎           | 71 kB 7.0 MB/s eta 0:00:01\r\u001b[K     |███████████████████████▏        | 81 kB 6.4 MB/s eta 0:00:01\r\u001b[K     |██████████████████████████      | 92 kB 7.1 MB/s eta 0:00:01\r\u001b[K     |█████████████████████████████   | 102 kB 6.7 MB/s eta 0:00:01\r\u001b[K     |███████████████████████████████▉| 112 kB 6.7 MB/s eta 0:00:01\r\u001b[K     |████████████████████████████████| 113 kB 6.7 MB/s \n",
            "\u001b[?25hRequirement already satisfied: networkx in /usr/local/lib/python3.7/dist-packages (from EoN) (2.6.3)\n",
            "Requirement already satisfied: numpy in /usr/local/lib/python3.7/dist-packages (from EoN) (1.21.6)\n",
            "Requirement already satisfied: scipy in /usr/local/lib/python3.7/dist-packages (from EoN) (1.4.1)\n",
            "Requirement already satisfied: matplotlib in /usr/local/lib/python3.7/dist-packages (from EoN) (3.2.2)\n",
            "Requirement already satisfied: cycler>=0.10 in /usr/local/lib/python3.7/dist-packages (from matplotlib->EoN) (0.11.0)\n",
            "Requirement already satisfied: python-dateutil>=2.1 in /usr/local/lib/python3.7/dist-packages (from matplotlib->EoN) (2.8.2)\n",
            "Requirement already satisfied: pyparsing!=2.0.4,!=2.1.2,!=2.1.6,>=2.0.1 in /usr/local/lib/python3.7/dist-packages (from matplotlib->EoN) (3.0.8)\n",
            "Requirement already satisfied: kiwisolver>=1.0.1 in /usr/local/lib/python3.7/dist-packages (from matplotlib->EoN) (1.4.2)\n",
            "Requirement already satisfied: typing-extensions in /usr/local/lib/python3.7/dist-packages (from kiwisolver>=1.0.1->matplotlib->EoN) (4.2.0)\n",
            "Requirement already satisfied: six>=1.5 in /usr/local/lib/python3.7/dist-packages (from python-dateutil>=2.1->matplotlib->EoN) (1.15.0)\n",
            "Building wheels for collected packages: EoN\n",
            "  Building wheel for EoN (setup.py) ... \u001b[?25l\u001b[?25hdone\n",
            "  Created wheel for EoN: filename=EoN-1.1-py3-none-any.whl size=120819 sha256=4caaac1a137dd49bc1fba244185d1c51fbb16d296493bd9e4a26ae5b414235ac\n",
            "  Stored in directory: /root/.cache/pip/wheels/0b/c0/a4/d6001fd809cb84c027ada5c2ab3b6d1cb2e97fec3f9978eae7\n",
            "Successfully built EoN\n",
            "Installing collected packages: EoN\n",
            "Successfully installed EoN-1.1\n"
          ]
        }
      ],
      "source": [
        "pip install EoN\n"
      ]
    },
    {
      "cell_type": "code",
      "source": [
        "import networkx as nx\n",
        "import matplotlib.pyplot as plt\n",
        "import pandas as pd\n",
        "import numpy as np\n",
        "import EoN\n",
        "import csv"
      ],
      "metadata": {
        "id": "IBlOnAU0mePu"
      },
      "execution_count": null,
      "outputs": []
    },
    {
      "cell_type": "markdown",
      "source": [
        "#**Task-2**"
      ],
      "metadata": {
        "id": "gWz1v61xHcjE"
      }
    },
    {
      "cell_type": "code",
      "source": [
        "G = nx.Graph()\n",
        "df = pd.read_csv('routes.csv')\n",
        "Graph = nx.from_pandas_edgelist(df, source='Source', target='Target', create_using=G)\n",
        "# nx.draw_networkx(Graph)"
      ],
      "metadata": {
        "id": "fj-LwvaX5FT-"
      },
      "execution_count": null,
      "outputs": []
    },
    {
      "cell_type": "markdown",
      "source": [
        "SIR model with gamma similar to tau"
      ],
      "metadata": {
        "id": "mzTmMYTJFPyI"
      }
    },
    {
      "cell_type": "code",
      "source": [
        "tmax = 20\n",
        "iterations = 99    # running total 100 iterations\n",
        "tau = 1           #transmission rate\n",
        "gamma = 1   #recovery rate\n",
        "\n",
        "# print(\"With gamma similar to tau\")\n",
        "# print(\"gamma = 1\")\n",
        "# print(\"tau =1\")\n",
        "t, S, I, R = EoN.fast_SIR(Graph, tau, gamma,initial_infecteds = 'WUH', tmax = tmax)\n",
        "plt.plot(t,I,color = 'r',alpha=1, label='Infected')\n",
        "plt.plot(t,S,color ='b',alpha =1, label='Susceptible')\n",
        "plt.plot(t,R,color ='g',alpha =1, label='Recovered')\n",
        "plt.legend()\n",
        "\n",
        "\n",
        "# for counter in range(iterations): #run simulations\n",
        "#     t, S, I, R = EoN.fast_SIR(Graph, tau, gamma,initial_infecteds = 'WUH', tmax = tmax)\n",
        "#     plt.plot(t,I,color = 'r',alpha=0.5, )\n",
        "#     plt.plot(t,S,color ='b',alpha =0.5, )\n",
        "#     plt.plot(t,R,color ='g',alpha =0.5, )\n",
        "#     # print(t.shape)"
      ],
      "metadata": {
        "colab": {
          "base_uri": "https://localhost:8080/",
          "height": 283
        },
        "id": "4PWaCk92wwyA",
        "outputId": "7b6cddf1-5be9-412b-f981-03b624a4ec98"
      },
      "execution_count": null,
      "outputs": [
        {
          "output_type": "execute_result",
          "data": {
            "text/plain": [
              "<matplotlib.legend.Legend at 0x7f1f5f95ea10>"
            ]
          },
          "metadata": {},
          "execution_count": 14
        },
        {
          "output_type": "display_data",
          "data": {
            "text/plain": [
              "<Figure size 432x288 with 1 Axes>"
            ],
            "image/png": "[encoded data removed]"
          },
          "metadata": {
            "needs_background": "light"
          }
        }
      ]
    },
    {
      "cell_type": "markdown",
      "source": [
        "With gamma much greater to tau"
      ],
      "metadata": {
        "id": "X3HzjdPHFruP"
      }
    },
    {
      "cell_type": "code",
      "source": [
        "tmax = 20\n",
        "iterations = 99 # running total 100 iterations\n",
        "tau = 0.2           #transmission rate\n",
        "gamma = 1   #recovery rate\n",
        "\n",
        "t, S, I, R = EoN.fast_SIR(Graph, tau, gamma,initial_infecteds = 'WUH', tmax = tmax)\n",
        "plt.plot(t,I,color = 'r',alpha=1, label='Infected')\n",
        "plt.plot(t,S,color ='b',alpha =1, label='Susceptible')\n",
        "plt.plot(t,R,color ='g',alpha =1, label='Recovered')\n",
        "plt.legend()\n",
        "\n",
        "# for counter in range(iterations): #run simulations\n",
        "#     t, S, I, R = EoN.fast_SIR(Graph, tau, gamma,initial_infecteds = 'WUH', tmax = tmax)\n",
        "#     plt.plot(t,I,color = 'r',alpha=0.5, )\n",
        "#     plt.plot(t,S,color ='b',alpha =0.5, )\n",
        "#     plt.plot(t,R,color ='g',alpha =0.5, )\n",
        "#     # print(t.shape)"
      ],
      "metadata": {
        "colab": {
          "base_uri": "https://localhost:8080/",
          "height": 283
        },
        "id": "VXU_FX6EFk7I",
        "outputId": "fe271eba-3597-4afc-a2e3-ddd4b9e4cdbc"
      },
      "execution_count": null,
      "outputs": [
        {
          "output_type": "execute_result",
          "data": {
            "text/plain": [
              "<matplotlib.legend.Legend at 0x7f1f5da33ad0>"
            ]
          },
          "metadata": {},
          "execution_count": 57
        },
        {
          "output_type": "display_data",
          "data": {
            "text/plain": [
              "<Figure size 432x288 with 1 Axes>"
            ],
            "image/png": "[encoded data removed]"
          },
          "metadata": {
            "needs_background": "light"
          }
        }
      ]
    },
    {
      "cell_type": "markdown",
      "source": [
        "Gamma much smaller than tau"
      ],
      "metadata": {
        "id": "7GqaEYthGGF3"
      }
    },
    {
      "cell_type": "code",
      "source": [
        "tmax = 20\n",
        "iterations = 99   # running total 100 iterations\n",
        "tau = 1           #transmission rate\n",
        "gamma = 0.2    #recovery rate\n",
        "\n",
        "t, S, I, R = EoN.fast_SIR(Graph, tau, gamma,initial_infecteds = 'WUH', tmax = tmax) # first simulation\n",
        "plt.plot(t,I,color = 'r',alpha=1.0, label='Infected')\n",
        "plt.plot(t,S,color ='b',alpha =1.0, label='Susceptible')\n",
        "plt.plot(t,R,color ='g',alpha =1.0, label='Recovered')\n",
        "plt.legend()\n",
        "\n",
        "# for counter in range(iterations): #run 99 simulations\n",
        "#     t, S, I, R = EoN.fast_SIR(Graph, tau, gamma,initial_infecteds = 'WUH', tmax = tmax)\n",
        "#     plt.plot(t,I,color = 'r',alpha=0.5, )\n",
        "#     plt.plot(t,S,color ='b',alpha =0.5, )\n",
        "#     plt.plot(t,R,color ='g',alpha =0.5, )\n",
        "#     # print(t.shape)"
      ],
      "metadata": {
        "colab": {
          "base_uri": "https://localhost:8080/",
          "height": 283
        },
        "id": "fUh_-hUAF0ur",
        "outputId": "ecaf20bd-afc6-416b-be52-f576b534ab6f"
      },
      "execution_count": null,
      "outputs": [
        {
          "output_type": "execute_result",
          "data": {
            "text/plain": [
              "<matplotlib.legend.Legend at 0x7f1f5ec89a50>"
            ]
          },
          "metadata": {},
          "execution_count": 16
        },
        {
          "output_type": "display_data",
          "data": {
            "text/plain": [
              "<Figure size 432x288 with 1 Axes>"
            ],
            "image/png": "[encoded data removed]"
          },
          "metadata": {
            "needs_background": "light"
          }
        }
      ]
    },
    {
      "cell_type": "markdown",
      "source": [
        "#***Task-3***\n",
        "\n",
        "\n",
        "\n",
        ">  Defining a function which runs an SIR model with tau = 1 and gamma =0, which returns \n",
        "\n",
        "1.   A list which contains 100 dictionaries one for each iteration and each dictionary has every node as key and time taken to get infected as value \n",
        "2.  A set of disconnected nodes to keep track of the nodes disconnected from the network\n",
        "3.  full data of the last simulation\n",
        "\n",
        "\n",
        "\n",
        "\n",
        "\n",
        "\n"
      ],
      "metadata": {
        "id": "SxH2so2SI-4_"
      }
    },
    {
      "cell_type": "code",
      "source": [
        "def run_100_iterations(Grph):\n",
        "  iterations = 100\n",
        "  tau = 1          #transmission rate\n",
        "  gamma = 0    #recovery rate\n",
        "\n",
        "  Time_List_100 = []\n",
        "  Disconnected_nodes =[]\n",
        "  Disconnected_nodes_100 = set()\n",
        "  count =0\n",
        "  average=0\n",
        "  \n",
        "  for counter in range(iterations): #run simulations\n",
        "    full_data = EoN.fast_SIR(Grph, tau, gamma,initial_infecteds = 'WUH', return_full_data=True)\n",
        "    total=0\n",
        "    dic_Ti_graph = {}\n",
        "    for node in Graph.nodes():\n",
        "      timelist, statuslist = full_data.node_history(node)\n",
        "      if len(timelist) == 2:           # taking the second value from the tuple as the first one is zero when the status was \n",
        "        dic_Ti_graph[node]=timelist[1] # susceptible and second value is the time when node became infected\n",
        "      else:\n",
        "        dic_Ti_graph[node] = 6          # Giving the value as zero if the node did not change status and putting those nodes in a list\n",
        "        Disconnected_nodes.append(node)\n",
        "    Time_List_100.append(dic_Ti_graph)\n",
        "    for nod in Disconnected_nodes:      \n",
        "      Disconnected_nodes_100.add(nod)   # appending all the disconnected nodes\n",
        "  return(Time_List_100,Disconnected_nodes_100,full_data)"
      ],
      "metadata": {
        "id": "TPtr8BxWtBTF"
      },
      "execution_count": null,
      "outputs": []
    },
    {
      "cell_type": "markdown",
      "source": [
        "Defining a function which calls the above function and calculates the value Ti(average time taken by node i to get infected over 100 iterations) for every node and returns a dictionary of Ti's with nodes as keys. Disconnected nodes and full data are returned as it is."
      ],
      "metadata": {
        "id": "D0CzC4G9MMXd"
      }
    },
    {
      "cell_type": "code",
      "source": [
        "def calculate_Ti(Grph):\n",
        "  Time_List,Disconnect_nodes,full_data = run_100_iterations(Grph)\n",
        "  dict_Ti_avg= {}\n",
        "  \n",
        "  for node in Graph.nodes():\n",
        "    nodetime = 0\n",
        "    for i in range(100):    \n",
        "      nodetime = nodetime + Time_List[i][node]\n",
        "    dict_Ti_avg[node] =nodetime/100\n",
        "  return(dict_Ti_avg,Disconnect_nodes,full_data)\n"
      ],
      "metadata": {
        "id": "4bodjyq57nYz"
      },
      "execution_count": null,
      "outputs": []
    },
    {
      "cell_type": "markdown",
      "source": [
        "Calculating Ti's for our network"
      ],
      "metadata": {
        "id": "XZCTjGsdNFZO"
      }
    },
    {
      "cell_type": "code",
      "source": [
        "dict_Ti_average,Disconnected_nodes,full_data = calculate_Ti(Graph)"
      ],
      "metadata": {
        "id": "RDJS5ly9E2It"
      },
      "execution_count": null,
      "outputs": []
    },
    {
      "cell_type": "markdown",
      "source": [
        "#**Task 3.a**\n",
        "Getting degree of each node in a dictionary"
      ],
      "metadata": {
        "id": "TrC_KdJvQZff"
      }
    },
    {
      "cell_type": "code",
      "source": [
        "\n",
        "dict_ki=dict(nx.degree(Graph))      # ki denotes degree of each node i"
      ],
      "metadata": {
        "id": "9qUDa0s6BHFr"
      },
      "execution_count": null,
      "outputs": []
    },
    {
      "cell_type": "markdown",
      "source": [
        "Creating a dataframe with columns: Nodes, Ti, ki"
      ],
      "metadata": {
        "id": "2hEKhMmQNjjQ"
      }
    },
    {
      "cell_type": "code",
      "source": [
        "data = []\n",
        "for node in Graph.nodes():\n",
        "  data.append((node,dict_Ti_average[node],dict_ki[node]))\n",
        "\n",
        "df_ti_ki = pd.DataFrame(data, columns = ['Nodes', 'Ti', 'ki'])\n",
        "df_ti_ki"
      ],
      "metadata": {
        "colab": {
          "base_uri": "https://localhost:8080/",
          "height": 423
        },
        "id": "wBf0_0BcEQsf",
        "outputId": "0c61948d-488d-4635-8d81-6621703685b1"
      },
      "execution_count": null,
      "outputs": [
        {
          "output_type": "execute_result",
          "data": {
            "text/plain": [
              "     Nodes        Ti  ki\n",
              "0      AER  0.204113  18\n",
              "1      KZN  0.209721  21\n",
              "2      ASF  0.272290   7\n",
              "3      MRV  0.203348  16\n",
              "4      CEK  0.210750  14\n",
              "...    ...       ...  ..\n",
              "3420   WIN  0.945514   2\n",
              "3421   LSY  1.275512   1\n",
              "3422   MIM  0.498715   3\n",
              "3423   MYA  0.822821   2\n",
              "3424   OAG  0.980349   1\n",
              "\n",
              "[3425 rows x 3 columns]"
            ],
            "text/html": [
              "\n",
              "  <div id=\"df-d9732ed7-3aa1-461c-84d7-8d3a92b74f6d\">\n",
              "    <div class=\"colab-df-container\">\n",
              "      <div>\n",
              "<style scoped>\n",
              "    .dataframe tbody tr th:only-of-type {\n",
              "        vertical-align: middle;\n",
              "    }\n",
              "\n",
              "    .dataframe tbody tr th {\n",
              "        vertical-align: top;\n",
              "    }\n",
              "\n",
              "    .dataframe thead th {\n",
              "        text-align: right;\n",
              "    }\n",
              "</style>\n",
              "<table border=\"1\" class=\"dataframe\">\n",
              "  <thead>\n",
              "    <tr style=\"text-align: right;\">\n",
              "      <th></th>\n",
              "      <th>Nodes</th>\n",
              "      <th>Ti</th>\n",
              "      <th>ki</th>\n",
              "    </tr>\n",
              "  </thead>\n",
              "  <tbody>\n",
              "    <tr>\n",
              "      <th>0</th>\n",
              "      <td>AER</td>\n",
              "      <td>0.204113</td>\n",
              "      <td>18</td>\n",
              "    </tr>\n",
              "    <tr>\n",
              "      <th>1</th>\n",
              "      <td>KZN</td>\n",
              "      <td>0.209721</td>\n",
              "      <td>21</td>\n",
              "    </tr>\n",
              "    <tr>\n",
              "      <th>2</th>\n",
              "      <td>ASF</td>\n",
              "      <td>0.272290</td>\n",
              "      <td>7</td>\n",
              "    </tr>\n",
              "    <tr>\n",
              "      <th>3</th>\n",
              "      <td>MRV</td>\n",
              "      <td>0.203348</td>\n",
              "      <td>16</td>\n",
              "    </tr>\n",
              "    <tr>\n",
              "      <th>4</th>\n",
              "      <td>CEK</td>\n",
              "      <td>0.210750</td>\n",
              "      <td>14</td>\n",
              "    </tr>\n",
              "    <tr>\n",
              "      <th>...</th>\n",
              "      <td>...</td>\n",
              "      <td>...</td>\n",
              "      <td>...</td>\n",
              "    </tr>\n",
              "    <tr>\n",
              "      <th>3420</th>\n",
              "      <td>WIN</td>\n",
              "      <td>0.945514</td>\n",
              "      <td>2</td>\n",
              "    </tr>\n",
              "    <tr>\n",
              "      <th>3421</th>\n",
              "      <td>LSY</td>\n",
              "      <td>1.275512</td>\n",
              "      <td>1</td>\n",
              "    </tr>\n",
              "    <tr>\n",
              "      <th>3422</th>\n",
              "      <td>MIM</td>\n",
              "      <td>0.498715</td>\n",
              "      <td>3</td>\n",
              "    </tr>\n",
              "    <tr>\n",
              "      <th>3423</th>\n",
              "      <td>MYA</td>\n",
              "      <td>0.822821</td>\n",
              "      <td>2</td>\n",
              "    </tr>\n",
              "    <tr>\n",
              "      <th>3424</th>\n",
              "      <td>OAG</td>\n",
              "      <td>0.980349</td>\n",
              "      <td>1</td>\n",
              "    </tr>\n",
              "  </tbody>\n",
              "</table>\n",
              "<p>3425 rows × 3 columns</p>\n",
              "</div>\n",
              "      <button class=\"colab-df-convert\" onclick=\"convertToInteractive('df-d9732ed7-3aa1-461c-84d7-8d3a92b74f6d')\"\n",
              "              title=\"Convert this dataframe to an interactive table.\"\n",
              "              style=\"display:none;\">\n",
              "        \n",
              "  <svg xmlns=\"http://www.w3.org/2000/svg\" height=\"24px\"viewBox=\"0 0 24 24\"\n",
              "       width=\"24px\">\n",
              "    <path d=\"M0 0h24v24H0V0z\" fill=\"none\"/>\n",
              "    <path d=\"M18.56 5.44l.94 2.06.94-2.06 2.06-.94-2.06-.94-.94-2.06-.94 2.06-2.06.94zm-11 1L8.5 8.5l.94-2.06 2.06-.94-2.06-.94L8.5 2.5l-.94 2.06-2.06.94zm10 10l.94 2.06.94-2.06 2.06-.94-2.06-.94-.94-2.06-.94 2.06-2.06.94z\"/><path d=\"M17.41 7.96l-1.37-1.37c-.4-.4-.92-.59-1.43-.59-.52 0-1.04.2-1.43.59L10.3 9.45l-7.72 7.72c-.78.78-.78 2.05 0 2.83L4 21.41c.39.39.9.59 1.41.59.51 0 1.02-.2 1.41-.59l7.78-7.78 2.81-2.81c.8-.78.8-2.07 0-2.86zM5.41 20L4 18.59l7.72-7.72 1.47 1.35L5.41 20z\"/>\n",
              "  </svg>\n",
              "      </button>\n",
              "      \n",
              "  <style>\n",
              "    .colab-df-container {\n",
              "      display:flex;\n",
              "      flex-wrap:wrap;\n",
              "      gap: 12px;\n",
              "    }\n",
              "\n",
              "    .colab-df-convert {\n",
              "      background-color: #E8F0FE;\n",
              "      border: none;\n",
              "      border-radius: 50%;\n",
              "      cursor: pointer;\n",
              "      display: none;\n",
              "      fill: #1967D2;\n",
              "      height: 32px;\n",
              "      padding: 0 0 0 0;\n",
              "      width: 32px;\n",
              "    }\n",
              "\n",
              "    .colab-df-convert:hover {\n",
              "      background-color: #E2EBFA;\n",
              "      box-shadow: 0px 1px 2px rgba(60, 64, 67, 0.3), 0px 1px 3px 1px rgba(60, 64, 67, 0.15);\n",
              "      fill: #174EA6;\n",
              "    }\n",
              "\n",
              "    [theme=dark] .colab-df-convert {\n",
              "      background-color: #3B4455;\n",
              "      fill: #D2E3FC;\n",
              "    }\n",
              "\n",
              "    [theme=dark] .colab-df-convert:hover {\n",
              "      background-color: #434B5C;\n",
              "      box-shadow: 0px 1px 3px 1px rgba(0, 0, 0, 0.15);\n",
              "      filter: drop-shadow(0px 1px 2px rgba(0, 0, 0, 0.3));\n",
              "      fill: #FFFFFF;\n",
              "    }\n",
              "  </style>\n",
              "\n",
              "      <script>\n",
              "        const buttonEl =\n",
              "          document.querySelector('#df-d9732ed7-3aa1-461c-84d7-8d3a92b74f6d button.colab-df-convert');\n",
              "        buttonEl.style.display =\n",
              "          google.colab.kernel.accessAllowed ? 'block' : 'none';\n",
              "\n",
              "        async function convertToInteractive(key) {\n",
              "          const element = document.querySelector('#df-d9732ed7-3aa1-461c-84d7-8d3a92b74f6d');\n",
              "          const dataTable =\n",
              "            await google.colab.kernel.invokeFunction('convertToInteractive',\n",
              "                                                     [key], {});\n",
              "          if (!dataTable) return;\n",
              "\n",
              "          const docLinkHtml = 'Like what you see? Visit the ' +\n",
              "            '<a target=\"_blank\" href=https://colab.research.google.com/notebooks/data_table.ipynb>data table notebook</a>'\n",
              "            + ' to learn more about interactive tables.';\n",
              "          element.innerHTML = '';\n",
              "          dataTable['output_type'] = 'display_data';\n",
              "          await google.colab.output.renderOutput(dataTable, element);\n",
              "          const docLink = document.createElement('div');\n",
              "          docLink.innerHTML = docLinkHtml;\n",
              "          element.appendChild(docLink);\n",
              "        }\n",
              "      </script>\n",
              "    </div>\n",
              "  </div>\n",
              "  "
            ]
          },
          "metadata": {},
          "execution_count": 22
        }
      ]
    },
    {
      "cell_type": "code",
      "source": [
        "df_ti_ki.to_csv('ti_ki.csv')  "
      ],
      "metadata": {
        "id": "cbDG2c8FIJ-j"
      },
      "execution_count": null,
      "outputs": []
    },
    {
      "cell_type": "markdown",
      "source": [
        "#Plotting Ti vs ki"
      ],
      "metadata": {
        "id": "0hSBtIwQN-nH"
      }
    },
    {
      "cell_type": "code",
      "source": [
        "plt.scatter(df_ti_ki.loc[:,'Ti'],df_ti_ki.loc[:,'ki'])\n",
        "plt.xlabel('Ti (Average Time to get infected)')\n",
        "plt.ylabel('ki (Node Degree)')"
      ],
      "metadata": {
        "colab": {
          "base_uri": "https://localhost:8080/",
          "height": 297
        },
        "id": "LoP7IXpOUaWD",
        "outputId": "0a90049c-f331-406a-a9fd-b3bb96349aa4"
      },
      "execution_count": null,
      "outputs": [
        {
          "output_type": "execute_result",
          "data": {
            "text/plain": [
              "Text(0, 0.5, 'ki (Node Degree)')"
            ]
          },
          "metadata": {},
          "execution_count": 24
        },
        {
          "output_type": "display_data",
          "data": {
            "text/plain": [
              "<Figure size 432x288 with 1 Axes>"
            ],
            "image/png": "[encoded data removed]"
          },
          "metadata": {
            "needs_background": "light"
          }
        }
      ]
    },
    {
      "cell_type": "markdown",
      "source": [
        "# TAsk 3.b\n",
        "**Getting distance of each node from WUHAN**\n",
        "all_pairs_shortest_path_length function returns a dictionary for shortest path to every other node from each node. We will be concerned with only key value WUH which is Wuhan"
      ],
      "metadata": {
        "id": "QwBC8sEGOEki"
      }
    },
    {
      "cell_type": "code",
      "source": [
        "spl = dict(nx.all_pairs_shortest_path_length(Graph))"
      ],
      "metadata": {
        "id": "9Qi1sihtH604"
      },
      "execution_count": null,
      "outputs": []
    },
    {
      "cell_type": "code",
      "source": [
        "len(spl['WUH'])"
      ],
      "metadata": {
        "colab": {
          "base_uri": "https://localhost:8080/"
        },
        "id": "7byJkNgv9OTs",
        "outputId": "bb4bea6d-f445-4893-e1dd-0a53201be746"
      },
      "execution_count": null,
      "outputs": [
        {
          "output_type": "execute_result",
          "data": {
            "text/plain": [
              "3397"
            ]
          },
          "metadata": {},
          "execution_count": 26
        }
      ]
    },
    {
      "cell_type": "code",
      "source": [
        "dict_dist={}\n",
        "Non_reachable_nodes_list = []  # creating a list for nodes which are not reachable from Wuhan\n",
        "for node in Graph.nodes():\n",
        "  if node in spl['WUH']:\n",
        "    if node!='WUH':\n",
        "      dict_dist[node] = spl['WUH'][node]\n",
        "  else:\n",
        "    dict_dist[node] = 100  # assigning 100 as a maximum distance to nodes which have no path to Wuhan\n",
        "    Non_reachable_nodes_list.append(node) # adding the nodes which could not be reached to above list "
      ],
      "metadata": {
        "id": "kvq2PFUBWKLJ"
      },
      "execution_count": null,
      "outputs": []
    },
    {
      "cell_type": "code",
      "source": [
        "print(len(Non_reachable_nodes_list))\n",
        "len(dict_dist)\n"
      ],
      "metadata": {
        "colab": {
          "base_uri": "https://localhost:8080/"
        },
        "id": "MJJRzAecYpZ_",
        "outputId": "e49b97b3-5fb2-4ca9-c06c-d58fb654c9db"
      },
      "execution_count": null,
      "outputs": [
        {
          "output_type": "stream",
          "name": "stdout",
          "text": [
            "28\n"
          ]
        },
        {
          "output_type": "execute_result",
          "data": {
            "text/plain": [
              "3424"
            ]
          },
          "metadata": {},
          "execution_count": 28
        }
      ]
    },
    {
      "cell_type": "markdown",
      "source": [
        "Creating a dataframe with columns: Nodes, Ti, Dist_Wuhan"
      ],
      "metadata": {
        "id": "NNTxyek7P0vO"
      }
    },
    {
      "cell_type": "code",
      "source": [
        "data = []\n",
        "for node in Graph.nodes():\n",
        "  if node != 'WUH':\n",
        "    if dict_dist[node]!=100:\n",
        "      data.append((node,dict_Ti_average[node],dict_dist[node]))\n",
        "\n",
        "df_ti_d = pd.DataFrame(data, columns = ['Node', 'Ti', 'Dist_Wuhan'])"
      ],
      "metadata": {
        "id": "koVeWsrsWTTH"
      },
      "execution_count": null,
      "outputs": []
    },
    {
      "cell_type": "code",
      "source": [
        "df_ti_d"
      ],
      "metadata": {
        "id": "sU2uC8jbnO5s",
        "colab": {
          "base_uri": "https://localhost:8080/",
          "height": 423
        },
        "outputId": "371f378c-e107-401d-ebd4-812ae027a464"
      },
      "execution_count": null,
      "outputs": [
        {
          "output_type": "execute_result",
          "data": {
            "text/plain": [
              "     Node        Ti  Dist_Wuhan\n",
              "0     AER  0.204113           3\n",
              "1     KZN  0.209721           3\n",
              "2     ASF  0.272290           3\n",
              "3     MRV  0.203348           3\n",
              "4     CEK  0.210750           3\n",
              "...   ...       ...         ...\n",
              "3391  WIN  0.945514           4\n",
              "3392  LSY  1.275512           3\n",
              "3393  MIM  0.498715           3\n",
              "3394  MYA  0.822821           3\n",
              "3395  OAG  0.980349           3\n",
              "\n",
              "[3396 rows x 3 columns]"
            ],
            "text/html": [
              "\n",
              "  <div id=\"df-23d2719e-f451-4860-ab9a-d276e1209c2d\">\n",
              "    <div class=\"colab-df-container\">\n",
              "      <div>\n",
              "<style scoped>\n",
              "    .dataframe tbody tr th:only-of-type {\n",
              "        vertical-align: middle;\n",
              "    }\n",
              "\n",
              "    .dataframe tbody tr th {\n",
              "        vertical-align: top;\n",
              "    }\n",
              "\n",
              "    .dataframe thead th {\n",
              "        text-align: right;\n",
              "    }\n",
              "</style>\n",
              "<table border=\"1\" class=\"dataframe\">\n",
              "  <thead>\n",
              "    <tr style=\"text-align: right;\">\n",
              "      <th></th>\n",
              "      <th>Node</th>\n",
              "      <th>Ti</th>\n",
              "      <th>Dist_Wuhan</th>\n",
              "    </tr>\n",
              "  </thead>\n",
              "  <tbody>\n",
              "    <tr>\n",
              "      <th>0</th>\n",
              "      <td>AER</td>\n",
              "      <td>0.204113</td>\n",
              "      <td>3</td>\n",
              "    </tr>\n",
              "    <tr>\n",
              "      <th>1</th>\n",
              "      <td>KZN</td>\n",
              "      <td>0.209721</td>\n",
              "      <td>3</td>\n",
              "    </tr>\n",
              "    <tr>\n",
              "      <th>2</th>\n",
              "      <td>ASF</td>\n",
              "      <td>0.272290</td>\n",
              "      <td>3</td>\n",
              "    </tr>\n",
              "    <tr>\n",
              "      <th>3</th>\n",
              "      <td>MRV</td>\n",
              "      <td>0.203348</td>\n",
              "      <td>3</td>\n",
              "    </tr>\n",
              "    <tr>\n",
              "      <th>4</th>\n",
              "      <td>CEK</td>\n",
              "      <td>0.210750</td>\n",
              "      <td>3</td>\n",
              "    </tr>\n",
              "    <tr>\n",
              "      <th>...</th>\n",
              "      <td>...</td>\n",
              "      <td>...</td>\n",
              "      <td>...</td>\n",
              "    </tr>\n",
              "    <tr>\n",
              "      <th>3391</th>\n",
              "      <td>WIN</td>\n",
              "      <td>0.945514</td>\n",
              "      <td>4</td>\n",
              "    </tr>\n",
              "    <tr>\n",
              "      <th>3392</th>\n",
              "      <td>LSY</td>\n",
              "      <td>1.275512</td>\n",
              "      <td>3</td>\n",
              "    </tr>\n",
              "    <tr>\n",
              "      <th>3393</th>\n",
              "      <td>MIM</td>\n",
              "      <td>0.498715</td>\n",
              "      <td>3</td>\n",
              "    </tr>\n",
              "    <tr>\n",
              "      <th>3394</th>\n",
              "      <td>MYA</td>\n",
              "      <td>0.822821</td>\n",
              "      <td>3</td>\n",
              "    </tr>\n",
              "    <tr>\n",
              "      <th>3395</th>\n",
              "      <td>OAG</td>\n",
              "      <td>0.980349</td>\n",
              "      <td>3</td>\n",
              "    </tr>\n",
              "  </tbody>\n",
              "</table>\n",
              "<p>3396 rows × 3 columns</p>\n",
              "</div>\n",
              "      <button class=\"colab-df-convert\" onclick=\"convertToInteractive('df-23d2719e-f451-4860-ab9a-d276e1209c2d')\"\n",
              "              title=\"Convert this dataframe to an interactive table.\"\n",
              "              style=\"display:none;\">\n",
              "        \n",
              "  <svg xmlns=\"http://www.w3.org/2000/svg\" height=\"24px\"viewBox=\"0 0 24 24\"\n",
              "       width=\"24px\">\n",
              "    <path d=\"M0 0h24v24H0V0z\" fill=\"none\"/>\n",
              "    <path d=\"M18.56 5.44l.94 2.06.94-2.06 2.06-.94-2.06-.94-.94-2.06-.94 2.06-2.06.94zm-11 1L8.5 8.5l.94-2.06 2.06-.94-2.06-.94L8.5 2.5l-.94 2.06-2.06.94zm10 10l.94 2.06.94-2.06 2.06-.94-2.06-.94-.94-2.06-.94 2.06-2.06.94z\"/><path d=\"M17.41 7.96l-1.37-1.37c-.4-.4-.92-.59-1.43-.59-.52 0-1.04.2-1.43.59L10.3 9.45l-7.72 7.72c-.78.78-.78 2.05 0 2.83L4 21.41c.39.39.9.59 1.41.59.51 0 1.02-.2 1.41-.59l7.78-7.78 2.81-2.81c.8-.78.8-2.07 0-2.86zM5.41 20L4 18.59l7.72-7.72 1.47 1.35L5.41 20z\"/>\n",
              "  </svg>\n",
              "      </button>\n",
              "      \n",
              "  <style>\n",
              "    .colab-df-container {\n",
              "      display:flex;\n",
              "      flex-wrap:wrap;\n",
              "      gap: 12px;\n",
              "    }\n",
              "\n",
              "    .colab-df-convert {\n",
              "      background-color: #E8F0FE;\n",
              "      border: none;\n",
              "      border-radius: 50%;\n",
              "      cursor: pointer;\n",
              "      display: none;\n",
              "      fill: #1967D2;\n",
              "      height: 32px;\n",
              "      padding: 0 0 0 0;\n",
              "      width: 32px;\n",
              "    }\n",
              "\n",
              "    .colab-df-convert:hover {\n",
              "      background-color: #E2EBFA;\n",
              "      box-shadow: 0px 1px 2px rgba(60, 64, 67, 0.3), 0px 1px 3px 1px rgba(60, 64, 67, 0.15);\n",
              "      fill: #174EA6;\n",
              "    }\n",
              "\n",
              "    [theme=dark] .colab-df-convert {\n",
              "      background-color: #3B4455;\n",
              "      fill: #D2E3FC;\n",
              "    }\n",
              "\n",
              "    [theme=dark] .colab-df-convert:hover {\n",
              "      background-color: #434B5C;\n",
              "      box-shadow: 0px 1px 3px 1px rgba(0, 0, 0, 0.15);\n",
              "      filter: drop-shadow(0px 1px 2px rgba(0, 0, 0, 0.3));\n",
              "      fill: #FFFFFF;\n",
              "    }\n",
              "  </style>\n",
              "\n",
              "      <script>\n",
              "        const buttonEl =\n",
              "          document.querySelector('#df-23d2719e-f451-4860-ab9a-d276e1209c2d button.colab-df-convert');\n",
              "        buttonEl.style.display =\n",
              "          google.colab.kernel.accessAllowed ? 'block' : 'none';\n",
              "\n",
              "        async function convertToInteractive(key) {\n",
              "          const element = document.querySelector('#df-23d2719e-f451-4860-ab9a-d276e1209c2d');\n",
              "          const dataTable =\n",
              "            await google.colab.kernel.invokeFunction('convertToInteractive',\n",
              "                                                     [key], {});\n",
              "          if (!dataTable) return;\n",
              "\n",
              "          const docLinkHtml = 'Like what you see? Visit the ' +\n",
              "            '<a target=\"_blank\" href=https://colab.research.google.com/notebooks/data_table.ipynb>data table notebook</a>'\n",
              "            + ' to learn more about interactive tables.';\n",
              "          element.innerHTML = '';\n",
              "          dataTable['output_type'] = 'display_data';\n",
              "          await google.colab.output.renderOutput(dataTable, element);\n",
              "          const docLink = document.createElement('div');\n",
              "          docLink.innerHTML = docLinkHtml;\n",
              "          element.appendChild(docLink);\n",
              "        }\n",
              "      </script>\n",
              "    </div>\n",
              "  </div>\n",
              "  "
            ]
          },
          "metadata": {},
          "execution_count": 30
        }
      ]
    },
    {
      "cell_type": "markdown",
      "source": [
        "# Plotting Ti vs Distance_from_Wuhan"
      ],
      "metadata": {
        "id": "3zZbaC1WQDaA"
      }
    },
    {
      "cell_type": "code",
      "source": [
        "plt.scatter(df_ti_d.loc[:,'Ti'],df_ti_d.loc[:,'Dist_Wuhan'])\n",
        "plt.xlabel('Ti (Average Time to get infected)')\n",
        "plt.ylabel('Distance from WUHAN')\n",
        "plt.show()\n"
      ],
      "metadata": {
        "id": "pkZidqPTk1Hf",
        "colab": {
          "base_uri": "https://localhost:8080/",
          "height": 279
        },
        "outputId": "c1099b81-7396-4a71-c730-970b9f280b37"
      },
      "execution_count": null,
      "outputs": [
        {
          "output_type": "display_data",
          "data": {
            "text/plain": [
              "<Figure size 432x288 with 1 Axes>"
            ],
            "image/png": "[encoded data removed]"
          },
          "metadata": {
            "needs_background": "light"
          }
        }
      ]
    },
    {
      "cell_type": "markdown",
      "source": [
        "# Task 3.c\n",
        "\n",
        "Importing nodes data for getting information about country of each airport so that it can be plotted on the world map"
      ],
      "metadata": {
        "id": "DAOO2O6NQxEz"
      }
    },
    {
      "cell_type": "code",
      "source": [
        "df_air = pd.read_csv(\"airports.csv\")\n",
        "df_air"
      ],
      "metadata": {
        "id": "7k2v3w7R2cJ4",
        "colab": {
          "base_uri": "https://localhost:8080/",
          "height": 423
        },
        "outputId": "c987740b-e0e3-4150-cdad-7145470d3d1e"
      },
      "execution_count": null,
      "outputs": [
        {
          "output_type": "execute_result",
          "data": {
            "text/plain": [
              "      Nodes        Lat        Long           Country\n",
              "0       GKA  -6.081690  145.391998  Papua New Guinea\n",
              "1       MAG  -5.207080  145.789002  Papua New Guinea\n",
              "2       HGU  -5.826790  144.296005  Papua New Guinea\n",
              "3       LAE  -6.569803  146.725977  Papua New Guinea\n",
              "4       POM  -9.443380  147.220001  Papua New Guinea\n",
              "...     ...        ...         ...               ...\n",
              "12663    \\N  51.849998  107.737999            Russia\n",
              "12664    \\N  58.625000   31.385000            Russia\n",
              "12665   CPO -27.261200  -70.779198             Chile\n",
              "12666    \\N  46.880001   35.305000           Ukraine\n",
              "12667    \\N  40.815833  -96.713889     United States\n",
              "\n",
              "[12668 rows x 4 columns]"
            ],
            "text/html": [
              "\n",
              "  <div id=\"df-a2eeb03f-f128-4a29-83c2-39e3d9885067\">\n",
              "    <div class=\"colab-df-container\">\n",
              "      <div>\n",
              "<style scoped>\n",
              "    .dataframe tbody tr th:only-of-type {\n",
              "        vertical-align: middle;\n",
              "    }\n",
              "\n",
              "    .dataframe tbody tr th {\n",
              "        vertical-align: top;\n",
              "    }\n",
              "\n",
              "    .dataframe thead th {\n",
              "        text-align: right;\n",
              "    }\n",
              "</style>\n",
              "<table border=\"1\" class=\"dataframe\">\n",
              "  <thead>\n",
              "    <tr style=\"text-align: right;\">\n",
              "      <th></th>\n",
              "      <th>Nodes</th>\n",
              "      <th>Lat</th>\n",
              "      <th>Long</th>\n",
              "      <th>Country</th>\n",
              "    </tr>\n",
              "  </thead>\n",
              "  <tbody>\n",
              "    <tr>\n",
              "      <th>0</th>\n",
              "      <td>GKA</td>\n",
              "      <td>-6.081690</td>\n",
              "      <td>145.391998</td>\n",
              "      <td>Papua New Guinea</td>\n",
              "    </tr>\n",
              "    <tr>\n",
              "      <th>1</th>\n",
              "      <td>MAG</td>\n",
              "      <td>-5.207080</td>\n",
              "      <td>145.789002</td>\n",
              "      <td>Papua New Guinea</td>\n",
              "    </tr>\n",
              "    <tr>\n",
              "      <th>2</th>\n",
              "      <td>HGU</td>\n",
              "      <td>-5.826790</td>\n",
              "      <td>144.296005</td>\n",
              "      <td>Papua New Guinea</td>\n",
              "    </tr>\n",
              "    <tr>\n",
              "      <th>3</th>\n",
              "      <td>LAE</td>\n",
              "      <td>-6.569803</td>\n",
              "      <td>146.725977</td>\n",
              "      <td>Papua New Guinea</td>\n",
              "    </tr>\n",
              "    <tr>\n",
              "      <th>4</th>\n",
              "      <td>POM</td>\n",
              "      <td>-9.443380</td>\n",
              "      <td>147.220001</td>\n",
              "      <td>Papua New Guinea</td>\n",
              "    </tr>\n",
              "    <tr>\n",
              "      <th>...</th>\n",
              "      <td>...</td>\n",
              "      <td>...</td>\n",
              "      <td>...</td>\n",
              "      <td>...</td>\n",
              "    </tr>\n",
              "    <tr>\n",
              "      <th>12663</th>\n",
              "      <td>\\N</td>\n",
              "      <td>51.849998</td>\n",
              "      <td>107.737999</td>\n",
              "      <td>Russia</td>\n",
              "    </tr>\n",
              "    <tr>\n",
              "      <th>12664</th>\n",
              "      <td>\\N</td>\n",
              "      <td>58.625000</td>\n",
              "      <td>31.385000</td>\n",
              "      <td>Russia</td>\n",
              "    </tr>\n",
              "    <tr>\n",
              "      <th>12665</th>\n",
              "      <td>CPO</td>\n",
              "      <td>-27.261200</td>\n",
              "      <td>-70.779198</td>\n",
              "      <td>Chile</td>\n",
              "    </tr>\n",
              "    <tr>\n",
              "      <th>12666</th>\n",
              "      <td>\\N</td>\n",
              "      <td>46.880001</td>\n",
              "      <td>35.305000</td>\n",
              "      <td>Ukraine</td>\n",
              "    </tr>\n",
              "    <tr>\n",
              "      <th>12667</th>\n",
              "      <td>\\N</td>\n",
              "      <td>40.815833</td>\n",
              "      <td>-96.713889</td>\n",
              "      <td>United States</td>\n",
              "    </tr>\n",
              "  </tbody>\n",
              "</table>\n",
              "<p>12668 rows × 4 columns</p>\n",
              "</div>\n",
              "      <button class=\"colab-df-convert\" onclick=\"convertToInteractive('df-a2eeb03f-f128-4a29-83c2-39e3d9885067')\"\n",
              "              title=\"Convert this dataframe to an interactive table.\"\n",
              "              style=\"display:none;\">\n",
              "        \n",
              "  <svg xmlns=\"http://www.w3.org/2000/svg\" height=\"24px\"viewBox=\"0 0 24 24\"\n",
              "       width=\"24px\">\n",
              "    <path d=\"M0 0h24v24H0V0z\" fill=\"none\"/>\n",
              "    <path d=\"M18.56 5.44l.94 2.06.94-2.06 2.06-.94-2.06-.94-.94-2.06-.94 2.06-2.06.94zm-11 1L8.5 8.5l.94-2.06 2.06-.94-2.06-.94L8.5 2.5l-.94 2.06-2.06.94zm10 10l.94 2.06.94-2.06 2.06-.94-2.06-.94-.94-2.06-.94 2.06-2.06.94z\"/><path d=\"M17.41 7.96l-1.37-1.37c-.4-.4-.92-.59-1.43-.59-.52 0-1.04.2-1.43.59L10.3 9.45l-7.72 7.72c-.78.78-.78 2.05 0 2.83L4 21.41c.39.39.9.59 1.41.59.51 0 1.02-.2 1.41-.59l7.78-7.78 2.81-2.81c.8-.78.8-2.07 0-2.86zM5.41 20L4 18.59l7.72-7.72 1.47 1.35L5.41 20z\"/>\n",
              "  </svg>\n",
              "      </button>\n",
              "      \n",
              "  <style>\n",
              "    .colab-df-container {\n",
              "      display:flex;\n",
              "      flex-wrap:wrap;\n",
              "      gap: 12px;\n",
              "    }\n",
              "\n",
              "    .colab-df-convert {\n",
              "      background-color: #E8F0FE;\n",
              "      border: none;\n",
              "      border-radius: 50%;\n",
              "      cursor: pointer;\n",
              "      display: none;\n",
              "      fill: #1967D2;\n",
              "      height: 32px;\n",
              "      padding: 0 0 0 0;\n",
              "      width: 32px;\n",
              "    }\n",
              "\n",
              "    .colab-df-convert:hover {\n",
              "      background-color: #E2EBFA;\n",
              "      box-shadow: 0px 1px 2px rgba(60, 64, 67, 0.3), 0px 1px 3px 1px rgba(60, 64, 67, 0.15);\n",
              "      fill: #174EA6;\n",
              "    }\n",
              "\n",
              "    [theme=dark] .colab-df-convert {\n",
              "      background-color: #3B4455;\n",
              "      fill: #D2E3FC;\n",
              "    }\n",
              "\n",
              "    [theme=dark] .colab-df-convert:hover {\n",
              "      background-color: #434B5C;\n",
              "      box-shadow: 0px 1px 3px 1px rgba(0, 0, 0, 0.15);\n",
              "      filter: drop-shadow(0px 1px 2px rgba(0, 0, 0, 0.3));\n",
              "      fill: #FFFFFF;\n",
              "    }\n",
              "  </style>\n",
              "\n",
              "      <script>\n",
              "        const buttonEl =\n",
              "          document.querySelector('#df-a2eeb03f-f128-4a29-83c2-39e3d9885067 button.colab-df-convert');\n",
              "        buttonEl.style.display =\n",
              "          google.colab.kernel.accessAllowed ? 'block' : 'none';\n",
              "\n",
              "        async function convertToInteractive(key) {\n",
              "          const element = document.querySelector('#df-a2eeb03f-f128-4a29-83c2-39e3d9885067');\n",
              "          const dataTable =\n",
              "            await google.colab.kernel.invokeFunction('convertToInteractive',\n",
              "                                                     [key], {});\n",
              "          if (!dataTable) return;\n",
              "\n",
              "          const docLinkHtml = 'Like what you see? Visit the ' +\n",
              "            '<a target=\"_blank\" href=https://colab.research.google.com/notebooks/data_table.ipynb>data table notebook</a>'\n",
              "            + ' to learn more about interactive tables.';\n",
              "          element.innerHTML = '';\n",
              "          dataTable['output_type'] = 'display_data';\n",
              "          await google.colab.output.renderOutput(dataTable, element);\n",
              "          const docLink = document.createElement('div');\n",
              "          docLink.innerHTML = docLinkHtml;\n",
              "          element.appendChild(docLink);\n",
              "        }\n",
              "      </script>\n",
              "    </div>\n",
              "  </div>\n",
              "  "
            ]
          },
          "metadata": {},
          "execution_count": 86
        }
      ]
    },
    {
      "cell_type": "markdown",
      "source": [
        "Joining on the above dataframe with our previous dataframe to aggregate the location and country data with Ti data."
      ],
      "metadata": {
        "id": "5f6ONienRLOY"
      }
    },
    {
      "cell_type": "code",
      "source": [
        "df_merge = pd.merge(df_ti_ki,df_air, how = 'inner', on =\"Nodes\")\n",
        "df_merge"
      ],
      "metadata": {
        "id": "81mPkirv7tmT",
        "colab": {
          "base_uri": "https://localhost:8080/",
          "height": 423
        },
        "outputId": "1360ef5c-ad03-4c02-f091-0c3dd3779016"
      },
      "execution_count": null,
      "outputs": [
        {
          "output_type": "execute_result",
          "data": {
            "text/plain": [
              "     Nodes        Ti  ki        Lat        Long    Country\n",
              "0      AER  0.204113  18  43.449902   39.956600     Russia\n",
              "1      KZN  0.209721  21  55.606201   49.278702     Russia\n",
              "2      ASF  0.272290   7  46.283298   48.006302     Russia\n",
              "3      MRV  0.203348  16  44.225101   43.081902     Russia\n",
              "4      CEK  0.210750  14  55.305801   61.503300     Russia\n",
              "...    ...       ...  ..        ...         ...        ...\n",
              "3371   WIN  0.945514   2 -22.363600  143.085998  Australia\n",
              "3372   LSY  1.275512   1 -28.830299  153.259995  Australia\n",
              "3373   MIM  0.498715   3 -36.908600  149.901001  Australia\n",
              "3374   MYA  0.822821   2 -35.897800  150.143997  Australia\n",
              "3375   OAG  0.980349   1 -33.381699  149.132996  Australia\n",
              "\n",
              "[3376 rows x 6 columns]"
            ],
            "text/html": [
              "\n",
              "  <div id=\"df-6cdf75da-34bd-4b69-aad8-7ccdfd6a57b4\">\n",
              "    <div class=\"colab-df-container\">\n",
              "      <div>\n",
              "<style scoped>\n",
              "    .dataframe tbody tr th:only-of-type {\n",
              "        vertical-align: middle;\n",
              "    }\n",
              "\n",
              "    .dataframe tbody tr th {\n",
              "        vertical-align: top;\n",
              "    }\n",
              "\n",
              "    .dataframe thead th {\n",
              "        text-align: right;\n",
              "    }\n",
              "</style>\n",
              "<table border=\"1\" class=\"dataframe\">\n",
              "  <thead>\n",
              "    <tr style=\"text-align: right;\">\n",
              "      <th></th>\n",
              "      <th>Nodes</th>\n",
              "      <th>Ti</th>\n",
              "      <th>ki</th>\n",
              "      <th>Lat</th>\n",
              "      <th>Long</th>\n",
              "      <th>Country</th>\n",
              "    </tr>\n",
              "  </thead>\n",
              "  <tbody>\n",
              "    <tr>\n",
              "      <th>0</th>\n",
              "      <td>AER</td>\n",
              "      <td>0.204113</td>\n",
              "      <td>18</td>\n",
              "      <td>43.449902</td>\n",
              "      <td>39.956600</td>\n",
              "      <td>Russia</td>\n",
              "    </tr>\n",
              "    <tr>\n",
              "      <th>1</th>\n",
              "      <td>KZN</td>\n",
              "      <td>0.209721</td>\n",
              "      <td>21</td>\n",
              "      <td>55.606201</td>\n",
              "      <td>49.278702</td>\n",
              "      <td>Russia</td>\n",
              "    </tr>\n",
              "    <tr>\n",
              "      <th>2</th>\n",
              "      <td>ASF</td>\n",
              "      <td>0.272290</td>\n",
              "      <td>7</td>\n",
              "      <td>46.283298</td>\n",
              "      <td>48.006302</td>\n",
              "      <td>Russia</td>\n",
              "    </tr>\n",
              "    <tr>\n",
              "      <th>3</th>\n",
              "      <td>MRV</td>\n",
              "      <td>0.203348</td>\n",
              "      <td>16</td>\n",
              "      <td>44.225101</td>\n",
              "      <td>43.081902</td>\n",
              "      <td>Russia</td>\n",
              "    </tr>\n",
              "    <tr>\n",
              "      <th>4</th>\n",
              "      <td>CEK</td>\n",
              "      <td>0.210750</td>\n",
              "      <td>14</td>\n",
              "      <td>55.305801</td>\n",
              "      <td>61.503300</td>\n",
              "      <td>Russia</td>\n",
              "    </tr>\n",
              "    <tr>\n",
              "      <th>...</th>\n",
              "      <td>...</td>\n",
              "      <td>...</td>\n",
              "      <td>...</td>\n",
              "      <td>...</td>\n",
              "      <td>...</td>\n",
              "      <td>...</td>\n",
              "    </tr>\n",
              "    <tr>\n",
              "      <th>3371</th>\n",
              "      <td>WIN</td>\n",
              "      <td>0.945514</td>\n",
              "      <td>2</td>\n",
              "      <td>-22.363600</td>\n",
              "      <td>143.085998</td>\n",
              "      <td>Australia</td>\n",
              "    </tr>\n",
              "    <tr>\n",
              "      <th>3372</th>\n",
              "      <td>LSY</td>\n",
              "      <td>1.275512</td>\n",
              "      <td>1</td>\n",
              "      <td>-28.830299</td>\n",
              "      <td>153.259995</td>\n",
              "      <td>Australia</td>\n",
              "    </tr>\n",
              "    <tr>\n",
              "      <th>3373</th>\n",
              "      <td>MIM</td>\n",
              "      <td>0.498715</td>\n",
              "      <td>3</td>\n",
              "      <td>-36.908600</td>\n",
              "      <td>149.901001</td>\n",
              "      <td>Australia</td>\n",
              "    </tr>\n",
              "    <tr>\n",
              "      <th>3374</th>\n",
              "      <td>MYA</td>\n",
              "      <td>0.822821</td>\n",
              "      <td>2</td>\n",
              "      <td>-35.897800</td>\n",
              "      <td>150.143997</td>\n",
              "      <td>Australia</td>\n",
              "    </tr>\n",
              "    <tr>\n",
              "      <th>3375</th>\n",
              "      <td>OAG</td>\n",
              "      <td>0.980349</td>\n",
              "      <td>1</td>\n",
              "      <td>-33.381699</td>\n",
              "      <td>149.132996</td>\n",
              "      <td>Australia</td>\n",
              "    </tr>\n",
              "  </tbody>\n",
              "</table>\n",
              "<p>3376 rows × 6 columns</p>\n",
              "</div>\n",
              "      <button class=\"colab-df-convert\" onclick=\"convertToInteractive('df-6cdf75da-34bd-4b69-aad8-7ccdfd6a57b4')\"\n",
              "              title=\"Convert this dataframe to an interactive table.\"\n",
              "              style=\"display:none;\">\n",
              "        \n",
              "  <svg xmlns=\"http://www.w3.org/2000/svg\" height=\"24px\"viewBox=\"0 0 24 24\"\n",
              "       width=\"24px\">\n",
              "    <path d=\"M0 0h24v24H0V0z\" fill=\"none\"/>\n",
              "    <path d=\"M18.56 5.44l.94 2.06.94-2.06 2.06-.94-2.06-.94-.94-2.06-.94 2.06-2.06.94zm-11 1L8.5 8.5l.94-2.06 2.06-.94-2.06-.94L8.5 2.5l-.94 2.06-2.06.94zm10 10l.94 2.06.94-2.06 2.06-.94-2.06-.94-.94-2.06-.94 2.06-2.06.94z\"/><path d=\"M17.41 7.96l-1.37-1.37c-.4-.4-.92-.59-1.43-.59-.52 0-1.04.2-1.43.59L10.3 9.45l-7.72 7.72c-.78.78-.78 2.05 0 2.83L4 21.41c.39.39.9.59 1.41.59.51 0 1.02-.2 1.41-.59l7.78-7.78 2.81-2.81c.8-.78.8-2.07 0-2.86zM5.41 20L4 18.59l7.72-7.72 1.47 1.35L5.41 20z\"/>\n",
              "  </svg>\n",
              "      </button>\n",
              "      \n",
              "  <style>\n",
              "    .colab-df-container {\n",
              "      display:flex;\n",
              "      flex-wrap:wrap;\n",
              "      gap: 12px;\n",
              "    }\n",
              "\n",
              "    .colab-df-convert {\n",
              "      background-color: #E8F0FE;\n",
              "      border: none;\n",
              "      border-radius: 50%;\n",
              "      cursor: pointer;\n",
              "      display: none;\n",
              "      fill: #1967D2;\n",
              "      height: 32px;\n",
              "      padding: 0 0 0 0;\n",
              "      width: 32px;\n",
              "    }\n",
              "\n",
              "    .colab-df-convert:hover {\n",
              "      background-color: #E2EBFA;\n",
              "      box-shadow: 0px 1px 2px rgba(60, 64, 67, 0.3), 0px 1px 3px 1px rgba(60, 64, 67, 0.15);\n",
              "      fill: #174EA6;\n",
              "    }\n",
              "\n",
              "    [theme=dark] .colab-df-convert {\n",
              "      background-color: #3B4455;\n",
              "      fill: #D2E3FC;\n",
              "    }\n",
              "\n",
              "    [theme=dark] .colab-df-convert:hover {\n",
              "      background-color: #434B5C;\n",
              "      box-shadow: 0px 1px 3px 1px rgba(0, 0, 0, 0.15);\n",
              "      filter: drop-shadow(0px 1px 2px rgba(0, 0, 0, 0.3));\n",
              "      fill: #FFFFFF;\n",
              "    }\n",
              "  </style>\n",
              "\n",
              "      <script>\n",
              "        const buttonEl =\n",
              "          document.querySelector('#df-6cdf75da-34bd-4b69-aad8-7ccdfd6a57b4 button.colab-df-convert');\n",
              "        buttonEl.style.display =\n",
              "          google.colab.kernel.accessAllowed ? 'block' : 'none';\n",
              "\n",
              "        async function convertToInteractive(key) {\n",
              "          const element = document.querySelector('#df-6cdf75da-34bd-4b69-aad8-7ccdfd6a57b4');\n",
              "          const dataTable =\n",
              "            await google.colab.kernel.invokeFunction('convertToInteractive',\n",
              "                                                     [key], {});\n",
              "          if (!dataTable) return;\n",
              "\n",
              "          const docLinkHtml = 'Like what you see? Visit the ' +\n",
              "            '<a target=\"_blank\" href=https://colab.research.google.com/notebooks/data_table.ipynb>data table notebook</a>'\n",
              "            + ' to learn more about interactive tables.';\n",
              "          element.innerHTML = '';\n",
              "          dataTable['output_type'] = 'display_data';\n",
              "          await google.colab.output.renderOutput(dataTable, element);\n",
              "          const docLink = document.createElement('div');\n",
              "          docLink.innerHTML = docLinkHtml;\n",
              "          element.appendChild(docLink);\n",
              "        }\n",
              "      </script>\n",
              "    </div>\n",
              "  </div>\n",
              "  "
            ]
          },
          "metadata": {},
          "execution_count": 87
        }
      ]
    },
    {
      "cell_type": "markdown",
      "source": [
        "Grouping the rows in above dataframe by Country columns. In other words, merging the rows which have same country name in the column Country and aggregating the values of Ti by taking their avearge."
      ],
      "metadata": {
        "id": "mrWTvTaoR3Yf"
      }
    },
    {
      "cell_type": "code",
      "source": [
        "# df_merge = pd.merge(df_ti_ki,df_air, how = 'inner', on =\"Nodes\")\n",
        "# df_merge\n",
        "df_country = pd.DataFrame(df_merge.groupby(\"Country\")[\"Ti\"].mean())\n",
        "df_country\n"
      ],
      "metadata": {
        "colab": {
          "base_uri": "https://localhost:8080/",
          "height": 455
        },
        "id": "2iZ4fHw4cYBT",
        "outputId": "c5658b1d-6fc9-4505-ffb8-008f4c75dc14"
      },
      "execution_count": null,
      "outputs": [
        {
          "output_type": "execute_result",
          "data": {
            "text/plain": [
              "                         Ti\n",
              "Country                    \n",
              "Afghanistan        0.344554\n",
              "Albania            0.187898\n",
              "Algeria            0.721814\n",
              "American Samoa     1.107116\n",
              "Angola             0.858772\n",
              "...                     ...\n",
              "Wallis and Futuna  1.282507\n",
              "Western Sahara     0.499516\n",
              "Yemen              0.592525\n",
              "Zambia             0.774447\n",
              "Zimbabwe           0.455791\n",
              "\n",
              "[226 rows x 1 columns]"
            ],
            "text/html": [
              "\n",
              "  <div id=\"df-afdc9c6b-fde0-47fd-9c8b-e7942423f65a\">\n",
              "    <div class=\"colab-df-container\">\n",
              "      <div>\n",
              "<style scoped>\n",
              "    .dataframe tbody tr th:only-of-type {\n",
              "        vertical-align: middle;\n",
              "    }\n",
              "\n",
              "    .dataframe tbody tr th {\n",
              "        vertical-align: top;\n",
              "    }\n",
              "\n",
              "    .dataframe thead th {\n",
              "        text-align: right;\n",
              "    }\n",
              "</style>\n",
              "<table border=\"1\" class=\"dataframe\">\n",
              "  <thead>\n",
              "    <tr style=\"text-align: right;\">\n",
              "      <th></th>\n",
              "      <th>Ti</th>\n",
              "    </tr>\n",
              "    <tr>\n",
              "      <th>Country</th>\n",
              "      <th></th>\n",
              "    </tr>\n",
              "  </thead>\n",
              "  <tbody>\n",
              "    <tr>\n",
              "      <th>Afghanistan</th>\n",
              "      <td>0.344554</td>\n",
              "    </tr>\n",
              "    <tr>\n",
              "      <th>Albania</th>\n",
              "      <td>0.187898</td>\n",
              "    </tr>\n",
              "    <tr>\n",
              "      <th>Algeria</th>\n",
              "      <td>0.721814</td>\n",
              "    </tr>\n",
              "    <tr>\n",
              "      <th>American Samoa</th>\n",
              "      <td>1.107116</td>\n",
              "    </tr>\n",
              "    <tr>\n",
              "      <th>Angola</th>\n",
              "      <td>0.858772</td>\n",
              "    </tr>\n",
              "    <tr>\n",
              "      <th>...</th>\n",
              "      <td>...</td>\n",
              "    </tr>\n",
              "    <tr>\n",
              "      <th>Wallis and Futuna</th>\n",
              "      <td>1.282507</td>\n",
              "    </tr>\n",
              "    <tr>\n",
              "      <th>Western Sahara</th>\n",
              "      <td>0.499516</td>\n",
              "    </tr>\n",
              "    <tr>\n",
              "      <th>Yemen</th>\n",
              "      <td>0.592525</td>\n",
              "    </tr>\n",
              "    <tr>\n",
              "      <th>Zambia</th>\n",
              "      <td>0.774447</td>\n",
              "    </tr>\n",
              "    <tr>\n",
              "      <th>Zimbabwe</th>\n",
              "      <td>0.455791</td>\n",
              "    </tr>\n",
              "  </tbody>\n",
              "</table>\n",
              "<p>226 rows × 1 columns</p>\n",
              "</div>\n",
              "      <button class=\"colab-df-convert\" onclick=\"convertToInteractive('df-afdc9c6b-fde0-47fd-9c8b-e7942423f65a')\"\n",
              "              title=\"Convert this dataframe to an interactive table.\"\n",
              "              style=\"display:none;\">\n",
              "        \n",
              "  <svg xmlns=\"http://www.w3.org/2000/svg\" height=\"24px\"viewBox=\"0 0 24 24\"\n",
              "       width=\"24px\">\n",
              "    <path d=\"M0 0h24v24H0V0z\" fill=\"none\"/>\n",
              "    <path d=\"M18.56 5.44l.94 2.06.94-2.06 2.06-.94-2.06-.94-.94-2.06-.94 2.06-2.06.94zm-11 1L8.5 8.5l.94-2.06 2.06-.94-2.06-.94L8.5 2.5l-.94 2.06-2.06.94zm10 10l.94 2.06.94-2.06 2.06-.94-2.06-.94-.94-2.06-.94 2.06-2.06.94z\"/><path d=\"M17.41 7.96l-1.37-1.37c-.4-.4-.92-.59-1.43-.59-.52 0-1.04.2-1.43.59L10.3 9.45l-7.72 7.72c-.78.78-.78 2.05 0 2.83L4 21.41c.39.39.9.59 1.41.59.51 0 1.02-.2 1.41-.59l7.78-7.78 2.81-2.81c.8-.78.8-2.07 0-2.86zM5.41 20L4 18.59l7.72-7.72 1.47 1.35L5.41 20z\"/>\n",
              "  </svg>\n",
              "      </button>\n",
              "      \n",
              "  <style>\n",
              "    .colab-df-container {\n",
              "      display:flex;\n",
              "      flex-wrap:wrap;\n",
              "      gap: 12px;\n",
              "    }\n",
              "\n",
              "    .colab-df-convert {\n",
              "      background-color: #E8F0FE;\n",
              "      border: none;\n",
              "      border-radius: 50%;\n",
              "      cursor: pointer;\n",
              "      display: none;\n",
              "      fill: #1967D2;\n",
              "      height: 32px;\n",
              "      padding: 0 0 0 0;\n",
              "      width: 32px;\n",
              "    }\n",
              "\n",
              "    .colab-df-convert:hover {\n",
              "      background-color: #E2EBFA;\n",
              "      box-shadow: 0px 1px 2px rgba(60, 64, 67, 0.3), 0px 1px 3px 1px rgba(60, 64, 67, 0.15);\n",
              "      fill: #174EA6;\n",
              "    }\n",
              "\n",
              "    [theme=dark] .colab-df-convert {\n",
              "      background-color: #3B4455;\n",
              "      fill: #D2E3FC;\n",
              "    }\n",
              "\n",
              "    [theme=dark] .colab-df-convert:hover {\n",
              "      background-color: #434B5C;\n",
              "      box-shadow: 0px 1px 3px 1px rgba(0, 0, 0, 0.15);\n",
              "      filter: drop-shadow(0px 1px 2px rgba(0, 0, 0, 0.3));\n",
              "      fill: #FFFFFF;\n",
              "    }\n",
              "  </style>\n",
              "\n",
              "      <script>\n",
              "        const buttonEl =\n",
              "          document.querySelector('#df-afdc9c6b-fde0-47fd-9c8b-e7942423f65a button.colab-df-convert');\n",
              "        buttonEl.style.display =\n",
              "          google.colab.kernel.accessAllowed ? 'block' : 'none';\n",
              "\n",
              "        async function convertToInteractive(key) {\n",
              "          const element = document.querySelector('#df-afdc9c6b-fde0-47fd-9c8b-e7942423f65a');\n",
              "          const dataTable =\n",
              "            await google.colab.kernel.invokeFunction('convertToInteractive',\n",
              "                                                     [key], {});\n",
              "          if (!dataTable) return;\n",
              "\n",
              "          const docLinkHtml = 'Like what you see? Visit the ' +\n",
              "            '<a target=\"_blank\" href=https://colab.research.google.com/notebooks/data_table.ipynb>data table notebook</a>'\n",
              "            + ' to learn more about interactive tables.';\n",
              "          element.innerHTML = '';\n",
              "          dataTable['output_type'] = 'display_data';\n",
              "          await google.colab.output.renderOutput(dataTable, element);\n",
              "          const docLink = document.createElement('div');\n",
              "          docLink.innerHTML = docLinkHtml;\n",
              "          element.appendChild(docLink);\n",
              "        }\n",
              "      </script>\n",
              "    </div>\n",
              "  </div>\n",
              "  "
            ]
          },
          "metadata": {},
          "execution_count": 36
        }
      ]
    },
    {
      "cell_type": "markdown",
      "source": [
        "Here, I have exported the above dataframe to a csv file and consequently plotted the data on world map colored according to the T value using Excel. The image below is pasted from Excel worksheet"
      ],
      "metadata": {
        "id": "TCRr8gTcSRRI"
      }
    },
    {
      "cell_type": "code",
      "source": [
        "df_country.to_csv('country_ti.csv', index=True)"
      ],
      "metadata": {
        "id": "HiT0kUDQdl1J"
      },
      "execution_count": null,
      "outputs": []
    },
    {
      "cell_type": "markdown",
      "source": [
        "![image.png](data:image/png;base64,iVBORw0KGgoAAAANSUhEUgAAAs8AAAGtCAYAAADpppl7AAAAAXNSR0IArs4c6QAAAARnQU1BAACxjwv8YQUAAAAJcEhZcwAADsMAAA7DAcdvqGQAAP+lSURBVHhe7J0HQFRX9sY/u9J7B2kCKqjYe+81GjW9103fTfknm2ST7G7qpuym92aiscTeuyKogIIUKdJ7bwJ2/d9zmNEBBxgQbJyfuWFemTdv3ryZ993zvntOOwAXVBMEQRAEQRAEoQEuXLiA9prHgiAIgiAIgiA0gohnQRAEQRAEQTAQEc+CIAiCIAiCYCAingVBEARBEATBQEQ8C4IgCIIgCIKBiHgWBEEQBEEQBAMR8SwIgiAIgiAIBiLiWRAEQRAEQRAMRMSzIAiCIAiCIBiIiGdBEARBEARBMBARz4IgCIIgCIJgICKeBUEQBEEQBMFARDwLgiAIgiAIgoGIeBYEQRAEQRAEAxHxLAiCIAiCIAgGIuJZEARBEARBEAxExLMgCMJV5ssvv0RFRQXCwsI0c258brnlFn5P1OixIAjCzYqIZ0FoIYYOHYrNmzcjJSXlooigxytXruRlwiVefvllLFq0CI8++qhmTtvC1NRU8+jmwc7OTvOo9mPhygkKCrr4m2Joow4aQR0Z+q69++67PC0IwpUj4lkQWgC6OG3duhXDhw+HjY2NZi748cSJE3mZXLwu8dxzz2HOnDl45JFHNHMEQWgNnn/+ef6uPfnkk5o5giBcKSKeBeEKocgyXZyIhIQEvPPOOzAzM+N27733Yvv27bzsRr94UfRcG9W60kh6ZmYm/y0uLua/giDUz6hRoy7+pmjbCy+8oFmKy5ZRe+KJJ3hZWloa/y0qKuK/giBcGbGxsSKeBeFKINsBRZaJkJAQDBo0CO+99x5PE6tXr8a8efNYRFdXV2vm3pj06dNH86j24+ZAx4ku8FOnTtXMEQShNbjnnnv4u+bp6amZIwjCldC7d28Rz4JwJWhtBxTVaUgIkoh2cHDQTAmCIAiCcKMi4lkQmglZF3x9ffkxDRRsLuSFpqwLuoN9aLo+j7Q2q0FeXp5mzuXQMlpHO2hIizbLg3Z/6TXoFpT2dWlgUt1MCRRdp2UffvihZg74se5ztOhu38XFhS0t2vXosRbtACjyiutD+1zdwZe0n7Q+LdOHdsCm9r3TX+1+NAVan15H97jQY9offdvStz69Nr3HKxkQ2dzzgo4ZQZ+F9ljQvtWF1tc9Xo1tXwsN9qx7bGhec6Hn0n7UHWhL8+qzB2mPue5z9J27DaE9B7WfUVO3R/vQlHO0qZ9PS6H9TtJnKwhCy3FBmjRpTW/qonRBXZS4qYu83nUaauoCe0FdNC9uQ1+j5bSe7vPUxf7ict35uk27XF3Ia82nae121cX04np1G72G9jn03mhd3X3VPp+a7mvobl93fWq0rnY97WvX3T9qSmRcUKKCl9Nf7etot0PbrXtMdJ+jxAmvT3+107rrNtTovWqfp6/Ra+uur/u69TUlAms9h5r2OOkeE21rifOCXlN3fWq66yqBfHG+9njpvqa+faamb7vapvt83fOnoaY9DtS0+6H7WdOxrfvd0j0+2vND97UN/S5qX0eJ91rP1220ffqM6z63OedoUz4fQ5ohvwPUGjrXpEmT1vRGqL/6F0qTJq3hpnvh17e8sRYUFMTPpYsvCXHtxZYu/rrbXrlyZa3nGXLR1C6n7ejO190uNdoHrdig7WoFgb4Lre7r0uO6y6nV3T6JBHpf1HRFiFZo1N0/Wk8rXrXP1S6j/dSKnLriTnss6a/ufBJGTRHP2v2i40DP1c6nfafX1N2W7r7S37rra/eJmu4yatrjpO84t8R5QY2Ole5nq12P9k27Dm1fO1+7nvYcIIFdd5n2eXQsdLddV3zqvl5DjbZDx6Du+rRt7bGt+z61nVZarnt+0Pui/dA9zxpqup81/aVjq92e7nHQ/cyp6X7uTTlHdY8ftfo+H0Ob7vb0Lde2hs41adKkNb2JeJYm7Qqa9uLb2MVLX9MVMHVFirbpCiXtRZaaIRdN7XLahu583W3WvbhT041I1l2m+7r1Xewb2762aY9d3f3TFUa687VNdx90RYt2e3VFalOaIe9Pt2n3lZru56PbtPtV9/1oj1NdQdNS5wUJM93jo9u04ry+z0e7fdqG7nzt8+r7bGh72tc35Pg11uo7Rtr5dUV1U5v2s6lvf+lc0i7XPa+ae44a+vkY2nS3p2+5ttV3HKVJk9a8RojnWRCuAbfeeiv/pYGGr7zyCj+uyxdffKF5hIup8FoKShWnb4DjmjVrNI9qvM7Nhd7Xww8/rJkyHMrCQQQHB/Pfunz77beaR8D06dM1j4CTJ0/yX8osoEQJP24q2uNBx0b3depDu6+UZeXAgQP8uC7aNIWU71sJXX7cEC11Xrz66qvIysrSTNWmb9++/Jf8uvpQIpn/urq68l8t2uctXbqU/9alvu21NMePH+e/w4cPb5LHuT7oM9L3eVPWHG2GHBpdr6W556guDX0+giBc/4h4FoRmciU5iv38/PhvdnY2/9UHCTLtxbu5grA+6kubV58IbCp0bJojDrQDMEeMGMEDnPQ1fXz00Uf8nkjwhYeH82CzpgorrVjU5qBuDO2+pmgGgOnj4MGDmkeGpfdrqfOCsrvoQ7dD9Oyzz+o9vjS/LrrCPzU1VfOo5XhZU3FSdz/oHNAH5VGnz8jIyAi//vori316fnOpqqrSPLoc7blga2vLf4nmnqO61Pf5CIJwYyDiWRCaSWFhoeZR88WttoBBfRgq5G42KFJLIkVf01JQUKB5VCNGHn/8cS5SQ6KKopIkrEjINFVE636uhhAZGal5dDnNFUlX47ygzoK+46vtROh2sK40r3d90PcmNjYWf//73zmKrrsfupU6daFO2ZQpUzjiT1BEnJ5PnZgrEdENYW1trXl0iaaeo4Ig3DyIeBaEZkIXfS3NrR7o7u6ueaSfurfO2wpkH9Gtlqav1RWmNE231CdPnszPJ/FHQubrr782yDKhRTfKaAj9+vXTPLqc5toKrsZ5QRXq9B1XbdPNS95aInDVqlX8XsimQhHlXr16XXx9XQtRXUhAk82G1icbCz2fxCyJ6NYQ0Po6K805RwVBuDkQ8SwIzUTXE6mtMmgo2ouxs7Mz/9UHCT6KohJaH2pdmiIKbwS0x8XY2Jj/NgeyNZD3eeDAgSyq6Bga0rnR2nAMFabafW2octuQIUM0j2p7Yeujpc6L+ti4caPmEWBlZaV51Di6ItDDw0Pz6MqgjoU2SkvfJWpNtfrQ+uQNp8/gyJEjPE/rG28JtPuXl3cpp3pLnKOCINzYiHgWhCtg27Zt/JcusuTZrA8SChSp1kYiQ0ND+S9Fy+obmPfSSy/xXxLousJLVwDpGzD2biNFLpqLIeLvSiHbBdFQNNdQSFg1xZceERHBf0k86/tM6LPT9Tfr7mt9tp3Zs2fzX62wa4wrOS8MgY6JVvyNHTuW/xqK9nn6Oor0/vV5pRvCzs5O86j2Oa2lqeK0MatLfUyaNEnvHYIvv7xUYGjr1q2aRy17jgqCcGMi4lkQrgCKemlFBQlZigTqih6KEpKoJusAiTJtBIuibNrn/fOf/2TBqxVg9BzKXKAVKXWzGOgKoAceeODi69Hz6PWbayFpChTZJWif9QmP5vLBBx+wKCTxSO+lriilaTpWuseE3jeJ2rqdBtovbRTZkIgmfZYUqSboM9G9/U/bps9QG/EltPtK87Zs2VJrfXpt8ltrX58GNBrClZwXhqLt5JEvXF+HT3vO1j2ea9eu5b/UUaQBmdr9ovOP3r+hEXstuoL5008/1TyqgV6/vrs51Aml5brnBj3u378/P27qQF76/Mgfr7tNeu/z5s3jxySWdSPvzTlHBUG4+dCbx06aNGmGNXWxrJUztr6mLqi1nqcE1sVCDPW1+nLxKsGid31q6oJ+sVCDEgS1nkfTNJ/2V3e+btNuh16j7jLdXL7aprstQ7ZPTXu86u4fNTpOuseF1qWmfU91t0/HX7s+/a27Lj3W3X5DrbHPpO5nSNP61tNtdZ9DraHj1NzzQvecqLusblPC7uK62mNGjXIXa+fr+2xoHe3yuk33WOg7d/Q13f2g16bta9+79rXor+5zdPeBHutO03OV+K+1fn1N+zz6vtR3vOvbXlPPUWpN+XwMaYZuz9DvpDRp0gxrkudZEFoAimrSQDUauES35ykqpYWiiJRHlgax1c3bS9Es8uXSwCNttJGg59N2aECXvlzMBN2up+W6dgDaBu3DqFGjUFJSwvO0OXG11J1uCH2DxB5++GHOcqB9jxSp1eYyJgzdvjYvsz7oOFHkll6Htk+RTmqU8YCigL/99hvmzp2rWbvm+GvXp/2idSkKSseD1tXN0dsY9JnobougvzR97733XvYZ0jR9ttp91UKPaZ6+z51o6Dg197xoyqA+iqrqnj/aY0zQPDqPtHcXdKHznPZL971q94nep3a+oftC+0GvRe+TIrm0DxQ5pnnafMp1oc9ee2y0+02vS+chHbemplskuwc9T/cz135+9W2vqeco0VqDLrX7XB9N+c4LgmAY7VQjJS0IgiAIbYawsDAWvCTE9XUUBEEQ9HHhwgXxPAuCIAiCIAiCoYh4FgRBEARBEAQDEfEsCIIgCIIgCAYi4lkQBEFoczQ0aFUQBKEhZMCgIAiCIAiCIBiADBgUBEEQBEEQhCYg4lkQBEEQBEEQDETEsyAIgiAIgiAYiIhnQRAEQRAEQTAQEc+CIAiCIAiCYCAingVBEARBEATBQEQ8C4IgCIIgCIKBiHgWBEEQBEEQBAOIjY2VIimCIAiCIAiCYAhSJEUQBEEQBEEQmoCIZ0EQBEEQBEEwEBHPgiAIgiAIgmAgIp4FQRAEQRAEwUBEPAuCIAiCIAiCgYh4FgRBEARBEAQDEfEsCIIgCIIgCAYi4lkQBEEQBEEQDETEsyAIgiAIgiAYiIhnQRAEQRAEQTAQEc+CIAiCIAiCYCAingVBEARBEATBQEQ8C4IgCIIgCIKBiHgWBEEQBEEQBAMR8SwIgiAIgiAIBiLiWRAEQRAEQRAMRMSzIAiCIAiCIiwsDCkpKZopQdCPiGdBEARBEG5qSBRXVFTU22i5IBhKO9Uu1DwUBEEQBEG4uXn00Ufx4Ycf4oUXXsC3336rmSsIhnHhwgWJPAuCIAiCIAiCoYh4FgRBEARBUGzevFk8z0KjiHgWBEEQBEEQBAMR8SwIgiAIgiAIBiLiWRAEQRAEQRAMRMSzIAiCIAiCIBiIiGdBEARBEARBMBARz4IgCIIgCIJgICKeBUEQBEEQBMEAYmNjpcKgIAiCIAiCIBiCVBgUBEEQBEEQhCYg4lkQBEEQBEEQDETEsyAIgiAIgiAYiIhnQRAEQRAEQTAQEc+CIAiCIAiCYCAingVBEARBEATBQEQ8C4IgCIIgCIKBiHgWBEEQBEEQBAMR8SwIgiAIgiAIBiLiWRAEQRAEQRAMRMSzIAiCIAiCIBiIiGdBEARBEARBMBARz4IgCIIgCIJgICKeBUEQBEEQBMFARDwLgiAIgiAIgoGIeBYEQRAEQRAEAxHxLAiCIAiCIAgGIuJZEARBEAShlVi0aBEqKioutpSUFM2ShgkLC6v1vM2bN2uWXILm6a5Dz9Gl7nLdVnddou46tO+60L7rLte3T3X3W9/rEI2tV3ff9b1W3WNL7WpxQZo0adKkSZMmTVrLtkcfffSCEpwXp4cOHXpBCbxa8/Q1JQovKLF4cZq2Q8/Tnffuu+9eUILz4rR227rz6mu0Hr2Gdlq7fd15dRvts77X090nWl73venbp8b2k7ZJ62in9e0fPaZ5tB/aebRN3ee1RiPUX/0LpUmTJk2aNGnSpLVs0wpDXdFnSKsrXvU1feK1btMnOuk5uiK4btMKZRLsuvPpObr7ROvUFeA0rbtP9JyG9lH7WnW3U1dQ0+vWPR5akd3UY9uURohtQxAEQRAEoY0wZ84chISE4MCBAzythCZsbGywcuVKntaHdt3AwED+q2X48OEoLi7WTAFFRUXw8/PTTNUwYsSIWuv4+PggODhYM3U5ffr04b9BQUH8V0tERAT/pf0laJu+vr78WMu8efP4r3Z/WwsRz4IgCIIgtFk6G1nD2LZHk1sXE1vNFpoGiUcSmU0ReJs3b2aB+91332nmXM6iRYtYTC5dulQz53Leffdd/qsrlElMEyQ8K3S8wyl1vNkvvPACi2VaRgKW/iYkJGDq1KmaNYA777yT90F3HWLQoEH8VyvUbW1teZlu04piLR4eHppHNaSmpvJfrbim16XjSM+l9xUWFsb7N3nyZF7e2ugNS0uTJk2aNGnSpN3szcTW50K/hV83udHz9G2voUa2ByX2LrM/6Gtam4K2kSWh7jpkbdBdp7Htkl2irtVBu0+0Ld35NK/uukrg1no9mtZdrm266+jut/b5dbdL0zRfO037WdfaoV2n7nHQzqdW9z20RhPbhiAIgiAIbZt26r9mNHpeU6DI6pNPPsmWiVdeeUUzt34osmpmZsaNoqkffvjhZdHge+655+I61Gj7SkRqltZGiU6O+m7fvl0zpzZffPGF5lENa9asqWWLoOj31q1bOQJNr0Xvg6aVYNWscSn7BW2L1qFt0H7Tc3Wpuw/aiDrtI+Hp6cn7StvSNq31Iyoqiv/Sutr59Fq0XxRFr3uMWgMRz4IgCIIgtGnaKzXc1NYUSDiT0KxrczAUsniQECVBqRWY+tAKYLIx1OWRRx5hm0N9wl1rh9AHbW/48OEsUL/99lueR++D9okEK70/2i96TPugfQ0S9zRNz9XdbxcXF82j+tF2CLRN63nW2l1IlJOA1x5P2i/qZNAx0hX0rYGIZ0EQBEEQ2iwcRFZiuMmt5ukGoRXOWu9vc8jKytI8qh+tL7guJFwpiqxvoB4JYKKux5h8ySS2Ca3Y1QpnLbr7pH2+dntadPeJhC9tk7ati/a52qiyPiZOnMhimSCxTmgFtZbWHiiohT578nAIgnCV6NSlKzp37oZOnbto5gDVlWXq/+1w+tSJmhktRPuOndGxU1f1JVf/zp1Dxy5G6nWN0L5DR/Xj3x4dOnVBh45qP9SFgP8qzp05ibOqnT97mudXl+Xh9MnjvEwQBOFmw9TOB34TX9BMGU789g9xvCBRM1U/ZC0gwUhWhPqgdXTFdVhYGFsbdKPEdbdDVojCwkKO7mohywJFXilSqwutS9HfuvO10OuRuNYuJ7FNkV1tFFk7TcK47usRtE/a6LpuNJiou22KClOEWjeKTe+t7vN0qbsNQve1tejbdktz4cIFEc+CcKV07kJCuCvOnD6hBGhn2Di44bwSqqdOVOLs2TMYMGo2zC1t0aWrMdq3bwdzK3u1XicWsOpbqLZwQYlmJVbPn1citRqbl38Oe2cPmFrYssA9FnsQuRmJF4UuCWKiQ4dOOFFZjG4m1jhzqoqFromlE05Vlqp9qVZf7nZq8+dh6eTH+3X+3Fn0GHwrOnU14ekOSlTrknV0N05WlahtVeOsei/t2rfHObX/Z05U4IwSz+cvqPdUVYrTJ0RIC4Jw82Bq74tezRDPR0k85ydopvSjFXP60BWLdcWzVojqoi9yTc/TRZ9Ir0/U1kUrvLXUFaBaAa1L3X3St9/69kkr5rXoE+W6+1Jf1L7uegRZN1ozAh0TEyPiWRAMpXOXrujazRTGZpYcIS7Oz4SRiTkslBjuZmyOovx0mJpbY+qCp3DmzGmcrD6uBHQVzp45g5T4Q5hxx3MwUyJaH0V5GchOT1DrnsKhvetQUpSHLmqbSk+rdha23fur1pcjx+2VaCZIWBdmHIGlg4+auoBT1RWwcfVXf8uU2K1CZWk2TKxcWFA3xpmTlYjd8xPM7b1YoHdWQr9d+47cwz6pBDNFr7uq90q/FoUZ0ThZWQQjM3u1Tge1nxZKwNsgL/mgml/CIp9e+0RFoWbrbYNuRibc2Th9+pRmzrWhS9ducHByU+fgGeRktv7AGUG40TEj8Tz5Rc2U4Rzd+h9UNCKehZsPiTwLQj0Ym1qi6ngpP7aydYZ3r0Ho1X8szK3tOIJcWVGC8L1rkRwXziKaosnt27dnMX1Cieazp0/DzslDzbdlIWqitjd6ek2vOiMpWoltU368c+2PLMpLinJRplplZQWMzR2VUO4HR+8hbJ8ggWpm053Xv54ggVxVlofKkmyU5SbgeEmmet8UtT6pWaN1Ic8h/YgRnTp14uNP09p52unT6rO4EoxNzHBKdZa6dOmGrkbGcHH1RH5uJvJyMjRrqI5V5y4smuk1ab2Oan/op7W6qgrnzp2FuYU1yssuFQloLZxcPNT51AXWtg78mjlZqep8VJ+J6syVlhSo/anUrCkIghYSz72nvKSZMpzYLR+IeG6DiHgW2jSm5jZKJJuzsChSAlgXI2NzJTTKNY/N4KXEs1fPgRgwahbPI9KVCE6ICkZaYiRHjmkdJ1dv9XewElmmSnRfivgGb/kDMYd2qtezQElhjhJ7XVicV1dX4MypkxctGRThteneF71G3ad55vXHqaoylBemcqS5OOuomi7RLGldOnbsCGNjY7a3EKdOnWL/G4nosrIy/kEjEd2hQwd07dqVp2mdKiVgtYK6LdCpU2fucBkbm8DNwwcjJ8yGqTpOOZlpSE2OR9D2msE8NnaO7LvPzUrjaUFoq5B4DpjadPEcvVnEc1tExLNwU9O5azclpDqiazcTnDl9iqPFulhYO8AnYBgcleC1sHbElhVfIC8rGSZmlvD0G4ic9PiLotrG3hWDx97CPuRSJX4zkqNRVpyHqsoydPfuA6fufsjNPIbqijLc//x/+TlEeWmBEtdHkBp3CLERe3FSiWUjc3t0M7VFFyMLmFi7wMTCCV1MLNFeCR7yIRuZ2Wmeff1BHuojWz9nu8i5M1fXnkCimBqN0iZRXF1dDQsLdQxNTNj3R42sCoT2ry66keq2hoWlNb93Cytbjj4X5mejZ8BATJxxG1uQgnasY4tHWWnrR8cF4XrD3IHE8/9ppgwnevP7KM8T8dzWEPEs3BTQgD1tlgqKpJE+srJzgqmZNfuOyUuspUtXI5w6Wa2ZqvENd+zUGS4ePTkCnZkSq57ryj5jyuNJUWLC1MwKx5X4JosFDbZzce+F4oJMVB4vhYOzF4aMm4c+QybxuvnZKSjOy+CI9LGjoSgvyWfxrqVzNzPYefSH/9iHNXNuHGjQ4bHQP1GYHoHKksbTJrUWZI8gIU3i2dzcHLm5uRxhJrp06QIjIyMW0+fOneN5wuW4e/nhRHUVfx+oI2JuYcUduPPnz7G4FoS2AonnPtNe1kwZTtSm90Q8t0FEPAs3HBQt7ty5K9sfrOxceIBeZnIsWywo8ttUarJkXPLo2jp05wGBJ09UIi8zieeRf9XYxLLG16wEm6tnLwydsBDpSVFKnFfiZFUFLG0dYWZhxxkq1i/+iCPWp09ennaufUeyFXSGW++J6DF0gWYuOBUcRXLJvkGp5Oi2+/VI8qE1qChMwwUlsI4XZ+DE8ZocoNcCEs9k4yCrRmlp6UU7x40Encuu7t6qQ9YJuVmpqoNGKQuvPuSRnjrnLoyZPBe7N69E1OEQjtSnJMWq49yRLxTUcaR5BXkirIWbC3MHP/Sb3nTxHLmRxHO8ZkpoK4h4Fm4YLKztYePgroRlZ2SlHOVcyXwb2tIeppY26uLvjPioYORmHONlvfuPhYmZFcJ2r4KxuRVKCmou+CRWOqpmaeukxK4N/AeOR2rCYRw9tIcFOIlxEuVkzZg47zGcOXUCezb8yoMASWTTYEFzSzucO3eGB4JRtJoERbUS0GZqPqWaO3WSMmzUP0iNvM1G5nYwt/fm1G8dO1HkXG1fCXZKX0cC28zGg7NrWLv01jzr+oAycpRkxaKqPE8z59pzI9gxKAOGlY097B1cuMNG54e9kytMVUeNOiJFRfmIjz6EvJx0zTNaByNjE7h090aJer2O6jxj1PHz7zeEvc/P/+NT9b2wqrk4qPkHg7aioqIUfv4D0FGdm6dUhzAzIwmhQduUiM5CcmJMzTZaARNTc9g5uqqObBUqj5fDTh270uIC7mBQakdBaCksSDzPaIZ43vAeykQ8tzlEPAs3HJ26dEGHDl148JiDixdbNtq374izZ0/D238IspWwNrOyY+FMt5+PRe1HUUEGqisr2NpBWS4oykfCYOSUu1gkx0XshYkSzR5+gUg+Gs45lV08emH+Q6/hRNVxhO5Zw9FnErZduhhx1LubsRlbOboYmeBY9AGE7V1zmaf6SjG2cETPUfdyKjqKSF8vRG3/CjmJwZwvmlLcCQ3j328oxk2Zh95KoBLrV/yEzLRE5GZnoKy0qFWFoINzdwwbPVWdqxZwcvXkvONDRk5iGxG9NmUGMTO35DsmTSU3Ow2/fvM+woJ3aOa0LF27GaHfwJEYMGw8ZzNxdvPCxlW/IjpiPywtbNV3ohPiosN4XRL8lup7r3oiOKWOp24mFEFoDAtHP/Sfob9kdUMc3vAuynJFPLc1RDwL1x0UNbZhz/E5dO5qxII3PytZs/RyaCBfNxMzdc28gNLiXM5cofU/NwVLa0d0VBdoEsAnqirYHkLZMs6r7WalxcLeyYsHEnZUIpaKoZAYJxsHRaNLi3JQmNs6EUMLhx4Ycstr14WNgzzOZC9JjdiA4pw4nL/KAwZvRLoZGePFt76Et6+/EpofsGjOSE1kr3FrQhHmC+fP4/G//Rsjxs/UzG05KOK8c/OfiI8KR2lpISrKWjfjimv3HkpMd+MBjRXlJVyEiOwkJ3XGLxDunr6orDzOYpvS9AmCIZB4HjDz75opwzm0/h0Rz20QEc/CdQV5Kr17D8G0hU+jq5EJ394mIVteUoDDwethamGHAzuXo6qiJv9yfZCgpufW9UCTMKfMGJXlxRzto1RxlFKO1vftM0IJgAKONOdmJnGmDYpqk7WjQ6fOfJu9+ni5ErHt2NpBke7KijJY2znj3NmzPE35nlsaB++h6Df5Kc3U1YfyOBekhsPaxR/ZCUEoTItAdUWBZqnQEBQ5NTI2xReLtuODN55EdkYqCvJa/hwhSKR3U+dy167d+HtEwpmsIkNHT8HshQ9p1rpyqo5XYNWSb3A4dC/K1PeSvNJn1flPr0+WCnLPkHCngbgU5S7MUx0uPUVjbO2ceD+zm1nEhQb59vAL4Kwqx8tKkd9Kx1VoG1iSeJ7dDPG89h2Uinhuc4h4Fq4LqCAJpYsbNnEhPHwDWfhSZb6EqP2ICt3CPksuM23jyIP4KMOFmbktcjISOPpLQvhEVTn8B4yDi2dvzqgRFboNqQkRMDIhi4Up2zSGT7wNg8bM4cIkESEbUV1Zhhl3/BVWNk4ozM9AeVEeMlJjkZ+ZDGd3P7XuLbzOwd0ruYLg4NFzYOPYncUz5Wzet3kxR8ctrRxx8sRx3i/K99yS+A6/Ex79pmumri40gLFEXRiy44NQVZrNovlqp6e7kXFy9cDsBQ+h/5Ax+OeL9yMro/47KPVBVQstrW1x5vTpixkwSBTTd6Iu46fNx8RpC2Dr4Ky+Q13YM9zSnDxRjU/ffUGJZke4e/WEp08vuLr3YP90bORB9nVTDnMq1FKtOqJkDdm2/g8UFeSxd5m+hyfUXxc3b0yaeRt3LspLi9X31BShwdsQdSgEmWmGDfylzgkNGiXfeFFhXoPjDAShISyd1O/97Fc1U4YTtvZtlOaIeG5riHgWrjluXgEYN/N+uHj15nzMlKUiNnwnIvZv5qp8fYdOgVevgVzljyA7R3xkMNx9++LgrpVw7t4TMeE7lKg+hvue+4SjXSt++BfSEiN4fTMLW7iqbfcZMhndvQNQUVbEEeJNSz+FnZOnEuQOnIe5MK/GdmFuZaf25wEueELR70X/ewFVx8sx+54X4Ok3gNchdq//Bdlp8eqCfUpt3x9Obj5IjDmAsD2rNWtcOTRwcNCsl9G5mzm6GJmjY+dumiVXh/KCFMTt/UUd87Pqx+IsjhdLlgVDcXRxR58BIzBj7r3sv/3kX8+xaGwKzq6emHfnY+jdbyhbEFYs+gJHo8J40CsJ5GwlxsmL7+0bwD/mZJ04c/oMHJxdMXrSLRg/9VbNlq4PqEojpTokoU0dZH1sXrMY2zcsRVpynGZOw9jYOaHfoJEYN+VW/m2gwYRlJUVY8dsXOF5eCnsnN1hY2rDVg+wygqAPS6eeGDyn6eI5dA2JZ8POVeHmgX5vyUj5Zs2k0FagyOw5JTKvB06dqmZ/MWXQiDy4GZEHtuLwvvXopoQ0RXInzn3konAm6HawrWN3vvh6+ATC2t6FRW2/YVNhZGqBiOANOBK6la0UBOWwLcxNQ0lBFhKiQhCqBDdFpHv4D2VhTgK8WC3TQraOcbMf4AGHFCnLTI7B7X/5F+ydPTVr1ODu0w99Bk9UrzuFo+U2Dm5wcPFWF+yiGm90x86orqypUNhcOnU2VmLjDPJTDiI3MRimNm5cWOVqUFGYyuLZb8Td6jXNkJccro6pRJ0NxcTEHKamZogIC8KoibM4UpyTlYYzTYiO0mC/6fPug72ji2quHF2l6K5Pr0BMv+VuZGUmc0TawcUDA4eNx/1P/B0B/YdxZoqs9CT08OvLdorrBRbNVEmzQ0fNnMvx9gvg/NNZGSmwsrbjrCCEvaMb3D19uFQ6Rbq7e/ryHadSJZTJojJ45CR1XPrB2c0TXr7+nHKPOtJTZt2BOx58jo8PVVyk59PgQsqUQ9/vqwm9H1t7Z84gcuJEpUTKryOMTG3h0nMM3xlpSsuJ33tN03UK14Y333xTIs83O3SL18bOmb27Xbp1g4OTO7z8+qGspBBJcRF86zP68D5UHS9jQVrZiJ+4NaBKgHVzIptb2sPRrQc6dOwIyt/bK3CUEqrTNEvrZ80v7yN83zrN1OX0U4KZCpo4ufuxuF38xStcGEWLq0cvzLjzrzC3duRbylQ0QgvfqlE/mFmpR9VxNWYRr4+a6Pg+HFKdgLysJFSUFmqWNJ2OXYzRzcQG505Xw8Y9kH/gzWz0v25LcuDPN1FRlAY3/0noZmaPvKQDN6S3jwQbiSgP757sYS/IzYIRVSQsLYFTd0+UFRciP7d1/bLmltYYMnKyEr+5SDt2FNXVVY0KN/IDe/bwx19f+4gtEgR57I/FR+Hb/76hOpT2GDtpLotFEpjqUo4R42fwejcL9L6ylYim7BreqiMQOHgUR5PJGkKUqs/u0IFd6vfNEf0GjeJ5hnCiuhLFhfk4fHA34qLDeZ6JmTnc3H1Up91YfT5UgTGHbTLH4iNRrs6VlqK76hh0ooGOSvhTB0e4PrBy6omhc1/TTBnOgVX/RolEntscYtu4Cemqfvyd3Lxgr4Sdq4cfXNx7wKW7D0xM649YRh0K4rK9FBWii3pxYQ4La8pdTFEsiqKlJsUg34ActCRQjNT6lA6OCohQSiwHVy/2JsdHBvFJ17mLkRI0p5Sw6cKe4rpY27vBN2AoZ7/opNbpogQ+WSzIvqELZcagCLEuFFkm/3Js+C51oa0pNUz+T9oPyqgx8+4X4ONfkzLsyIGt2LPhl4uWDS3GplZK8NQMFGTxdeY0PP36o7QoFwU5qTzSn4qoTF3wFPyUqKfjVh8blnyC+CPBXMq7qRhZOMDK0RfHi7PYttF7zIPoYtz6kWfKO5xyeB17nElAnzxegjOnboyUdDRYjcpPU6eQ7A2Dhk9Q53AZFt73DEdwI8P2IWTPJl7Hs0cv7FePi5VIa0+VJjt3ZoF6tSARSHdIKCrdpWtXlNfJWEHv4b7HX0GfAcM58qxlx8bl+OqjVzFszFTOyyy0HqlJRxG+fxd2blrOgloLfTbk/9aHpbUdp81r377dxawqlD6POnEUtBCuP6yce2LY3Nc1U4azf9W/UJIt4rmtIeL5JoGiy+aWtkok98C46bfDy7cfi76WgoTnsp8/QklJMdx9AxETtoOtDxSppuiwm5e/5mRqx8ut7Jx5wB9FdkncknDOSIpGyPal8O41iLNcOLjS82o8yPvV/NLCXCXOa0bekwWCKv1Z27tiyvwneB5Bwp6eW1qYjcyUo0iKPQgTCxuMmHQ7dxooRd3aRf+5mGWDxDJZKvwHjceONT8gOy2Oo9x/ee1HzrCREn8Y21d/y4MQ6b3oCnkavNh/xHScrDqOA0qQxx7axfONjM1w8mQVC2gS5WT/CBw+HX59R/DyuuzfvhwHdq5AidrnpmJk7oCuxpY4VV2zXwNnvYxuptb8uLU4faKCKwgWZUYr4ZzO1o1zZ67vghTUeTlz5hQPrqN0ZhOnL0RudjrfJbBzcOU8xxbWNixUV/z2JfwChiFgwAh89vZz6nkneEAfdRDpLsefv3+l1rVFkRJKdE7lNDEbBOVT9vbrg8y0JBQVXBJbDWFl44C7H3keTi4eqFLnG0VTUxJjkZ2RpM75EzC3sMbEmbdh6KjJXOAk+nAIfvryHZQUF6C76iC7e/mqDm8uevUdwp0FW3snzZaFloL85RTppmg0DUDOyUxli0lhXjaLasookqfOOcoeQr9DZKcZqjo3cxY+xOchlYknPzZ1xHMyUpF8LBZHo0K5Y0fbFa4t1iSe5zVDPK/8F4pFPLc5RDzfwHj49MGoSfNYMFCE1z9wJEdLWxqKlGxf/xvQoRtGTbub55WX5LMYzEqJw4DRs1hQXikVZYUoystULZ2FdlpiJEevSfyeOlGtLk4n+KJEWTW6dDOBtZ0L2yMoekxQxg4q+FBSdEmwUCVAytDRzchMCY0clBflw7fvcMx/+B+aNcCDC3v0HoLI/ZuQdDSMI+c0PX7Ow7BzckdcZBBCd69SQj2U16fUdierj3OqLK1n0crGGdNuexp+/UbytJZo1cnY+ueXKCuu8W02FRowaGzuyMVIqNKg14A5miVXTnH2Uf7buaspqssLUJZ/jPM4U9GT6uOFOF19ZX7tqwVVnCR/PP2IWSnR6+bhwzYfGqQXOHgcUo7FsCWIIoW0rrPq7M1c+Cg/98v3n4eHtx/m3/0ECxziWNwRuHv3VJ9xFQ/wI0G0+IdP1N80VFZW8Dpa6LtHzyOxWnm8ggUsvY6bew8U5GaqTtYJGJmYKXHfma0biUcjeYAbRZxpX3179+fIJlkIZi94EAOGjdNsuaajSHaS8P27ER8Tzuv97bX/KoE8mJcnJUTjm49f5/k0sJAybQTtWIuK8lI88eK7XFxEuPrQuUfnQURoEI+3mKU+14YoLytGQsxh/P79R1z6n+70Uco/4epC4nn4rZeuC4YS8uc/RTy3QUQ838BQtOrxFz9SF/rWK9+ck5mMdcu+QXffgRxdvRqkxB/C6l/eVyfnOT4zKRUc+YtpUB9Fhu2cPDgPtHfvwZwDmnzFidH7OYJNg/RoMCSJahI1s+95CbGHdyF87zoMGjULzh694N1rMEcYddmz8VfsXPcTunTuijEz7sPQCfMvDmpa9OmLvH1dqHgKRaZpkOORgzXifeCo2Zhz70v8WBcq/R0dvhOnVQfgaMReUFEVQ2iv3ouL32j0HHkPZyhoqQqDJytLkHZkE/v0zp09zQMSKdp8I6egI8uDk6sXHF08+PsQ0H84LCxsYGJmwXdN8nMz8NPnb2HB/c+jR89+mmcBh/fvUOJ0K0yMTTH1lrtZeNfHwX3blBg6iVVLvkZ5aRGLVIKsIS++9Tky05OwY8MyjjzSnSAarNelaxc8+NQ/OHMEeWkpOnn2zBke3EZanQa/piXFwcnNk4t61AedzwV52ZxNgwbFadm5aQV+/OLfXCDo/r+8giGjp+DLD1/hqPlDT/8DPQNq25yE65f0lERsXvMbn1se6hwuV79n1ZXHOZ+2OgO4cya0HtYuvTCiGeI5mMRzVk0gQmg7iHi+gaGIlpdPX8y87TH1Y+uvmdtyxESEYN+OVQgcdQvce/TVzL06lJcWsGBU8gJUfIQsHJTTOT4iCL0Hjr8s8wWte6L6OA/uIz/1qZNV7Lsmz3NaQiRtBgGDJmjWvpz0pCikxh+GtZ2r2v5Y3k5leQlSlPDds/5nFOSmadasgaLZZAE4p0RNVUUJ530m68iIKXfwchr9X7fcMe3jut8/4oGEp06f4EqIDWFh743Bc/7OIrqlIDvGsdAVnLv5nIEi/nqG7hJY29hjzORbkBQfjbl3PgE3Tz/N0toc2LsJ8TGHcM/jtdNR7duxBseOhuHp//uAp6ncNFkvBg6bwAKXbBJ12b11NT5//1JHiQQtCev0lHjOpjBqoupILXyIMzu0FuST3rX5T3z/2T9Z9P/t9f/yvlKknSLWNNhQ1yct3BhQhyho5zoMHjER0265h9PrUYaWtUu/53SF5WWl6Kg6/xTVruuRF5qPjRLPI+e/oZkynH0r3kKRiOc2h4jnGwSKZNEtYmNTCy4IEB8dqgSbJTx9+igx8A+YWbSsDzZ032YcObQPY2Y8wH7lGx260FBEuj6yUuOwadmn7LGmXNPk1SZrCgn2ullAdCFvNgn5Xv3HoM/gSZq5NV8syiNNt2H9ldinVHsk5ik91tHDe7B/+7JaGT704dl/FnyG3qaZajpUVKYkJx5G5vaoLMlGSVYMSvOOoUy1pmBu44ryosuzUXTo1BVdjS1UR+EsqiuuTaomsj3c9fDfsH/PFnRSQvrWu57iY66PXCU8fv/+Azzz6qe1UqUdi4vEH9+/j4ef+Qd69OyrRPYWrFn2A1tyaEBY4ODR7FV1VcK0d7/BnBpt06pfkZGSABNzKzrQ/Lm+8MZnOHvuDIvogMChmq23DhtW/qr2czPvHwnlv7zwDoaNnqJZKtzo0Ge6UX3GVZUVqkPkhV59BnMHLTcrjeenqU7avY+9xH74ENUppAwu5LGvW6pcMBwSz6MWNF08By0X8dwWEfF8nePdMxD9Bo2Fs7sPzp4+Df/+I/i2XklhLkcjevapyRrRUpDPcuemP1BcXITJtz6pmXvzQgLzyMFtOLjzT1BO6bKiXB5ISIVaGoNSifUdMpmtIXUh8f31O4/ywEbyXZPHmgYk7tuyGFlKNJcpYd4YvUY/ADf/+qPl9UHltClDRlbcblSV5MDIQonn0mycrm7abd9uJlYwU8K5m4k18tMi2RttZu0CC3sPmFg6wsjURonQTkg7uhv5qZFKYLdsZUVDuPPBvyFgwDAldn/Cw8/+kz3v+gjdtwU7Ny5FQX42PHr0xvhpt8EvoMY7TEQc3ImDezfikWff4MF5NBissCAHa/74DlGHQzRr1WRYoB9Nyp1Mr+3p6w8rKzu2Y1BFPTMS01cJsnuYW9mwlYNyHgs3H/t2rcfSnz5lEU25qyldn4ubF9uUqAgPed2J4J3rubhMXExN2j2h6ZB4Hr2w6SUv9i57U8RzG4SuA1Ik5TqGih+Mn3Y7X5TNLWxwLP4w35YdOHwSbO1dNGu1DDQwcOPK73GhfVeMndnwIJebgfzsZBzatwH7ty3DyMl3YMDImWwRoZzM5KXWhTJ0+PYZgSm3PgFHNx/1eLg6Rg9wkZW6/mmChDJZN3LSE1FZUaw6O1lIOBKMpKOh3EExBPIhO3iRP9sw2wZ9mdMiNyJu368snE9UFODsmROcwL85fmba3smqUvZFD5j8GNz9x8HFdzjsu/eBmZWzEtWWnD7P2skXpQWpKC9sPI1hS0Eilqr3jZk8hwdmObt5o4ffJS+wLvHR4fj641c4W0K1EiGUHYEsNQEDRqK9xlpDAwMTlfCgKDPd4aG7Og5ObmzLCQvZwetQKkf6HtL3hDInDB4+kQfl0V0hygdOf68mtD/ko6bqecLNB2WL+ePH/2L0xFmoqCjlQYWU75ruOOxTYjkh5hDSUxPRoX0HtvCQ1z7PgFSign6MzW3hoX7jaKxMU1r60d2orpBsKW0NKpIi4vk6hpL5Uw7mwwd2InjnGoSoRjaCYWNnadZoGYrys/Dnb5/Czs0Pg8fM1cy9+cjPTsHxskKkJURgx9ofuMz3wNGzePAfiUQLGwfYOXugvDifc0hroQiri2cvLo6SGh/BBWVsHd1h6+B2mbdZC1k66MeVBgySBYSyiTQFEqaO3kPRsZP+MsZ1Oa/2PyNmW5NtGfVBdgwaTNipS1d49JmgBLPLRSF/9sxJVBRnIjVmJ5IObeDIM5Xwvhp07WqEcdNuxcNPv6HExAGOzg0aOblef+/GlT8hMy2RBw7S4L4xU+fjjgdf5GwpWigvLxWsiIsOg39f1WHR2DrIDkWWDKpkR4VNuiqBfP8Tr8DTuzdcPXxg53Cp8qUgtCRUAZZEcXJiDA8cJEsG5YrWQiXIkxOisXf7WhbOtC51Bg3tnAu1MTa3g0fAWPWbTQN5DW9pMXtEPLdBpMLgNcTK1pGFAGW0aAiKaBmbmHNEjIqePPD0v9SXlj62liFX/fCu+eNL9Bo0mSOqNyMkmhOjQjh1HBU3YWGsjqGdEsDjZj2A/KxkJETv5xR5rl7+SjSe45zQBNkzSDzVhea79+iHCbc8AqfuNbfNabuFuemcEYT86dGh27Hsu+b1TSm7xuDZf4e5vZdmTsPkJYfhWOhyVJUallvYUIzMbNnbbGGnOguuvZGfHsXR7OMluVf9okEp4aqqKjFj7r1K2FqiMD8fgUPGwt2712V5zcnjvPTnT1BSlIfUY7Gwd3LDzAWP8F0b+i7VZd/21Ti4dwPufOhv7H3WhdLVkVDPzU7FnIWPcNo5QbhaUPo78uavXPwN5wAXWh76bRt3x1uaKcPZteQNFGY2PH5FuPkQz/M1xtrOGZ06deIcslrIt+nXZwgCBoxCYV4mevTqz7elKZctZdhoSTJS4rBp9c/oN3w23H2ubkaNq0FpUQ4PBjy8b716rzX5fnUhAWxibs23803NrHiQWGlxrmZpDVTkRTcKrQsVSSE7R6/A0QgYPJFzQVPeaMrGQeXQyUdNgry5OPup7Y6vyUlcH+RxzozdifyUMCVqb84ICHk7abDe+GkLOP8yeX2p6pu3XyD7QOtCmTU2r/lVffaJHK1z7u6N+598Q4niQM0a+omPCcOaxV9y5b7pc+/RzBWEloOyZ5QU58NHnYtUDbMpVB2vQGjwNvzx8/84HzRFm4WWwU6J5/F3/lMzZTg7F/8DBSKe2xwinq8j7J26c67aMVMWoGfAkHrtAC1F7JH92Lt1JYZPvgsOrpen47qRYT9z0DocU2KW7BINZcwg3LwD+FuQm5nIx93CyoHLcFOWjN4DxrIo7mpkwher06eqcaLqOFc61ELWBi+/gRy1rigtwOGQjY2mojOEribW6DHoVjj3HK2Zcznxwb+D8jbfjNDgKF///hgzaS569amds5gqAXbuaoyJM2rSA2pJSzqKz977Gxcp0eLRwx/Pvf55o0WEkhOisHXNLxg2ejJGjm9Za5TQtqBCKXRhJcFLqeUo209JUT6+//Qt5OakY8rMO3H3oy/UrGwAiXFH8O0nr+Ps2bO8PfLdZ6a1jEVLUOLZrTcm3PkvzZTh7Fj8OgoyRDy3NUQ8XycEDp2ACTPuhE+vAZo5TaOshAaHnYaNvQtX4aP8t+R9o/LC+jgSvgcH9mzCmFkPcZT0ZoGyXIQr0Uzlw7UlupsKDfajDBlF+RkYMm4eZt75N55PmTnoGNNyKtW95c+vUFp4uUWiPptHcyHfs/+4hzk1XF2odHbM7h9wvOjmHCh0y22P1iswqBDIWy/ej8eefw9evqrzoyE5MRofv/Wk6jQVa+aQ9ckIf/3H57UybNQl+tA+rPjlEzz49OvoraniJwjNZd+uDVj525ecFenMmTPw7dUP9zz2EiLD9uGnL95mv/yTL70HKuXeGJQ+kcrKU7EdoXUg8TzxrqaL5+2/i3hui5B4lgGD1xgTM0s89MzbcPfqpZljGFSkIznhCJb99AH2716Pc+fPc7GUTSt/wB8//ofTb/n6D+JMALocOrAd4ft3YMyMB9kn2lD+4xsFOpFjD+/GhiWf8F8aoNdcqJhJdVU5vHoOxORb/8IRZ4J85tqBZORppgFoUIK6tKi2zYMGmLUkZMU4VV2BM6eq1MudU/tjwX5tqhQYH/wbynITNWveXNB4gHbtgbGT6xvAegFhITvRf8i4Wh7kE1WV2LN1JU7rFIGhwVd0Z8fV3YetNlroM6TUj7GR+7kE/d2PvIDe/Vo2/aPQNglX5yYJaLJXVFcd5yjxsfgjSIg9jOLCPFSUl/BAv3FT5vJvC0EddIIGr1KJbirvnp+djhW/f8Vl44XWw8TcDt59qTCS/qwa9bWUqJ2oKpcBg20NybZxjaCUV7aOrhwd6z9sIly690BGajwcnNw1a9QPFUbISI3DHz+8hwN7N8DTty9GjJuDLt26YdFXbyH2yAEUF2SDygCnHDuifqhzUK5ep7y0kH+wj4Tv5TzGGcnRCBwxg7dJ6dlOnqw/Un29k5OegPWLP0ZeVhJ3KlqCEZNv41Le9dG9Rx+kJUZeFuGmyLOphS0PTGwJSDBXFKaiIDVcCeUEFuc0Lz1qMwozo3ChhcX69cJZJXgpu0X7jh3h5XN5Bc3Tp09jz7bVGDh8IqeW00LfLaqul54cByqOoz0f6O4MDY4tzM/i78OuTUuxde0i7N22SnU0d3H2grycDC5C5OjcnZ8jCM1l7461SEmM0UzVQKK5THXWCDrHFtz7NFuT6Fw/Eh6MRd9+gLDg7Vj6y2dcDj58/07ERYer3/RQfo7QepiY2zdLPCdH7VLiuUCzFaGtsGDBArFtXAtIYBHa2/vmlrYsoJ99/Uue1gdlDziwZz1Sj0Vzarnjx8vQZ8AYLkFNwvu8Egl1K0yZKiFxXAlmLZRazdrWAQvuex7rln8Hnz4jER+5l328UxY8CxuHG6+cL+VkXv79WzgWc1Az58pxdO2BGXc8pwRy/YMoSbD/9tlLfPy1kF1m3KwHlWA7je2rv9PMbVkoC0dXY6uaHMxnWs4ecj1iYmqGqXPuwe0PPKuZU8P+PZsRGrJNnd82mDX/YZiYWWiWXCI9OR7f/e81FtG6kDimn7xuRmZo36E9fwdpUGFX1fmcPPM2DFSd2e6ePjUrC4KCKvuVlRZz8IE8x0ZGxrCwskFedgb/Dkcc3MMZevwCBsLV3ZurAW748xccDNqKrAz92ZSosM1r7/3AaRK3rPmdPfzV1dThbifp5q4B9t39MeWetzVThrNl0avIT6/dSRJufsTzfJ1AxVAsre3RqWMnDB9/C0eJKS2dt6bww/GKUuzZuhybV/6gLvZNL3ihS6dOnTFjwaMoyMmAmZUtSgpz2O5RfrwaI6bUHnx1I3BKXWgWff4S0hNb5rYmFT4ZO+M+ztPcEBRx/u3TF1FRVhNJsrB2QL+hUzF+zkPIzUjEqp/f5Ui4cGXMvf1R3PVIje+5IC8b61b8iL3b1nDO5kf++jYC+l+eXjE8ZDuCtq/G4YP603oNGT0dc+9+jgVQzOFgRB7YrjqWjrjroRp/uyDo8vXHryNox9pa2S3sHFxUx7mUC+yQNY6sGQSdl37+/XH+/Dku664toV4XNw8f/P2d72Bj58gVLV//653qt7mL6hCfQan6/ReuLg5KPE+9r+niefMvryJPxHObQzzP1wmV6keWosmlxfk4HLqDvZjO3XsoYViNuOiD+P3btxEZuqvGZ3uF0I865ZY+deIEjh0N4xHg5Ac9eeokPPyaN2DxWkLFLoxNLJCeFM1C+kqgyLGHT1/0Hjj+YvW5+jA1t4Z3r0HqM8tD/+HTMHT8AvQfOYNv5Zla2CA/J+Virui2TLduRkooeHOu2lnz7oGLm4cSGpXsBTUEEixURY0ECN3WptvbJFSojPaE6bfVsmwQRYW5WLHoMy4uVBcLS1t06WbMEcSUhCMoLsjh9HVFBdno238oVxUUBF1Sk45i69rF6hypPbaBSmaT3YKgQYFayFZF5yp19MpLi3k9fTi5emDkuBlsleuiviPJ8VFIS47H2XNnWsx6JhiOiYUdegROrGXJMKQlRe5Apdg22hzkeW7dfGiCwdAAKQtre64eSLmdd6z/Hd989BJW//457B3dW7T8b83AlAtqm8bo2LkLLKzsYGx+45b5NVOi6IzOALHmQplKDu5ehdwMwzJ12Lt44bbH/okxM+5THY/aOYQ9fRvOKdxWOHfuPE6p4+rt449HnnkVru491OdlzdkHDIHEy1cfv4ov/vMKD7aiHr+pmYUSKBn45uO/1xIuBI0joIqChK1D7RL2Ts7OsLe35/zpRl3aY9qUCVj0xat8F4EqFQpCXdKS4njwXktCHv6xk+dxiXWis/oNHj/1VvX9eJOj1sI1oB3QXonhpja+dy+0SUQ8X2NIFNs5umHo2Jls1chSF/7NK39CevJRTfTzAmIigjg63VJ07NQFxUW5OH68VL1GO47ktYT4vFbkpCfCwdkLU+Y/wVUSKdVccyH7RVOK0dSXrcTSxgnGprWjom0RynqRn5sDS2sbxB4Jw/y7HsXbn/ys5jftLgr5QD28e2L2wofQZ0CNVSM7Iwm7Ni3jx1oSj0ZQ75Afn9GxOFla2eDp51/HK2/+B6PGTcaI0RMwaOgoLF8fhPc++goWZmaIPhyiWVsQajgaFcZ+55aESm47u3lopmoYMGw8xk+7FQ899Q8MGj5RM1e4WpAGZi3c1FbzdKENIraNa4S1rSP6DBzNgwWphDBV+6NG1g269Uc5hasqy1k0tPRtvA4dOnCaOmo0gKpX36GIjzoAe5ceXAr8RoKixa6evRE4fBoXO/HrO4Kr/lEmjKrjjXc4unQxgpWdE+eIJttG/xHT0XvAOM3S5lOYm4bQPas1U20bKupAEWMqe93dowdefvou1TmkzCHnNGsYxt2PvIhpt9yLwwf3cMlssnSQ73TA8AkoyMtE2L6tCNq+CuWlNLDrTK0BtKZKHKcmJ+FoTKS66LVHnhL0WzeuQtCerXD38EJmRipSkhJgZW3HWTrIx0q3ZYW2zYE9m5GemqCZajnod7av6gTWPcfIhmRiZo727TugtKSgls9aaD1MLezh27/pto3EiB2oLBPbRltDUtVdRWhAIHmL3Tz9ONVYN2MzZKYnIDMlngVy3dvPrQl5p61snWBiYsb7RAMTU49FYfC4WzVr3Dh0UB0AXWjaWHUIqNw4BSDLivMajKp36NRRHf9KLqdNJbbHz37osm02B/Ix0mtTpcK2DolkOr8pT/awUZNgbm6FbkYmSIyL0qxhGA7O3dG5azfs3LQcFWUlmDn/AeTnZPDjoJ1rsG3d75wKTOtF1aVLl64YPmoiXn7jI0ycOocf9w0cAnsHF/z6w+c8vsDGxlp1etIRvHsjDh3YDQ/vXkrktGxJ/NaGjjVleKisKOfOcafOnTVLhKYSFrIdG1b+0ioCNkMJchJffv4D+K8u5L0P2rkOSfFN+34IzYfEs1//SbWEsSEtIWK7iOc2iIjnVoQGspGnjQboGSmhTKOwiwpykJuZzDYJytLQWNno1sTY1ByVx2k0eBWKi/LRd9h0WNvfeKnq6sPEzIotHCSKXTx6widgGIvo6soyTitFUKSZBvd19+7DEWfKstESwpmgSoRa+wels7uRbTHNwc7eGXaOzvD29YeDowvSU49xVTWK6o6ZOBO+vfsh6vB+PvcMJSstCUV5GcjOTOW7JyeqK1FaUoiE2HD1vardSaF0YlTZTYuZuaU63yuxfctaLt3t33cgWznolvzB/bvx6bdLlKAej6EjxmLqzLlq3VLs3LoeA4aO1Wzh+oU8uTlZqUiMjcC+HWsRFx2KrPRjOLhvK5ITY+HS3RtdVWdOH5R72Mi4phCQUJv9uzepTpT+jC1XCnXwqGgK3VX06NGrVvEewr/fUF5GUW8ZQNj6mFk2TzwnKvF8XMRzm0PEcytCg5UookkVz8haUF1VwXaMaw1F7ujHmCwNdCvd3TcQk+Y/CSc3X80aNxcOLl5c0MTVyx/px6JqZcAYMHIW5t73MgaMmgWn7i3//sn3bG5lx7dgKR81WUPaAl4+vVjcUtTW1d1LiTcvpCbFs5A7dDCIU8T59xsMFzdPpBwjq5Jhqbkoej1s1ATY2NkjLyeLC5uYW1jC1NQM5WWlvI6jkyv6DxyOqbPmY9LUW9hzTXdYyCZlZWOHrkpUx8VE8LlfXl6KH7/+COMmTUdA39qZZmxs7bFn+waYmFvBVnUErifItkJZciLDghAavB3BuzYo4XwYVtbWGDBkNGbMvQsDh47BiDFTsP7Pn5GeQgMoL3AHnjKNmKiOMw2EW7P0e1RVHoenT++aDQsXIXHboWNHzupC53FhXjZnjKEOl7WNPaeh00J3UmhQbFOh16ACKOVlJXyXQ7cabHpKAoJ2rMMF9ZqGZqYRmo8piecBJJ71+JobaAmHRTy3RUg8q49f8jxfKVY2DuqbBJQU5mnmXL+QkKQsG+nHjsDWyQNTlXB2dvfjSPnNDBU1Wf3Le5xZQcvc+19Bf02VxdYkJe4QNi79H86ePoXiwmzN3JsTG1sH9B0wFC+8/iEO7d+LMiXWtm5YgajDBzRrAENGTsQ/P/yBH29Tyz781/P8uCGcXd3ZbjR9zm147OlXELJ3O9q1bwdvJfwS46Kxcc1SOLm4YcYtt7GApsgzQXl2qSgRVdwsUoKT0t4VK7H+1f/egZUSQgOHjMDIMRNh5+DE6+tyKCwEy37/CUam1phz+8OaAivXlpjIg1j8w0fw8PTF+QvnMHPePfDpWX8xnxL1Xim9X/iB3arzfgHn1c+9qRLPnTp1glcPP/XZ/InZCx9Gz4ABbKW5maA7fFQ1sqYYVTvOamGvzo2mWnFI5NIgv1+/fp9F9Mz597Oo3R+0ha0VHdWxJJFNUfzmEjh4NO597P84Gw1BVTDfe+1xKct9lXDyCMAtj3ygmTKc1d+9hJzUaM2U0Fa46fM8m1lYteqAC7JjkGimAUjlmrKr1zuevv1ZOFMktLKilNPjefa88fI7N5WQbUuRlRKL9h078GBMKoIyZvp96KYT7WktLG2dMHjsXCQdDUNx/uUFE24mqEqas0t3TJp+K0ede/j549DBvRx5dlTzKRo697YHYGtfI1ZNTE0RG3UIRiam7F3WxU09/96HnoK9gzMPNHzh1XcxYcocXuba3ROubp4wNjbh9eJjIuDt2wtDho3hQkBaSNjQ7VWKIpqamXPVQls7B/7xs7Wzw/w7HlBiSv85UJifi4hDocjLzULPPoPY+nGtuXDuPArysrhzcNt9T6n37q1Zop9uaj0Pbz+MGDsVQ0ZMgIl6r+T3HjtpNrxUx4M+D4pgb1m3lI8V5R++GaBo7afvvIDS4lycOVmF0ycrcfjATgTv2YKoQ/v4bhBZJXSjvfVB69rYOnKKOcr20nfgCPYq9x8yhi0xGSmJGD52Oq9H1rzmQANgkxOi4ebhy1VgKUd0uNpfGhArto3Wx8zKAT2bG3kuNdx6Jtwc3PR5nutejFsasmJQNIxE6I1CTkaC2t+a49LNyLTBEtQ3E2TbqCgv4ggkYWRi0aK5sxujvDifPbo3Oy5KfLkpoUvk5WRi367NSGPbAFCUn4Mps27jKKeWEyeq8X9v/RcL7nxUiVlHzVxKLWeNBx59Dvc9/Az8+/RngUwCuj6GjByPgyF7WBQbAhVToawGhQV5KFAi+UT15QV2uqvXLC8vYdvGuuU/4tN3X+RCFteScvXdzUw7hlETZtY6XoZAgwfJzkHRVy0UhZ1/12OYPf8ebFv/h+qEHNIsaV20FflaC+pg9Oo7hAdOTp5xK+bd/iBeeuNjvP3Rd7j93kex8rfPsXLx100Kerh7+cHc0lozRXcc7TFh+gLMvPU+HNi7CQvueVIJ6uZ75JOUeP74n89i384NsLK2h6Ozu2TbuIroy+PcWBPaLuJ51gNFYMjfRoNs9I3cv5GpOn5J6NN3f9CYW3jQ3M0OfZ6ZyTHqYlmg3q81Rky6vdU7DmfPnkZ5ST5iw3dj68ovUZCTctNHkSiSRxHNw6FBWL3sF6z843tUVlawz/aWBQ9wBgiKhGqxsLThZVvXL+fosfb7NmDQCMyZfxcS42OxevkizJh7B1tC6sPJpTt2blsHt+6esLZpPM/3H4u+Q8yRQwg9EIyQfbuxZeNq7NiyDkciwxAdEY6MtBR88el7SsCozoC7J/x69uHqiHu3r8HA4RM0W7ly6FZ/TMR+7N+7BRGhe9GtmzFHHuuDOusH921j4ezg7MpWhJaAso707jMQq5f+wGMzKKLaGpSVFOLXbz5AiHq/9L6pYBN9N6kjS+dGS2FpbQcqOBITcRD+fftzYR0tlla2mDnvLkQf3o9dW1fDwak7r99cPH38uaLgzk0rMG7KPNVJL1Wfa+2KhIZCd27oTgDl+O/hF6DOiaCb7hp0PUIDBnsNnKyuifoHBtbX4g5tk8hzG0QGDNYD/ZgTN/uPFonmgaNn19hPbnJMzCzRpZsJ+zp79B6KYRMWaJa0DttXf4e9GxfhwI4VKMhN5ZzDZ8+cYsvIzQwJ5cyMFISG7EZebianTqNoP3mPszJTkZmWBAdHV/YYUxljuj19MGQne3IpGtxViSh/JeJKy4qRciyBczEPGjYOk6fP1byCfo4lxGLf7i3qOJ+AlbWNEuWXIoT6yMpIxVn1NX/+tQ8xcuw0jBwzDW6evpyFpvrEKZSXV2DMxNlKwN+HXgED0N3DBx5evkhNisMOJZK6dOsGe8crK+cdFrIDS3/+FCbGJjC3MEenjh2wb8d6pKjX6NylC4swigSH7N6IhNgIdbyy+Ng5OLspsb0NZ9R77aFEfUtBlhZKJbhn2xrERIbiYPA2rnx6+tQpLhZy4kSl6pjUL+x1ocgvRfNrMnlcitClJScgeM9WzHvwHzA2d0DSsXgc2r8TcVGhPHCxvqwgzSUibC96BwSq42ulmXOJQcPGqmPeEUt//QKWNvbq82xetiESUXTHY8+2VYhXnxNVD7S2c+DqmM2BrjtJCVHISE1qtggXmoY5iedBU2oJY0NaXPhWVIh4bnPIgME2DPmc3Tx6Y+zsBzn/bluAOkU1VRubB0XkkmJD2e5Cj2t+QNvzwLUOHTpxhons9ASkHTuCY9EHcObMSfj4D+Po2rGYg5x1pa1Comvc1Dk4f/YcjsVHo706VtVKaJNA5DEDSizPvf0h2Nk7Imz/HgT0G4xb73gYf31sPiZNvwUL73xYs6XaULaIn7/7L2ffsHf2UCIvlP3APXx7oW/gYAT0HQgz80tRRy2J8TH46tP38dIb/2VfcFMIP7AHK//4AV1VR4wGEZIHtmfAQIMHolGmC+o47N2xFk89/0/YKKGly5rlPyEq4qD6cW6vztd2bLWgjAwlnJIugzNtUNo/d08f3PPI3zTPaln+XPwdd0CKi/NRlJ/LGVMOBu/gFGpDR09Vr1+79LkWippGHQ5BQUEBTlZXomOH9hg1YRYCB4/iuxL0HVy95FsUlR7HuFkPaJ4FBG9fjuLseEyZdQcfRxLfNNiPIsLkw6aBdJSruz6oAmthfg5bUnR9zOtX/AwzEyN1bl16rbocP16Orz75F0zNbbHwvqc0c5sG3RH45ev3sXnNbzzW5un/+w+iI0KwdlnNwNjmQB25Ksm0cVVw8eqDBX/5UDNlOMu/egFZyZKPu61BnWURz20Up+5+uPvp99UFo+EI3bUkPztFCSJPzdS1hewu21Z9g+Sj4TUp59Q3x8jYnCPJp05WcUlwEtSUAlArkil/9Kx7XsQvn/yV0xae4VH/bROyZtSXcqtrt27w69UPjz/3Ot+qzkhLwro/FyE3O4NFJkWS//vNcu6c1CXy0AH8/P1neO2dbzVzatJ8he/fhZioMFiYm2PI8DEc6fb08uEfPRo4+Ncn7sbt9z6F/krUNQdKVUbWA+p4Hg4NVgKsjEXbkFFTMHDYeM1al0MFTL768O9wVWKUBiA+8vSrmiW1IXsPDXKk9Hy6AyApgt/S0dmmsH3Tn9i1dR2mz72HRa2R6kCYmFlwRovNa35HXl4efPqOhbN7TepHeh/bVn6NqvJ8zkhB+T7OnD6NDp1NMGVBbaGam5GII2E70e7COc4EZGpug8ryYk4veaqqlMuyDx01mb3GWujORUzkAUSGhyA3J5MHkNJnTUKbRHhedhrat7uAv//rU80z6uetl/8C394DOM1od09ffl+6x74xcjJT8cV/Xua7BFTQ544HnuVBp+SXp85hU6FBtdQhEFofEs8Ln/hIM2U4y758XsRzG0TEcxuGCoQMHnML+g2fxgI1JS4chXkZ6oRop/+EqHumqGmaVRcar9VOs4BW17eOPuh5uuRlHYOZEqTjZt6vmXNtoOwYESGbkBi9H8UF2VyZkd5ZXlYyV4mkNH9UnS4zJabmCRocXHtg/kOv87EtKczB/u3LuEBL3JF9bVpE6zJo6BicOXsGfQOH4vb7n7jMv5t87ChWLf0Zx44ewfy7HoJvzwAlsmv71MtKS/DrD58iNzcXz7/2sRLc6TyfhOzR6HCsXf4DnJ3d2M5BUc/OnTsrEX8czt098fizb/C6LQVlFfnio3/g//71NRxd3DVza0MR1d++/QCvv/u1Zs6NR1FhHrauW4b9QVv5O+7t2wdFBbmwtOuOoRMWwtj08kg/QQVyTp2oQrz6DlD2maZAg7JDti9HaX6q+t4Zs0ebOlanTp5CV2MLTF34FBcmos+4pDAL63//BEOGDWPbyR33P6nZSuOsXfErsjPTUaDeT/v2HdGrzyD4Bw6DjYGDMxOPRuLjfz3HWTcmzbwNXj59sHvLn5zq7mpWkRWahqtXXyx8shni+YvnkZks6QTbGiKeBR405+jui8qSXIye1Pzy3LqiuaVIS4pFWnIcunYzgY2jB3wD1EXM0Z2tF7npiWyLcPNuOc9nXQ4FrUN40FqOqgUMmsCvZevYnS/+tCw7TX/mBXtnLyx89E3YOdVO+0UCfN1vH6KspG165CiSRmnszp49y1Xx7n74OUyeMZ+PL+Virg8SHR/960X0GzAY8267/PY7ZSR4/cXHkJeXC88efnwy5mSlw9HZFeMnz8bIsZMRrwR4ZnqKEmEV2LB6MUcw73zgGc0WaiA/c+XxCnTu2hVePXo1eQAbRQn/9/4reOlf32jmXE5VZQV+/PxfePTpV7loy41MZnoyp7grKcpTHZUjmPvA39HdO0CztPUoLylARWkBzqvPub7XW/rtP/DvDz6D8RWM54iLicT6lb+hsqoKDz71Ot89IcjDHxcTjgAlqvXx3f/exJa1i9GpUxdMmD4fQdvXoqqVs4sIVwaJ59ufarp4/uNzEc9tERHPbRwa4T5h5t0cpXPz7AU//4GaJdcP5GXMz0nDoQM7OL1VFVfpa8f7TKXPjS0cMGLy7Vw9rSXZvOwzpCYeQeCwqegzZBKMTMwRE74TwVv/YAtHaZH+gTxmFrYcze83bAq6dDHifbSwdmBPJInutYv+wxaOtoijsxvm3f4Qunv2QM/egeozNLwoxx8/f4ncvAwEBPSHt29veHr7caqo4qICrF35OyrKyzD71jsvRqbXqHmR4QcxYPAIHkxYXJjPacb81OsejTrEt/itrG3Vd8CIKx6SqKV8zpXlJehqZIRuqsO24K7HlRjvydtrjOMV5QgN2Ynd29dh5ITZGDZ6qmZJbch2Qbfxc7NS1TqTON/yjcq+XRuxf88WvP7ul0iMj8by339CgTrOjm6+6Dt0CizVeX8toCj1usUfw6O7q/oOdkZpWTl3jObf8SCmzGz6QOHffvgfTpw6i0EjJvLnlhBzmAf0DRw2AbMWPKhZ6xLffPI6tq1fyo/J+mFr59TswYPC1cHVuy/ueOpjzZThLPn8b8hMEvHc1hDx3MZx9fDF7Q/+H3r06q+Zc/1CObUpK8j5c+e45HLXbsY8Kj0ybDdC921BwKAp8OmjPxLUVJZ88XcU5qXD2s4ZxmaWGDp+ARxcvZGVGof926nYylGUFNXvRbS0duQCDB06UoGO9uii9vV4eRF8+4xATlqcEuWRmjXbJlQt8PlXP0DfAYZ9XjRAjzzQDk6uLHgpkwd1pCglHfnM6Zb66HFTMXbidM0zgBeevhcDBo3GyVMnWKTPnHuXZgnw7MPzMPfOx9XznZToLkZ2ZgrsHV3U/oxk325hbgq8vH2Qlp6Bx555XfOs+kmIO4KgHRsQHhqEOQsfxohxjVet3LJuMfKzM1BRVoz/e+t/bDcggUdpMilaamZh2WJp6FqavTs3cJVC2uelv3yO9z//XXU2anzY1AnZun4Fdu/agYlzH+M7NdcCSklZUVaEC+cvqE6TDf9WxITvQllBCu687y8I6DdIs6Zh0N2KhKPRfDdj+OjJShA74PF7ZuDlt7+5LEvHVx+9hh0bl2mmyNYSwAOKE44e1swRrjdIPN/59CeaKcNZ/NlfRTy3QUg8S6q6Nkx3r54YPXl+i0dtWwMSo0S79u2VwKgZxEMVvZxcvbgq1/qln8Oj5yD2OF4pCdEh6oLnjzl3/AU5GYnoZmIJKyWkzSxtEbJ9mWZQYLVm7ZqCK+Tz1EaU6W9VZRmoGM1xJc5o+kT1cSWk2/F8en5bhgbbJcRFwb/vQBbDDXH69Cl89Pb/4ZEnX8KMW+5En8AhfMckKfEozJXApMIpyeoxpUU7d/4c1ixfhJ+/+x9OnjyJ+x97HgMGj4KPTjq37z5/R3WIrDH9lns4mwSJZhI3js7d+fOhdGkxUYfg5eWFLRv+hKWVHdJS4rFq6Q+crk6bL5heL/zgHnz6/t9rclTHRvL36J7HXjLI7kGv2XfgSOzashpnTp/A3u3r8cMX7yAsZCf27FjPKf0C1XJ9gyS10ABMSgvY2DFsSY6pz237xhXqmMci5kgoRqlOC2X90GbCIMHf0z9QiddCBG1fDWt712syKJk61+bq+2quPj8ax0FCOj0pir3I586cwsAhTRso6uMXgGGjJrLotrC04oIzKceOqvOlj3p/tStPknDOyUrVTFGJ9AL07juYO3mV5aV8TgvXFxZWDug7dBr/BjSlRR/czLn8hbaF5Hluw3Q1MsaMBY/C3au3Zs6Ni4kSrpTWKWjLEtg5e3GEurkEb12C82eqMe+up/gCHLxzDQaNvfWiIKIS3/lZSWzjaN+hI19Eydpx8mQV+zD1QRk5zp87i7LivDYvnLWUlRYjOiIUYybObDB7BGUrCN69BUejD+NYQgz2KJFJ+ZzHTJjGFQhHj5+GwEHDsWfnJi5l3H/QMFxQ/7p07ob9+7bDzt4J0ZGhWPTdx+xfpRRq9z3+cr3p6chPTxdFysHs5duHbTfff/4uEo5GobqqEpvWLOG8z/Fxkfj43y8iPfUYdwYoj/fsBQ+id78hmi0ZBhVJWf7bV0hNjkNpcSGnpCstKeTjM2z05FrFPXT59duP1L4sxqbVizGYym6bXp1c7RXlJQjbvwv//ugHtt4MGTFObwo56hh1aHeBczr79hmumXtt2Lf1DxwvSsasObfilvl3Y/iYqZwC8ErJSEvm6pReqiOkS+i+bchMT9JM1UDVbil7DN1ZkKqB1x/mLJ6nqu9+zdgdQ1uUiOc2yU1fnluon8DB4zFo+BTN1I1Pv0FjMXTkVOzfVuM1bAyyf1AeWhqsRlkw8rJTsGHJJ8hOjcHM+Q9zLueUhCM8uI08lJTfedm3b+D8hXO499mP4NVzIPoOmgg7Rw/OvFGYk6bZsmAoOdnpSIxrOM0TWTVmzL2LBUf/AUPYmvH839/B3Q88ebEQysGQXSgqyFNCNglRkeE4deo0HnnqFQwZPhbbN63EskXfwN7eAc+9+BbsbG25slxDUEQ3LTUFp0+eQogSf2UlRXyekHAmoVxSUqBEuTPc3HuwdYQ6WRRJHjF+pmYLhrF22Y+cF5jyNpcU1XS8qCNBPmyyRFBpaV2oE7Dkp8/w3j+eRlzMIewP2sY5pil6fjXIykjhQjfalINUcbEhbO0pQ8V5pCZG8HeIsm20Nierj198nWNHwxCyYzmKc5Px8F+eR9/+Q7kyI+WevlJW/fETDy4tUZ0fXehzI197XahDROX5qXNUH9RpI9pK3v3rCnXsdSPKhjb1P80GhLaGRJ7bIA5O7njwmX/zRf9mgvKzHtq/Bb59R9f8sOmBBvst//4txEfsQoa6qCcfPYDU+DBkJ0fzYLIxk26FjZ0z20OOqwtdePAWhO1di2MxB9C5aze4egWwRYPEQFZ6vBJtWShQwptKcQtNo2dAf7ZiUN7lhoiKCAVVZ7znoafZokAZO7TQQMFvPnuP16muPoHMjFQMHjYOP3z1gUaQXlBitMbyc/s9j8DFtTt2KEEdHxfNgphyFdeFCnKcOnUCEeF7uaAL5SXWQhk16G4DZfQoLMjBmTNncKKqAt09/dCzzyCYmV9eyU4f5NVeteRrJCdEa+bUYGxiipfe/C8W3PUYFwghiwqxbcMKbFi1CGPGT8fUmQswfPQkrpp3cN92GKnneHhdKnneGhw5FIIvP/oHOnfuCDePHggc2Hg0mTo+8dGhSDsWjcSY/YiLDELc4SB07NwVJmZWLVqOW8vqX/+D+Mg9OByyGSX5GRgzehSmzZ7PdyBaCoqmh+zbifHTb+OoszYLB0H++T3bVrNY1gdleTl/4Tx3wupCFp2OHTtyh124utCgbhroXVccN9aiDlDkuXYHSrj5EdtGG4TKU0+ecy969W2ZwXXXE2XFBTgaHQa/fqM1c2pDmTLC967GuKkLMGfh4xgwbCL6D53AjR67efbEyRNVOBi0Eat+/wx7t63gTB+WNo6YeeffYG3nioO7V7LvOTXhMN+uO9OGqwZeKZSFYOHdj2mm6odyM69a9jNHlrdtXIkdW9bywDTfXn34Nnjw3m1snyAfMomSDp06wlEJt8nT5+GO+/6ixPRYbN3wJ3r590MP397w8OyBgpwMxESHo1fAIPbpEiSMI8P2orgon7d1MGir3khhmRJG0ZEHER8TyVFpSqVHoomKYyTEHoKb+yVvdH1QFHL3llXswdVCVhKyYIyffAtX8NMKZ4LKnuPCWcyaR9lxTNim0bf/EI6m7tm2jlPGjWnFzB1U0CXmyEHMuvVuTJo2TzO3cQYPH4txk2Zg0tTZmDL9FvUZ9MGeTUu4k9uxU1fOyEHVJluKpLgwjJ8wAWMnTEXffgPYVmJex5N8pZDXfu+ODdyZrpuujs6B9St+0kxdDp2v9//lZbYHUafsuOqE050GbXZ9Ec7XBgtrx2aJ5yP7RTy3RUQ8tzHoR3rs1IWYMf9RzZybi8S4CJSXl8LTryblXuzh3QjetAhH1d+4iD3o0O48Ftz7HNy9eum93Ra6bxP++OF9HArZxqKZBA5BHmq6HUxFGqgAA/lghfohEWhv78wDq8ha0VWJDCqjXZeBQ0dz5oK6kDeUIr6lSph27tKFxS0J1dD9uxEbdRipyYnsN+0/cBisbe1ZEBcW5LK4JgoL8vg5Qbs286hoHz9/bN+8BoV5ubCwsoa7Es/kKV619BfOIx60az0iQoNwJDwI7S6cQWFuBsIO7lHnQCZnaagLvRd974dENVU3pAGGWenJ6rXPsy+ezpcuXS4JYYL2z9jEHLFHDlz0wFL+YHrvVDhm4JAxPE+Lja0D1v+5iD3eNFBWi6WVDUaMmYx2at7y379ByJ7N2LFpBcJCduHI4f1KnJXDw9uwqPSJE9VcsU9fCkGKtlvb2KtOyAqOejcXEuGjJ8zA8JHjEK6+b5RG0N27DwuRloAKm2xa+TMGDRmJfur8aA3ofO6kRPD+oO2q0z2u1qBO8js3ZAuqVp2y4aOnYv5dj2Ogei51liiNIhV8OXdOfleuFRY2jghk8VxzaTC0RVLkuVjEc1uDxLP6+CVVXVshcOgEPPj0v2tFtG4WMlITsPHP7zF65sOcYo4yXaz47k1Mn/cAPHrUDOihqDuVPNZHXNRBLPnhPeTpjJIXmsfc2x7ATIqQKhFN4pVEZHlZKXtBadAd/eQkKdGUlnqMBZmTS3eOLg8dNYlF2vtv/BWRh0L4uZTJgUokJyXGcjRYlznz78Hzr7zDzyFR8vbrz2Ln1nWapRTl66yETXuOzloq0Vx1vII9ux2VoH3h7+/gv/95EzNuuYOjqTQQzkSJWRLrZOd49W8PYf++nZotNY9evQNxgq0h7twBc3L1hE+vfrCysoOtgzMfj3+/8jDio8M1z6jBzd0bDz/9Ggtj8g1TWWvis/+8ijvueQwubjUl66mMuYOTGx87gir/UTlsSo9I74Oi8xvXLGVLyeiJl/uxKUq/b/cmPs6V5eVISYpBZ3XM8vKy+TXo4kDZa4xMzWFhYQX/fkOwZf1SPPSXF7j0dUvw4pN3oauZPeeFJhsZfWZUhVDr+6Z5NDjXEKiTsmfjb3C0NcX9j/5VM7floeIwq5f9jPijUexPpnzPxqZm3GHatXlFg77mnv4D8PK/v2JfNqW4y8lKw7YNy7jDQx0X4drg7hOIB55vvIR7XX766BmkJUZopoS2Av1minhuI7i4++COh16+IXI6N5W87DSsX/GdEgxmfCu1oiwfZ0+fQMCAURg1wbAywGuXfoX1y+qvDCcYzvw7H8YtCx/ggWwUva/PwkAigzJopCTGcY7jCh4gR8I6hrMY6INEXIASw0E7N3KEe/K0ubj19gfQw88fRw4fxEvP3KeEcKlm7RrIR7zwrodRoETh3p2bWPBQJcKzZ8/jy59Xa9aqIV+tE7JnG1avWMQp8K6UPoGD8frbn7EdaMeWdShT77m6qhpduplgzu2PoCA3E5+993/IVedwXVy7e3E2ErKT9B0wQh2fMjg5u8LVzQOb1y3DgeAd8O3ZF7csuI/Tw+kjNTkeP33zMR54/KXLSoavXPI9QoO3YvCwMep953BEfsqMW5UIz2fvLWXRoCg+HWdtpD43Nxtf/bqBbQctxW8/fIqSkiKcOHGKK/GdPn1GfUbt0L5DJ5ysrkbHzt3g4hUAX/+hMDG34uw1JLIzklUHTAkXSkNHkWvKpe7m4oK/qY5Ra0CdEeo0LPn5C874UlVZibPnziI7I5kL8Bgifvv0H4aJMxZi2S+fo0fPPrBTnaiVi7+V0t3XGBLPD77wmWbKcH788GkRz20QEc9tiMEjp+Hhv76rmbq52LdjNfZsXg5HNy+4efqh38DRsLJ1rHV7uz7KSouQGBuGrWt+QUaK/nLbQtOgAYAUpezYoYMSFVa4/7EXOCtFY5w8eQKLf/oMu7auRVaG/jsAXbt1w6ix07Bt00rNHMDH1x9vvv8lPLx8sWntcmzesBz5OVlIT0vWrEF2AQs4ODpzFJs8tmPGTUVmZgrate+EQUNGc/Ta3skZ//vgH3By8UJOZioOh+7VPPsSzm6ebKEgIUolxtOSE/iWe0PcescD6O7eA5Omz2XxT4Mc//P2yygtKcWM+fezPeTXb967LLJO+/rMi29iiBK3u7ZvQFZWFkfS6VimqM7GY0++qLZRjPWrl+JW1WGpb9Dgrm1rsX3zarz6768u+osXff8xIg7uhbtXD/TpN4g7IA1Bpc1X/PEzR+7vuO+pesV6axARHsIdo5joI0C7Dkood1BCuxIuTk6YMGUWFyyhXMtmqpPGgzlbgfSUY1jyyxewdXDCPtUBe/SZV9mHT/aYpkB3BHx790daUjz7nTmyrzp3lHFFuHaQeH7oxaaL5x/+I+K5LRITEyPiuS1ANo3bHvo/jBx/i2bOzQX1Aovys9SFrXalr4b44X+vovJ4KU5UVSIrPZFv1QstA/k4X337a+zasgqxRw7iuVfeZQtHQ2xZv5wHYaUci0deI2KURHBebrZmqgayd3j79OQBgr2UsFu/egkLYUonpmW+ErHkNfb27QVjIxP8ufRnFJeWYvCw8RytPhZ3hK0CT//fu4iNDMOe7WtV56qQrQPnzp6BtRLNC+99UnUMhmq2CCQejeQIetj+nYiJOMgDByk6Sfag0ydPwqdXXwwZOYnFeEFeFiytLFFYkM/7QcUzzCxtkKbe85zbH8KOTX8iPbl2B+6eB5/EMy+8yYU1fv3hM0RHHmIf86y5t2Puwnt5nTV//qbE9SYWjpQxZs78e9mXq8vu7esRErSds3yUFBbwQLp26t+q5T/B1t5JHbteGDlmIldq1ELR0Jgjh9hPvnPrei4gc9cDT2uWXhuoo0J3JUjMzpx3qWpkS5Gfm6VatvqMB9bqfC9f/J06P6LVudOb/c5kMVr269dYvfxnzRqGQzYcuhPRUZ0DVZq0f8K1xcOXxPPnminD+eE/TyE1QcRzW0Miz22ECTPvwsL7X+Bbm22d7IwkrPr9UyVYVM+xQweU15NSSmg+U2bdjqdeegcf/+tvmDrzViWmx2uW6GfZoq+xQYld8vA2hk/PAMxdcC82rPmDhV1dyCpy5/1/wbyF9yEy/IASjNsQGrIHyUnxShhOwfgps7Dij1/Rf/AYnDl7Gr37DuXsCCnHYtmDTHYE316BiI+NYIFjZmGFux9+Hn7+/dG5S1dYWdcfQSd7BWXP6NSpC69LZeSpcqGRsSl/94J3bcSOzStx+wPPYfWSbzBp1m3o0384Z2jwVaJ3n1pO+0KCXMuAwSPwdR1rCUFimgS4FkqtV11Vpd7bT2jfsQtu05PFhJ5Dg9NyczLYg06+3eKiAnWsHkC+2u/4mMN4+vk30LN3HyXIf1ciNQdHoyMROHgk20P6q783M+Q/fu1vD7FlZdzk2bjj/id5/h+/fImN6nz726vvs3+eII/9lx+9qeYv4emm0rvfYAwbNQXb1i9FemqiZq5wrSDx/MhLX2imDOe7D54U8dwGIfHccsY14bqEos5+/oPbtHCmjAlUAY7Yv3sdosL38gAxEc6tA9kNKBsF3YqmaG1D7N2xkTM4aIUz+Wu1xU/0QT5c3159ceqk/jsFFDlc8stX+OLjfyF473Ys+fUbztlN2w07EKRE93LMu+sJzLn9UXTq2BkfvvU0l1kmPzRFnynjgZmFNf7x/g949/Ol+McHP2Ls5Ft4YF5DwpmgCG7PgIHw9gvgXMhUOIWi0NrvHlUfpG2sWPQ5Tp85jW3r/kCuEmzklw0L3g4vn958J0SXxLgY/P35Ry5mEtGiK5wJyuZBAwwfeeJFhKptHdi34zIbCD3H0dkN3boaI0gJ9ezMVDWvE+LjItR+pOKNdz/n6P1Xn76L3NwcJfotVEdoIe6478mbXjjTZ79q6c9814N8+FTAJy0lAbu3reOoPWUYoVLwBB3XxT9+ynaY5kI5yN29/PDim5/Cw7uXZq5wraBvKH1Nm9xqni60Qei+lKSqu4mxsLTFmCkLWBC0RU6qC11Gajy++fBFFOZnsng+LbmZWw0SjPPv+QtncijMy+RMFg2xd+dG7NyyRjMFmCixSSKPBo7pw9TUnPP2Hg7fX8uSoQvNTzoWh3ETZyAzI4VzQFMaOOpE0cC3cVOoEI4jWysiQ4OQq4SSFnptKu4xaeZCzkOtzXTRElD1QBKvR8JDuDOXlhyPyPB9iIs5zJaP0ydPICbyUuo6gqLFlEXD1MwSgQMu2UUaggb9Be/ejHWrFuP8ufNKpPloloCjzd99/i78VAeEBjPSsrycTPZx79u1mbOVpBxLwGvvfIHefQfC07un5pk3J2RNORi8AzFHwtmCQectfU5U+IQ6IGvUvLycLCSrDlaG6sD0CRzC1pfFP3/OaQWbS6V6HXqtWfPv59eLDNunNy2icHWwtHXEwJEzlSC+PJdzQ+1Q8AaUFkmquraG5HluA1jaOHBuZ0r91BYJUWJ5z5bl3HkI3r5KhHMrQ6J02OgpLFZzslIwdOQEzRL9kACJiQy7KBhp0GB9wpmg3M8JcVEsKBuChMgF9Y+EtG72DRJLOUpQW1rbcvQvNvIgXNy8UFRQk92DxGqHDp0wasJMjnK3NDRALHjPJsy7+0lOK9e5SzeMmTwP59TxOnRwl97Bh6dOneRI/qRpcy5GnCn6SRF+fVDe4X5KaDs6ueDX7/7LRWQo9Rz5zp1d3HFECXWKOD/z4j/Rf1BNee8B6u+kGfMwatxU/kyoGA11Uq5W6e9rBdl03n71KezYslqdKzX+Yzp3yDOempygjnPNHSs+ny6cxxTVqbKysYOXT08U5echO7P5Zfk7deyE0RNn8z6E79/Jn7FwbbC0ccKgUU0Xz+H7NirxrD8zkHDzIuK5DUDRLCoH6+3Xj1N0tSVSEqOwevHnLDjo4leUX3uQmdDyUHU+l+5enN0iJysVQxrwO5cWF+KXbz5mkdIUSGDXxc7BCXb2jhzFo8GD5DcmUUIFVepSVJjLHufcrHT07jsYVdWVyNOJPpPn1cOrp97S3VcKlaROOBqJc+cv4JbbH8OgEZPg4NSdS3uTb5n8zjQ4sS5Ulnz0+Kk4GLIbG9Ysw8rli7BvzzbY2tmz0Ks7QJCg4zFr3p2wsLTEymW/YM/2DSyip8ycz4MHewX054p3//vgdRwK3YeRY6dwEROq3HjqxAlsWruUC9no2/bNAgkgOl+yVYeKOhfUOSPoL3UAdaGOFR0LGly8YdUSmFvZqWNrwz7y5kSNyeYzYtx0LqyzZ+tqjmgL1wYrG0clnmeo86GOLaORdmgfRZ5FPLc1RDy3AegHmTJR9B8yASamDZcMvtmgTkNSfIS6OMUhN/NS2jKhdRk2eipbEropoRE4aIRmbm0OHdyL7z57F9FHwpolPOri4OjCFeUe/suLcFGid9e29SisJ1c0QQP57njwb8hMS0RMxH4eLKiluuo4p6EbP/VWzZymQZFiEuAERZeTE2PY20z5q/NyM1hARx0KRk8l3LUFiyizg52DK6qOl3EUntKY6UKRZsp6kXQsET0DR2Ps1AUwMbPG3l1bsHPrGqQkxcPT2xfdVOehLi6u7rhw7hyS1H7ERh1CQlw0KspK4eTkim8+fQfdjE0xbNQkrurorNYNCdrBHnDKp5yVmY6+BtpFblTsHZ0xavx0ePn0UudlEBdb6d1ngOp8OKmOd9eLdy7oPKXOzeGwYLbD3PXQ3zB93r2orCxXAjqPz5vGIA/8GSXCiWFjpmDkuBmchzwyPJjPOeHaYEWR59HNiDwHSeS5LSLiuY0weNQ0DB83WzPVdshMicf+XetQJhelqwYNXMvLyeDCEQlxR1BdeVyJr2Es/EJDdikhGYuQvVux7s/fOX+vPuFsbesEByVuSVieUULU1cMXtvYusHfqzuJy3KTZmDXvbvaMVlZWcISQIoVxMZHISk9F9YlK9qnqCuK6ULVByqSREHuYK8PVhTqdFEW/tOwCNqz8ledRTmEagEjs3bGO94PWO3I4BPv3bsGvX7+PsJAdSD12FF98+HcE71yPPdvW4FhcJOxsbVFeWqgEWbG6+Hbg6n9aKCVenwEjuZHlJEcdQzo+dBzIdmVqYYeF9/8N7t49WdTZ2jvDP3AY+g+diORjCezPNbewgJGRidq/SyI6MT4Gn370FgYMG8s+7jNnTrH3m1K+UXT90adf5ojq+pW/I0iJ8UOhIUpoxyFfLT+rRHex+uxITN7MUJo/Ryc3HhRInnfKrEF3UMqKC3HiRNVFS8cZda5RsRTqzNCAP2r9Bo5igU1pCnX96vog4ezS3Rvunr6488HnONJPlU/z87IQV6fSpHD1sFK/OUPGNF08hwVJ5LktIuW52wgL1AV30qyanLBtjW3rf8Pynz7UTAlXG6qSN2z0RCTGRbG41ScuSBz69BoAv4BBMLe0UYKkFxeOoMhnvhLizkpsUGSWRMbPn72Gx555hUtYf0GpwlYvVuKmfpHcGNa29nzbvSH6DhgOzx691Wv9xvtP01Nm3aEEayw2rf6dI44kQk+frEbnTh3Yc0yWEU5npPl78tQZfPDZIs6nTORkpeN/H76FUZMXqPfb87IqjCTeM1ISlBjfBDfqPNg5wl3tA3VO6qNQCbDNa35Dp/Zn8do/P+GLO+WgXvzL1+hqbIaFdz+qWfMSlNea9pFyR3/wzxdxXl0NqNMxaeadPJiQBipuXbcESfGR6BXQD3fe/xSOl5ex79zV3Qv2Ds6aLd1cUAXLNSt+5Uh0fVD+7idffEcJYCv20r/76mN6C+vUZcrs23H7fc/AysZeMwf49dv/4M/fv9ZMCVcb754D8ORrTT/+X/z7cSTFXZ4yU7i5od90iTy3AYyMTNF/2ES+mLY1MtMSEH2o/gug0LqcPnWKPc2U8YIsDLpQBJdKqM+54y+49e6n0aNXIAtFigiTUDY2MYedoxs/Ji8zZcc4ErYbffsP4bRsFAEM3rv1imwf2nRuFAEku4U+aBAf5UDW7j9NB+/exJFCbVllEtAmJsYwMzXlIhpk26BGQpp+aI1NLfDAY3/jdQkSy17evvjpy/dYjFLHQRcStJbWdgjoP5ztHBSJJ7tHQ5AloO/AkTgQtJUj/1VVVfjxm09g6+iCsZNmcSaTumh/E2hwJOW29us9AN26GSM6IkQde1c4Orurjk0grO2csHvrGixXAi8qIhx5+XnYsXmN6uCcgrevP2/jZmL/3u1Yt/I3zZR+yCdNnwtlmOGiJ+rzoWN4SpMWUwudu/TZuKpOIHWKaJBgQOAwzVJwWW9aTndsKFe4cPW5FHm+3NfcUAvdux4lEnluc4hto41At4j7DRoLEzNLzZybGxIyBXmZWL34M8QdOYDSYil9e63w8O6J/3vrv7CxdVQCkgSEF8yVOCbROe/uZ7Dwvr/CycVTs3bjxEUdRE//Ppwvmfy9kYf2Nxo5bgyKfNP2LK1s1XfEgoVrY7ffyR87YfJMlJWW4Ljmlr6pEs5dutTOv0yQeK6ursbCux7RzKmBOgBlZSU4j/bo0bOfZu7l0KC+ppCXm4WdW1ZyCjrKHX3n/U/qFc51yUhPVseyEPPvfoJF4R8//Q+9+gxiYWdt46CE+Sj4+g/E0NFTMXTUFB5DsXLJN5g5t+Ur/V1r1q/+HcmJRzVT9UOdrh49+3J0nqL8R6NCa3XmSFg//rd/YursOzBi7DTO9d2n/zD2nOflpHNhlnUrfsLSXz7jAjtn63QwhasDieehY2cpQazfnlFfO7hHxHNbRMRzG4GqnXXo2IkjeBZKINzMJMVF4M9F/8WO9b8hLSkWhflZmiXC1YYimLMX3IcxE2ey73nspNncRk+cwdXregWObNL5GBq0GVUVBZgwdS5HjH/74VMcpvy4dbIiNBWKKJNntbysGMfV38aEM9G5U2dkZaQgVwlUggQ4WSC0UWddysrK2PYxecY8zZwaqqsquUT4zPmPoLN6fktxYO9GzLhlIW675/EmFTdZs+xXuHr4sI3kgnovhw7uwbAx0/i9EfQ7QtFw8mZThyDlWDRcXd1vSj80+capY0OFZBqCOm6U7vBg8HZEhAXVEs5kQZp5670oLsjDgX3bsOqP79RnswUDh41DXPQh/O+dFxF9eD/n+qZMKyKcrx1WdiSeZ+sVyA21g3vXoaRQxHNbg8SzVBhsA1BC/o0rvsd3n7zM1fWqNJGym4my0kL8/u07WPX7Z4gM3cVRnIYGjAmtC0WFBw0bi2GjJ2nmXIJEdT8lpkuaWFzgaOQ+TJ99Ow9uqygv4/zQWtvF1SY/L1sJ50sdM2cXN5ia1o7unjp1CiUlpRg6chJe/ecnmrmXMDI2gYmJKfbuaH6lOn3Q95uKoGgHNTYGVXf84qO3cLzyOHr6D+R5FlY2HFWlAZ/6iI85hA1//sx+9psR6nS8+f43uP+x5zVz9EOVSmOjwi4OKNRCHY72SlxtWfsH/vj5MxbVU+fcwenpKMocHUFFfsobFefC1aEdtTrC2KBW83ShDSLiuQ1RkJuBz999BgeCNmrm3ByQLWP90q9xcO96HIs7rJkrXCvIA/vE8//Es6+8C+d6ciU3JMzqgwoZRIQH82NKqfbq25/j9nuf4OlrDZULp6qBZNugCHRFRQWqqk7g4adewStvfcxFWfTx6FMvo7QwA/v3ttx30sW9B9tZDIUGXyYlxmL2/Adh7+TK83iApuoArVcCWV/hFntHVzg4dseBvds1c24+6P33HzQSQ0c13EHQV0yHyrnPuf0hDB4+Hu3at2Pb0rb1yzlbS2jwDsRFSWaN6w31MTW5CW0XsW20QY6XFSM3OxWHQrayJ7hT5y6wsb8xR83v3LgYy3/5GElKNEuk+drTK2CAEox/x/AxU/g2vz7IrkApu7atXwpXDz+D8497+/bFnu1r0e7COXT39IGFpTVH/qqrqhDQfwR8/Ppy/ubq6kr2vdcHDeDy9e+PidMXwrV7D5SVFPI+XQlnz53n84+E88lTpzFlzh0YN3kOTql9oWIk9UHRZ1c3T/z89Qccie8ZMFizpPnQPhyLi8CgYWM0cxqGynIfSziK6XPvrVVIacDQsWiHC1iz7HucP3eOB3Nqad+hAx9nshwMHjYWXbq2fDXG6wHKAU2di6NK7GoLqNRFX3ETiknSAMDb738G6cnxbNOg9IBkCyLo2AnXD5Qec/i4Ofqjyw20/bvXim2jDSKe5zYKpdpacPejGKEETsyR/UhOiMTRIwfVhdyMhQxlNdBCF01KU1VckI1i9SNBPj66cF4PrF/xLZfezs9Oq+U1FK4NFHWdPf8+Fo31QSWxF33/CcL278HJk6cwbvrtfBEyBDrvjiuxfDB4hxI0nkg4egQ7tq5Bzz5Dccf9z6H/kLEYOnoK+g0YiePHy5CZdkzzzNqMHD8Tz77yIfoqwd1/yBh07ERZMdQ5f0F1LCvKNGsZTteuxrhw/ixntPAPHIJJ02/lzAshe7ch/mgU9u3eyqndBtcjZqkTMHXWfGSlH0NE+H749q5fbBuCkbEpdm3+ExOn3aKZUz8b1y7F0ejDcHH35cGBdXFy8eCOzuo/voejS3clJt14PpUzX/n7V5h9613w7dWX592sWNvYc17ttNREzoxiCHQXgjppVMo7Mz2ZiwbpqxwpXB/Y2Dk3Szwf2L1OXRclQ0pbQ8RzG8XO0Rmz5t+P7RuXY8PKRXxRpEFYMRFB6qK7HLnZKUiIDUNCTBjCQrbgmHpsYWmByIM72BfZ3asmV+21JGTnGtXrX4fcLPEMXi9Qp+yxZ1+v1fnShXI9//7TZ7Bz7oF59zyLIaOn8QWoKbh59lQi5ByK8tJxODQYgYPHq3N3vmZpDeYW1lw2OSuDskdc7qv26NFbdRyna6aAHn59WVBTZhDyyvfwC+CBcZR+THfwIGUKoWUUjaQBhto0ddb2rjhRXYHJ0+fDw8sH333+PvwCBmLKrNsx9/aH4ereQ203H6uW/YLzSmR7el8qjKKFxDvZBPbu2ICBwy/3iTcFupN05uxZLFv0DYyNjfRaZ8L278ay375FWkoy+g0ewwMa6Zjpg4Tf2XNnMfPWBzRzoDrZ5lxYZMOfv6r301OJDwfNkpuTjPQk7N22nkt0Gwp5mjOU4KZy8jTuRLh+oVSMIybQgMFLaegMaSG71op4boOIeG6jdFYXV4oy7d2+FkkJ0SjMy+YL/aQZCzFo+DhYmFugu4cXunt6w8fPH6MnzkT/waMwYtx07N7yJ06oi0FT0osZAhXEoEpemSlx7Fvu0L49X6goiqaPPVtX8OBH4fqBygxT5FkfJCQ2rl6ihLMXxkxZoJnbPLookRm8czV7TXv3HVqr2IQWGpjVq89gFsU2Ng7qnK1CaXEhL3N18+YIdV1IyNNAOBooRtFjewcXPu9NlVC0d3LBQ0++jLseeJqX9Rs4HE6u7hg/ZQ4yMzOVgHbBtFnzMWDIKE5dR+WbBw0fz9ulyHLPgAHqO+WDiEP7EbxnK/oPGlbLIkFQ7udtG1dyB9XZzbPRvM4NQRaL4uI8ZKcnY6Dap7p8/uGbCBwyHqPU8aHOQ33CmVi5+BvVSRmrtumjmVMDTZPo2LR6MfbsWKveY3/OQGJje/MJaerwOLq4IjJ8v0HZWLSQfYiywcidseubGvHc9MhzyE4Rz20REc9tFBNTM4ydNIcHrlCeUfphnzDtVi73S8KahAeV8aWqZvSX8rxq6datG4J2rFMX3gk8nZedhrKSfJhZ1H/xJSjvMqXKIxFVUVZTFEAXEszLf/6Ie/JB21YiPjpM/V2BTpQ398IFJWpClbiw4luhxK7NS5Xov3wgk3DtsHdyYzFZN/JMEeclv3yp1GlnjJg4t14vtKFQh2rDyp+U+OyMGfP0i3WCxKiNOof9+w3FwKHjWNxTRHn+PU9yVbi6UIEKsjCNGj+dL4zuXr7w6dkHI8dOZSuKtpoeLaPvhn/fQTw48kR1JXIyUzFlxjyu1Ldv1yZ06NSZ8/nqQkVh/PsNQZUSx7//+JnqgLrVEpoH9u1E9JFwRIYFIyE6HAlHD7OflqwTTYXS7gVtX4Nhw0cpkdtDM7cGEn+b1q3A1Nl38ne+IcL270TKsVjcdv+zmjm1oYGDFMlPSjyK5b99h5TUVGzbsAKeXj71DpK8UYkIC0FGWjLKSvV7n+tDhPP1D435aZZ4pshzgYjntoaI5zYKZQbo0asv32qNOVKT1N+nZz94+wVo1qgfSsEUtGM9XNz9lMANxaF9G3A06oASxqawdagZqa+PzLRE/PLFGzxI8cCeDUhJOMKRtU5KZJCwDtq+Eof2b7+YRq/yeBmLkiz1vMNqPvXwu3algV41qbRooCMtE64PyHIwc949CAgcwunjDgSpz2zPFtW2IjoyDINGz8KI8bOvWDhriTq0DwvufpILmxgCddx69x3MxT30CWeC/P1HDgVj9IRLlo76oGqEG1b9zn7f9h3aYdeW1Rxh/GPR1/xdmjHv3ov5ketCNg7qaPz6/X+Rk53OxVLomP34zYfoFzgYB4N3Ii0lXgn5KJw9fZoHQzb1uNH3asOKH5Gacgzh+/ew8AtRn8mmdcuwd+dmDBk5GS5unhc7o/VxcN9WOLt6wcu3/t8G6syE7tsOv36jMWnOQ+hmQsVTvkNacpz6bTmrXqfp4j8lKR7FRQWcxztdvQcP1ZG51vT0D4S7h4/qUOy6opLwwvUHeZ5HTbjlMnHcWAveuUbEcxtExHMbhaJZsUfCMGnmQsTHHmb/JiWsHDNxtmaN+qGLra29I9Ys/QalhTl4+qW3MWT4eCxb9AV6Bgxhv6UuFGVeveQLhAZtxLGjh3nQYUVZEQvf0KBNSIw9xOI4OyNJifrLL0jkOyURTeRkJqNX32E8aJHWJ0+2cPWhQiCU0UELdWrGT70Fdz30LEJDdmDFom9QVX0KAYPGw1edE15+gXBybVmbDwnd8pJ89uq2FCSw9+3aoM7nceznbQg6J7/67z85uuri6sGp4Ty8e3G2kRm31i+ctVBFw959BnEkMyRoBw6E7FLn/ym2Kp1Wgrm0pMZiQt8X2q+mDiKkKonUEaX3MWLsTPZgk8Vl8IhJHIX36dWvUeGcmnSUS33PWvBgo+9n97a1cO/RBzb2LrCycYSnbyAyM9IQvGujEia2cHLurlmzcXZvX4flv32P4uIS1fEKR3lZKdvI6E7CtYYybtBAULrDINw8sHieSJHnGi+zoW3fDhHPbRERz20YunVLkWc7RxckxEaivLQY3j7+MLOwvEwA18XOwUUJ7VnsB6ULO0XF9u1cj05djOCoc4s5Pfkolv3yESIP7OTosj7KlZA+XkFV3RqP5Ng5umHUhLn8mnnZqWq/w2UE+1XAysq2VqSNRIzW92luaY27lWi+++Hn2PJDhUsqT5zGnDue4FLXdG5QRbqWJicrRXXGDmHQsBr7UEsREboHfQIHg1LINQTn9r1wAauW/oj27dpzRoX5dz+uOneXZ6yoD3oNP//+7I0eNnoKxkyaDWNTc+RmZyAjtSZTCFU/pEGM3n599Hq7G8JHCe4E1TkOP7CDPwOKvNPnQZ9TfdDvAGU1KcjLwuIf/4t5d/6FrRmNcV51yMOCt+JoZIgS0QFssXL3DoC9syc2rPyVvcLh+3ep49aNO98xkaHqM0xXnfcIHIuP4VR3xsam+PHL9xEbE4W7H3kJA4aN5zsFdK6t/fMXtv+cP3+Oc3xfK8jLfkR1lLSVJYWbA1sWz82IPCvxTN9PoW0h4rkNQ7fXJ8+8HX7qAhuyZzOn6EpNjsOAoeO4gIUh6EbnqCRxZHgwevYdwgUWkhOOYMWvn7C9oqU8f44unhg3/Q7+0aJUUBS5FvHc+pxTgoU86hTNpM+SxAwJGCpQMve2BzF28hx00KQvJIFjYe1cqxPVGmQpsXrh3Gn2M7ck0REhPEjW3EK/tUMX8kMf2LcDYQd2Iyk+mjN7BA4cqQRqw53PhrBzcObCGoUFuUhNiuN5ZGGirA0lavs0ELApFo7e6vvo6OKF/bs3YMjIxrN47N66msVu1OEQfu5AJWANgQYPDh8zFWnJMdi5YQkSYkL5dWlwp6tXbzi790ZXExscViJ6xeLvsXvHBr7rVVZSzNlTQvZuYV98eUUF7nzo+VpebGc3L5QU5bPtJDExDqamppz55Frw+4+fIljt65krLAkvXF+Q57lGPOuPMNfXKPIs4rntQeJZKgy2UcrLSjhqSKP6e/ap8RFTSqpVS77hx02FLpwnq8rZu0lQiWyyabQk1VUVKNWUdDY1s+TIptD6nD51iq09utHncZNvwfy7H0OfAbUHxVFkcN/2Vexxb03atbvA50BLU1P8w/CS3w889jwunL/Aj8kLu2fbGn58JZA4vvWuxzgqrYX8zysXf4nvP30Dm1f/itRjsShWAnvZL//F/95+DsfiIjVrXg4VlKECHRtXLdLM0U92ZorqAAfhgadex19f+x+mzrlbs8Rw7njgr/jnx7/CwcEBezctwt7Nv2Hryu9w6tQJtnRMnP0A7nni35xP3sLKgTvaru7eGDZqMrhs+6BRF3NJE+QjD961HhGhQejRezAWPvwG1q1cwr9fVxsaKBgasouL8gg3H3WjyoY0oe0ikec2Cl18jkaF4ZQSRBSFjo44yBFFul1MUR0a1NRUYiIPoquRGSyt7NQF/ucW94LRvvYZNBrWto5cjY1GOp9WF+UOHTspAXOePZwysr11IYFDEdcHn3wZ3Ywut2PQeeTs5qEE9Gqkp8SjV9+WjQxr2asEeudOHfUW9rgSKFWdg6OTao1bFQjyPKcmJyApIYbPvbSUBM5W49aM748ulN4uoN9QvptToSMUszOSER99CJmpidi6brF6HM4WFop6jxg3U7NWbdYt+wFVx8vg4u7VoEecvOypSfFKFNREe6+EvgNHcqR70LBxMDExwdY1vyA2IgiZKUdRUpyPwtwMeHj7coqwivJynFUdEHrcw6+f+n5fykCyd8ca7NyyGvc99yG8eg7gQcZJcRHw8vKGtY2dZq2rw7qVv+PQwaCLAQLh5oHudIyZNPcycdxYC1K/cxJ5bnuIbaONQ5EUunXab9BIJXwP8EWBIofuXn7sj2wqXr69ucjKvp1rOYVddWWFZknLQAMdaaDWwGGTELJ7LaLC9/B8Es4EiWixcbQuvfoMxHN/fw+OTm6IjQrHN5+8hT3b1mPP9ppGnTLf3v0we8EDyMtMUSJ3jeqI+aJbIx7ipnJw7ya4qU6el4+/Zk7LkJQYzXnOKROFoVC6ObJuUAo6yutLHujAwaMaHXTYGOQtpxR46akJsLCyvhjxpO8BXbAp7SMNMCRfNN2RMTW3Qteu3XBB/WNPtrq408Baitw++ORrnCaPoOdQjmmqHKiba5oydFABpZ2bVvC4Ahrb0BI4Ortj1IRZPCDZxNhYHV+qZGqKvdvW4Oy5c2wHmrPwEc5SoiucifycDHTobIru3pc+59C96+Hs7Ax3z9p5p1sb6qBsXPOHZkq4mbB1IPE87zJx3FijTnxRvojntoaIZwHWNg7oP2gUCvNzkZ9bMwiGLqoOTq4GDRTShSKRFGnq0J565OtaJQpMIiEjNR5J8Uc4a4cuIpxbn3sefg6BqrNF5OVkqpaF51//GKMnzOQ2Yuw0jrpSdgYXJW7Pnj6JZb/8j+8W2Nq3jBgjrNR5G3FwBwaPmKiZ0zKQt7hz506c49lQqHwzXUjDD9R05tLVNsgSpWu7aC429o5IijuC6bNvRfjBYM3cS/QdNIaPK1XajDi4G4dVozR+FLGNPhTM4puy1NCA3IiwvZy3eevaJYiK2I/Na39HQmwEevcbzMKZoPEO5Pdev/IXDB/beMq+pkIRPgfn7vDs4Y/05HiYmFiyQC4rKUTKsRjufFCxJLKu0MDlsP07YGnbnS0fRHzUfnTCCUy/5faaDsJVZM+ODYgMD+HHcpfr5oK+Q2MmU+T5kp/ZkLZ322olnrM1WxHaCuJ5FtRFoBsPUqLbxFriYg5jzbIfa1LYNZHMtCRs37CcB/S1BmQtOXxgBzKVgNZiZFy74IrQOpiYmHFREC2Urs7Ns357wv6grdizfQ0C+gYi6uAWrF/2nWbJlePu3Yu9yUE71+GYEpctBRVSIX9uUxkxZgr8evXTTCmhtW0tlwe/Uqgq4egJs7Fz60bNnEt4+vTByPFzUFVZflFIUkSarCdxUWEI2b2B/dF0fP74+X9cKXDDn7/gkBLYFF2OPryf7wy8++rjqjMaxXeeqNmpTjP9Hmxdv4S32RrQ7wPZegKHjMNDz/4bXY3NVef3AnZvXYNt6//g3NEERfUoh7yWsuICDB89kaPyVPb6apCdmYZX/3o/i2cts+bdgyEjWjbTi3DtUDoY7ZUabmqj5wltE4k8t3HoNntEGBWGmIWiwhxOVUVkZ6biuBLPPr0DuQCGoeRlp2PN8p840nW1oBH9p0+d1EwJrYGlpQ3GTZmDyTMvldam6pSVxyvQw6+PZk5tqFRzYP+BuPehpzBy7CRUHy/ByiXfwNrWmXN1XylWtk6IjzqE0JBtbCNpaio3feRkpeL0iUouftIUqGonRSOpuiBB2SHysjPYAmVhdWXv1d3bjy0hJOLsHFxhqd6nq7sP7v3La4iN3I9OnTpw1pHEoxGaZxgORU8pLR15tjet+Z23ERcdjmr1euOmzKu3oMyVQpFl6qgE7VyD4WNn8vs5fryMKzyOmzyXI9R7tq5GavIxjJh06ZwryE1HaNAGHAjeybmjbWyv/DNvDPKdL130teqY1AxWpmDD/Y+/yJllyOMu3PjQ+TZWne91bRmNtT1bV6FQIs9tjgULFoh4FiiLxXHkZqfCt2eg+pt+8XYkiSMaONUUXyndFt6381KE5mogwrn1mTBtHp568V+aqZpzY+OqxbCxc6oVjdalrKQIFaUF6BUQyKnsvH17wdW1O1b89gWqT5yAm4efZs3mQaW2e/YZjKNRB7Fvx1ocDt3DAszbN4AjqMsXfY7iojwWgOThNQQaB0A2gj6BNf7gpsCZRnZvvhgRpWNUkJeNwcMnNJo7vSHIl9y77yDEHgnHmKkLMfu2xzFs3CzugOzavAxT59zBlhkzCysuZ08WDG0n2FDINkE53l95+1sMGzONW2sJZy2UAjEm4gAGDp/MQoTSfnU16sYe7vMXLmDdip8xetrdsLC+JJBNzCxhbGaHquqTKCnIgF/vfjyIUB9How5j0Q//g6d3T+7cNIftm1ZhyS9fsK1Ni5OLO2694xHsVOKeggzCjY+tgwvGT226bYNSO4p4bnt88cUXIp6FGqhiFg1wys/N0sy5FJUK6D/M4Asp+SmTE2M1U1cORfN8egZwMZfBw8aid5+BsFCigfJSawt1CK2LvYMzZi24F27u3jxNpanfeOFBjJs8D/2HjOLPSB+UHi0zJQEDhtR4pAlbOwcMVNMJ0WE4uG8nfPwH8oCx5pCREofViz+Dv38A7nv4WQQOHIJ1f/6Kwwd2cRS1k/p1M+rWhbM1kLWBCiE0VimPIsaFeZnoWycFnyFQNDU+NhLZGZcEVUmx6jz0HQjHJlTYqw//wMHYsPxHxETuR1b6MZQrwUuFYhbe+yR/BpSzfdT4WVzpMDJ8n+oU11TmNBQa60Ae6bSkoyzMzS0uWblaA/oe02tSxpDunn6Iiw5FSmIMR3g7dGiHk6dOY/iE+Zq1a+jS1QhWqsNmZmGDDSt/grmZGTx79ORlVGxl19Y1OBwWjG0bV2Hvri3w7jWIzwn6Hesd0B/tGjjXKCUj5Zo+ffok9u7YiGMJMViz/Gferi50F8C/zyAcDN7BgwiFGx8aHDtuatMjz7u3SOS5LSIDBoVaFBfmax5dggRQ7z6DuQhCY5AHdvOaxRy9bgmoAuLAoWNw8sQJFuRUpvfWOx5ifyldeMlOQlE+ipwLrce4yXMwe8H9FzMzUMn0hLgo3HbfU/UKZ6KysgJxMeEYOaZ2cQ4jI2P0HzQc585UY+Xir2Bt59JkG8f29b8hOmwnbr3tXkyePo+jplbWtpgyc746X/srIduFq9Y9+tT/Yfyk6ez7Xb3sR/bSUmns+qKV0REHcOjAbpw5cxqpSQk8+C8jPVmJ1RRk0eC7rHTk5WQgLzcbBfk5CA3eiZgjYchIS2Kh7Obpw2WxaTAlUXMX5wLnQb9SKE3gqPEz4EPVBq2t1PE7iVL1muRz9vMfoFmLvjeO/FklJURxR8dQaF8z047hwoULGD1xDkfraTp41wa4e/fkuwctCf1exKlOVGjIdqSq7/exuAjVGYhA4OCxiAzbCzNrB/TsO1yzdm1onANl1wnduwE9/QNVp6cAn7z/GpKTEmFsagP/gWPRs89QBAwYid6BI/iuRDuc5zSc9BnWLfVNZbcjQoOxYsl36jPdxSW4g/ds4e3WhSLjycdikUN36dR5Itz4kHgeP/XWWsLYkLZry0oRz22QNiue6cJ67tw5zZTQGE6u7ug7YIRmqn7ox4T8kkkJ0Zo5hkERLlt1wVdbqDVYi4pgJCfE4Hh5CUd7KNq8fdNKLo9LBAQOhoe6qFN+WrpFLrQ81tb2mHv7Q1yKmjpS1EhoUD7nkeMazsZAdwaOhAdj3ET963l6+6K7uyeW/fKZEm7n4dy9JrLdEPlKsKz6/VO4ONrjwcf/pjddGd2ip3RtaUr8Dho2mgtxkKAeOnwMDithvG3jCi6wo1vFTktBbgaKiorQxdgKlVUnUFBQgOysTKSmJCEtNRnxR6NVxyEGUer9R0WE8XRY8A44ufdSHYUj6riEcSePBhNp8wFTxH7QiAkXOx9XCr0/e3WxJz91NyMj9Z07fFklQCqasn/vFs1U0yAhPnT0VLZ/FOZlY/EPH6FP/+GcQaSlOBy6G79+8z4iQ/dywRey21BaPYKqWVZWlGP4xPmwsnGsN1psY+fMPvAdG5fy+nl5uTCzdOD836MmzoOFlS2v11H9PlAO6e2b/sT+PZu4wiF1uCvKy1BRUYp9uzZj5ZIfsFWdF3RuFxXmXbSu1Qd9D2iQJkXOhRsfurM5oRnieSeJZ/UdEdoWbVY8d+zYmXOlCoZBvtZBw8cbFHmi2+P7927VTNVP127GvM2ps+/A7fc/gwnT5vOFKOHopUppVZUVfBE7dar2BYoGOaYlJ7CAmTr7NoybNIutBRQl0q08RnlvqYiK0Hzad2ivjuFpZKQn4Vh8NLeUpDiO/Pcb2HCHir5jYSG7MHHqbM2cy6EBX/36D8Gi7z7CyZOnOYtGfVBu571blmDugrswbfbCBi0YJNyDdm+Bt29vmGvKzVOUvN+AofDu4Yedm/9EyJ6tnELPUiOyiML8HFSo827S7HvQXe2Ld89+8AsYDP/+IxAwYBQCh4xH4NAJGDRyKgaPmoYR4+dgyNiZ8PUfpNYZqeZNVcumcYVFrRgkoUa+Z0NKfjcV2t9TJ0/WijzTe9u2YSlHpZsDpeujcQSUEYNS3yWq72R3L18l1mvsES3Bj5//CxEH93CHmNC9e0SRPLJbjJtxd4M2C4o8+/QexKXaI8L2KTHTARPm3IuYQ/vUb3xHJMSG829Xly7dVIfDHPt3rUfMkVDV0U7FodAg5OVmIWjHBmxZvxyZahs0+JXuOBiKCOebB+qMTphG4rm2p7mxtmvzSh7XILQt2qx4FuFsOBR1fvCJV0BV0wzhzJkzOBi0tVE/MlWhe+blDzBg6FgWL3TB3Lx2SZM8hHT7lMrlkqALHDwSI8dN5Sh2eVkxe7hFOF85Z06f5vLODz35dwwfPQUD1edFrTHhTLRr1x7BuzZiyoy5mjn6oUiqg6ML/lz8lRJLnbhCZV1hTJW88tJj8dTz/2APfGOYW1iyVzU3mwb/1S74Y2FpheGjJqq/Fti4+jfk5GTwOUgDHHOz09TfEvgGGF65sO6+UqSThGfkwV08Td5jik6R9UE3JWRLELxzA1w9/S56qoN3b8TyRV8g/QqzQJDNJfbIQR7QRx5gl+7eCAhsug9cH9XVldi3cx37kPVx4cJ59TtyEvlZabC0ceROcF3oN5y88okxodi/cyXcewTg/mffg7GphToePREatJHzSJ8+VQ0v3z5KqO/Ejo1LanUoSFTTeyPRLLRtyLZBARx90eWGGnVURTy3Pdp8nmcauU1FBoT6IR90UywulLYscHDjxzRw8Gg4OLlppug27l4u2NBUTp6oZtvG+j9/w/LfvuEo1Fklqgkq8uLl01sJIxv0HzQC3T2urGRyWyUxNhJnVaeoqdBtbcqaYEg0b9DQUfjsu2Uw6ngGy35452LhARI3+3etQ2FWAh5/9u+wM7ATR/j26sMWrfoIHDAMb777OTzd3bDkp4/x4xdvIyRo+xVlxtBCEW1dQkN24j9vPMsdvSuFsnrQGIDfv/8ECfFR6D94lGaJep1925CdkaKZujJ0y4KTUGgJjoQH4euPXuW80g1RlJeJkJ1/Yu/mP3Ci+nJxu3PtL/j105cREbIRt979lDpfMhFzaK/6LegCO8fumHXHM/Dw6YOstGPqNywXm1f/gvLSOkWVlADv6d+/Ve4ICDcY6vSum8PZkCaJntsubVo8U8SIImsUgRD0QxHkzz54GVGHa3zGhjB55kK+rV8f5FOeNP1S7lYqrJKjk6GgqUQe2s+Dtg6H7uNItDYSQAOfaF96BQzEh1/+jqdffJNv2wtNgyoFGplcKlTRFCjHcUlxbdFSHxSVvfvBJzF81Dj8ueh/+Pydp7Ho89dx/lSZEs6vNDlqm5OZDieXxrNcTJo2F+9++LU6Yc5gxvyHMe3WhzRLmg9FQOtmqElLicdvZE85UeOFNhTqIGamHkPw7k2qk/grPnzrr9i0Zgk8fQLw4hufadaqKR9NgxZbg5RjR7ms95Vw+OAu/PzVO+w7pvdkCIkxB/Hjxy9ppi6RnR6PybPvxP1Pvo7+Q8dh9sJHEL53nRLIhbycsnKUFOXC0cUdZ9V+V2nsIVr8+w7E2x//jPsfe151sluu8qVwY0IauG5U2aBW83ShDdImbRtaTlQdR2F+ltg4GoF8xDGRoTyQx7NH/Z5ULXQLnC60VCiFfMjkNbV3cuX8qD0DBuDOB57jXLzEnm1r8OOX7/BtZrqd21Qc1Xbr3nalW9hkBaDXplvotvYOMDUzw9kz52BkZIILap3SkkKOUJPAoVH/FM0T9FNclM+DA5uTuowGd7p7eDWpmAVVvbSyssT5c+fw939+gsBBwxvM6lEf+/ft4NLZ3T0aH4hI3tqIQwfg4NpDCX47zdzmQ8fqzBlKwxammVNDaXEh+g0eaZANatmvX+DP37/FgX3bkZQYgw4dOmH7xuXqs5jF6emcXD00a9acz2+8cB8ylMhujd8zuvMwdNQU9g43B0pBt+K3LxuNONfl5IlK/jz8AobyOAktO9b9gqm33Huxg0J5ehOORsDa3oUHiG5f8zO6Gpuq34B89dpHOPMLVSfUQjmx+/Qfgp++/pAHOJPdrKlQ8IUGLZI/nM5V4caFOlCTZpBtg0S04W37xhVi22iDSKo6wWBo8B5Fn6IOhaCivATdPX3rTfdFWQUCAoeih19fFkKzFzyIubc/gjkLH1QX/hlIjIvkFFgUTVvx+9dKnBWqi3/zImaBA4chcMAQlCmBTxk5CLqYWds6wMTMnG0nOZlpCN6zlVNP7d6+gX2wJJxNzS3RK2AQ2nfoACqOIeingxIjYybOVkKhthXBEFKT4mBpYQkXN3fNnMYhmw11aBLjYzBkxDjN3KYTfiAI/n36q/120MxpmO2bV8Opux9X8GsJXD38kJWWwBk8tNAAWOrU+fcbzCnvzJX405fn+h9/uw8ePfwxfe69mDhjIQYNnwCfXoHw8gng8toDh106LqHB2zljScqxWLa5tAbUuew/eCx7Q5sKpaNb8uMnSE6Mbpb954T6XvsEDIa1EqpaUuLC4aZ+gyx1CqhQRyXiwA6kxh9CWlIMH2OyiZhZ2qrOmC0P8KPMPQRF6I+EhyBD/Q6dqG5eNVQLtd37n3oDvQOHITszGZUVpZolwo0GWfwmz1igBLGe6HIDbdtG8jzr9+4LNy8inoUmQSPiaaT60agwdcGp5Oiyi5uXZunlWFrbsreZbvtTJJgGkIWG7MD+PZthb++seu3LYGXngbzsFBa8zSEjLRkJcdEXhTNBHm2KxFGVNRrNT4KitLjosgg1vWZ2RrII50agjki/AcNrRToNpSAvh+0QXppCFoZCEVpKCXcl4jls/x74+Plz/mdD2LB6CVy9/C/zKzcH+q7EHg7G0cj9cHHvoY5DTd5ngvKgH1dCi1LZ/fz1+5yRZM+2tYgIDeJS0FSh01x1IObf9QTnpdaFSpCH7d/BkdPjZaUs2r7/7J8cdW3NO2gk+qlDM2TkZM0cw4iOCMHqpd+rTndws4Qzce7cGZQW5mLwmFk8fepElerwdkR0+B6+o0UpLQnKS+3k6okxU+Zh9OR53NnAhfOoqqpCbmYqWzioI0MDjQmKRjd3n4izZ07B3asX+g8Zp/YliPNtCzcmNGB58symi+ftG1YgX8Rzm6PNDxgUmgf5FVcv/QG/fPMBPv738+yHNtT2UHOL8zzfIvPp2Q8X2gFn6qSia2kolZfQfLp1M8Hu7evw1SdvYOOa3zVzDYMyW1SUl2umDCczPQVGJoaV1NZHRXkp8nLURe0CmXQMg/z9LZX//UjobiWGd+HV937Wm34vaMdG1dZjzoKH8cQL73Kbe/tjPNi2VHXmZi+o33dN35tf1Xdv0ff/wafvvYQS1dG4GlDlwaZYq8gKcWDvFs7lfKU4ufvy34qyInz9wbOIpsGBXU2REHuY5xMu3XsgcMhY1bGwvtjp6NV3CEoKc/D4K5+xWB4wbMJl2VGaC72/s2dPs3Vk2NgZmrnCDUkdO4ahTUzPbRcRz0KzocwWu7euwr9feYRF9JFDIZwvlUb7v/+PJ/H+G09h46pFF3O4JiXEID8nE1lqOVlAqApbUlwYTp1q3m1T4epg5+SmRMdEjJ92O2KjDuPT//zd4CgnVXI7Gn0pd7ehFBbmNzs7Cg0UXfnHT+jbfzDneTYEej9UyZLGQbQEZaWF8PPvjy7djDF09PTLIsjkhza3sEGfASN4GXmJHZy7o9/AUXj5X1/rLeBCJCfG8HeK7v5QpJryPDd1AGJzoQhbWPB2zVTDHDqwEx/84y84uK/xnO+GcP7cGezbuhy/f/UGctIScfRwEJxcvRAbeVAdy5psLvpEMVWuJD/ruiWfYeZtT+O86q1PueV+WNtc+d0FO0dXuCpRT6XSKWe1cCOjP5tGY03Uc9uFPnnDQzOC0Ai+vfqhsrJcCehL2TP6DhyBBx5/Gav++A4BgUPg07MvrKxtsGX9MoSF7EG/IeO4uAoNSKSBVuSvpihXWMi2RvNFC60Llbh+4MnXMW7KfM0cYOlPn6gOUTnueOAZ7N2+DlY2dtyRotvml4pd0M9KOxyLj4K9gxPefPdSVghdKB+3qZk5ykqKsXf3Zo5Sk0+6uLgIT7/wFtzc67cF1ceOLWu5AMob736hmdM4H/z7ZSQnJ2H89Du42MmVQGLum/+8iL88/y66KWFMdoffvn0Xe7asuCj0CPIxk1A2FPJWblj5C9udDM1W0dJQVcP3vlzVYMGkkN0bsHbZDyz0W5IuXY3V78GljkLAgDHo2LED/vLie2pZ/QNKySKz+LsP0GfIJC6sErR5CRe4Wfbjf3j8RnNx7d4Dr7z3M/9WffD6I5q5wo1I3wHD8NFXyzRThvP8XxZerHgrtB0oQCOeZ6FFoXRZx8trp4Ui7/GpUyfh4e2HWxY+AGsltgryc7Bj8yrc9ej/8a1U/37D4NOrP7p7+iHlWAwKcjNZdFSUFWu2IlwLevTsh7sefrFWaWn/wGHYt2Mdtm1YDhOjbrC3t4OdvT28vX3Qs3cAevj4cRU/L+8eGDxsFBbedbkF4WhMJLZu+BPrVy/Fij9+woHgnerzvqA6X33RO2AA+qmLGfmVm0pRYT5W/P49Xvv3/wyqiEls2bACEYcP4cFn34aTW+OZORqjrKQAKYmRGDp6mjpOq9G5c1f4+g9gzz1lf9D6+yni7N93CEfn6yNffQ/IL7x53WIs//VzREccqFXC/mpDot2ndyAPsKqPPVtXY//ezZqpluNcnZLZ1arD3a2bMcZNu5T2Uh+UipQGC1afOAk7B1ckxoTByzeAbR4xEcGatZoOfw6qj0gZfY7FR1w3HX3Kbd5S9qO2goOTK6bOWgh9vuaGGlWnzM8Vz3NbQwYMClcFGmxE2TX8/AO5IIGJiRm+//xtoH1H9BkwmkUOZe4gUbFqyZdQj9B/4BAlLozYJiBcOzx69MbwMdMvywjRb/AYHFQC6e9v/YdzZ5PQdXZ1VyLaEbaaRgVN6hY1oUjzr99/hpVLf4W9iyfm3f4IgnZtwEv/+BBjJ86Aa3dPvs1O5da10HOo4IohHA4L5ujuoKGjNXMa56dv/ot+wybDxd1HM+fKoMqWVAr60IFdfN4fi49EyM71SmddYD9u165duQpmdeVxjJo4G5bWl6fGKy7KQ3FBLpb++inWLPsB8TGH1HEoM9gu01rQd7lI7deQUVPQqVNnzdzaUIXAvdvXaqZaESVeHF29YGVtz2W4dSktzsfGP3/kku6Robv5+OVkJCM8aD06KXHZ038QnFVH6VDItoudmaZCAw+TE6PUb9goTnlK27keSnaLcG46l8Qzn1YGNxHPbRMRz8JVgwYURh0+gLiYwwjauQEnq46jt78/dm9dDUsbB/y56FOE7dsEv549cf+jf4WbElGfffgmKupEsYWrC1Vno2wlu7aswIaVP3NVSPLjduzYEVnpSTirBEMPP8N8xZQZZe2fvyE1OQlP/9+7nMGjsxLFBeriQ7YPKrutTX9IUdp333wB69csw86tG3A0+jD6DxqOxPho2OqkzAs7sFedT5v5bkZS4lElzD+HmbkZho4Yr1mjYah09i9KzM++4wl0rEcMNpXj5aVIS4rFA8++g76Dx2HA8MkYOnYWAodOxMmTVThZXckdxhIl8FzcPGuyQigqj5cjLzeDB8GtWfq9Es3fIzXpKChf+vUEvb9uxibw1ex3Xeizo4wgrR2JpY6Eh08/JMVFwLm7N4tjMguR/SsqfB8yU2LxxPP/UB3x4XBydoWZmTle/MdHSDt2lAcgOqrOW3TEPpQU5tVssBnQ3TES0VRsi3I9m5hZKHHeledJ7vgbB6oXMHX2bUoQ648w19e2rFumvrMintsaIp6Fqw6lIKOBR/l52ag+UYXSogIcPrATvj174413PkOfwMH8o5STlYHgvdtQrJYL1w5K80bilgrc2Du6wcTEnNOlUQlrKiyya+tKTJk+V7N2/ezZsRHff/Uxziqx8ewrH9QqeuLfbwhWLf2BI7Jm5pboZmSMNSsWIT0jE3c+/DIGj56O6upqLPnlC2xSYjp0fxB7Xxf/8g2OJSai6sQpbN24CjFREZg4+27ERISp8yqHq8g1RvzRSERHHcHw8XM0c66czJQ4HFcC0td/UC27C53X3b16Iz87Xe1fPncUKEob0H84gnasxboVP7FXeO+OdUhLjmP/uDat2vUERZ89e/Tm/dbHiROVOHoklC0qrU1BbjrsnTyUkD7NvuZSJYQDh4zDzo1/4N5HnoON6pjT+eTkSgWa+vNnQKXNKyqOw8u3DwvvjJR4zdaah5ES6zROg9IR0tgNUzMrnKg+zsJauDGgyPP02U2PPG8W8dwmkVR1wjUlMS4GGenJXDRi3MQZXBlMS2zUIU5XdqVQmWSh+RTm5/Lf8tIi9p8H7VyL9157FD989ibKSgpxvKKCP6e0lGM4HBaC+iq1paclY+T4mXjqhXc0c2ozafpCLP/9Byz5+SvExUTiQMheTJv3AEzNrdBZCfWBIybj7sdfxxufLMOkWx5AWdU5+PUZoea9hlvveRYPPvMvPP7if5RAGsylxFevWIwsA0q+Z6p1OnRoh6T4pmcEIeh2fWZaAjciMzUeIbvWwbtnP57Wx7T5j8DZ3UeJq7OIjz2EN5+/G0t//hQHgrao7WUbnD2DBmhSuxZEHw7hz18flIry0sDRK6OxtHJkkWmvOiEkgDt17oz4mDB88NrD7HP+5pN/adaqDdlOqNNCkJXmSqE88bq2JioLTlt18/SrmSFc99SIYf3R5YabZgNCm0PEs3DNOXmyGl+oC51uD/7EiWouInEl2Du5c5U3wsun6YPPhBqK8nPg4OSMp59/Ez16+KFvv4GYdcsC2NtawtXNHR++/Qp+++lL/KaE759LftQ86xKL1bK83FxMmDpPM+dy+g8ZgweefBV7dm7C4p8/VwLyJA/o0kUrFGlQ6ZBR01hQa9Et3Xzbgy+wFYgsHY0xffZtGD9pOvKyGhfadSFv6b6tf2Lp9+/BRNNJI/vRILVvPfsO4+n6oAsvVcY0MTZBWnI8Wzgaw8299vGgQkXUrgVU0jo0eJtmqjZUUZDSVbYEhlg/zpw+yZ2OyopyLlQSFxWKTat+Rnl57cHGh0OD8M+XH8eF9p3Rq1/N52NicuWd69KiPOSq86dTpxrLEQ0EpYGMNvbOFy05wvXP5cK48Sa0XUQ8C9cF8bFH8OUn/+boZVREKPtXm4OJmSXcPHspATODKxxmJMfyIEX6nVt4zxPo1afxW/lCbahzk3osHp9/+BrMzC0wYuxkzoYxZsJ0Huj3wee/48XX/4N/ffAt4o5GobzsUvqv/2/vPMCqurI2/NmRJlIUAUGwoFix994Sk2gSTTExpjeTzD+ZTCaZJJNkJjPJTDKpk96radaosffeCyBFelEpCggWbP/5Nmfr5XovXBCUsl6e/XDPPr1/e52112J0hr17d+DeR/9q1kD5vLOsNcon7/4ds374BL/Pn4lfv/0AA4eOwl9e+A+aurpW2Gd0ydxvlFtI7tGyw5Cxc2FQm7aI3LXerHEcWhuzDqUqNxaGQMtIjVfW+dCu/cwpbHMk6yCi9242GoiFOHvOvuWzha+/SoPfNXwA7n7kGYy57lZzTPXgx6/esSmg6SZxJclIjjOO+xHjWivZkIiPicCS335SkX0IQ2M29/HDzdP+Dz4tA1SkjcjdlRdmzNc/GINHTlRx6wuO5SI9+YC4btQUjBeErTjOZRX1YhHqJOLzLFQbTpw6jcSERETt24Xs7MM4lJ5ijimbJk2cMXjsZCWar7v1UcRHbVWWvaNHMjHt/qdw3+PPIbzvEIT3GYLYqN3Iz89VUT8sLVveLVqpEFy0HDGyQUBgsHRYNMk8lG4IxAZ47E8vIaSd7c/R9Rs0UIlvUpPilU/0vt3blCWZrh39hxRbiWd+9R4i9u3F+fpOyMrKwsH0VKQkRmL/3u347wdfY8Toaw3x5YyvPn4LYT0GquQh5SE+Zi/2bluNG26ehgPG74FDR5tjbMNG2juvv6iEuodXqwtRG9jhz93DW1mX2BGMcT1ZeL0wLT33L9mYZu/21SpU3xlD5zNyQ5v2XdGuU+nWRgptF1cPJMRGoO/AkWqZ9A/2bx2sfInbh3bFtZPuwC13PYbrbroL10ycirCuvZFqiLEt6x1LUnIlYHQJRkHpM6jkMc5ITaySUHX2aNbcRyUsYDxnS3hOE+Oj0bhRE/xqNNCaGed36JibjWs5BZtW/4blv/1gXHsV93f28PRR69DRLVxc3dS5rFevvsqaygZgdmY6zljE9haqJ638W2PCJHYYLNbDjpZF835SzzyhbiEdBoVqBS1WTFpw3a2PoHVwmPFQSlYxcx0hsF0YJt/1FEJCuyPvaBYyU6NVVIYtG1co4RYUXByGjMI4IKgtrr3xToy9/lZ06d5XvXRD2ofhvhnFApu+1xlpiah3HigsvDqfxasjR3OylUWtXYcwpKclY85PX2LD6iWqwxQToRCGL/vio/8iLnqf6ozn7u6B9NQk7Nm1GYlxUUiOj0XH8MHoM/gaBBtCs2vvYUjYvw3t2oeqkE9duvfC/og9SE3LwMARN6hllofVi3/C2TMnje1LQOz+vSqEnmV0DkuY1vqV55/AXQ/8UYnt7z9/E207hmPr2kVYt/Rn1Zm1TbvOhkBeiy/efR5rl/1qCOkz2LBirrI6rV36K/74l5cxdsJkfPH+qyqt9h0Pv2Au3T4NGjZUYfFyMjPQOjAQEwyB3M8QoD37DcWd9z2JwSOuVYmEmDCI4lR/Hmb4N0arqU7Qz7hnv+EXrM3pqQmY+cVbyq/4SuHp1UL5idvys2ZHvl3b16Nxk6a47b6/oElTZ3z4+lPYtWWViiRTUfhlgx0D2RdAU2A0uAuMZ4lrMw9DzJ9Xbmfu7s1VJ0KhesNoLBMm3abutfIUiueDIp7rHNJhUKhWZDEKhyGYF/78iXrJNXFyRSOjaBo0agIPnyB4tWqHRsbLUMPOQc09W8LNEBskKW6vshrn5GQa4jtbCR5LOnXtheB2ndA6qB2GjLoO/3p3Jp7718fo3L0PuvUcgHtnPItX3v4OXcL7m3MImgVzZuKd11/Ad1+8h5B2oRgwdJSKdarx8PRSVpyn//Ya/vGfjzDjyefx9Auvov+AQXB1cUKD+ueRfejiy4YvIEZvGDZ6ApLNDqKzf/5GpQMvL/Q7ZXId/4AQtDO27b/vf4+wLpdagY8a18SWjavxzn9eMM7/BPTpP8wQ2L7wNLad12BMxBa889GPcHNuiK/f/xu2rP0NRacKcKboJJo0Ooupd96L5OitGD5ytLLCOzk1xdhrJ6GhRWQNRxh3433YvG6l8tXt2XcoehkitDSqY+QZxrGmYCaMcbx84U8qpnJzH384O7ur+qqG7hIMEVcaDEl4OD0Ri3793PifotyJLgfG6z6SfWmIO6ZYZ4SUU7Q8O7saDcIUZaEWqjeGFL7EJcORwj+hbiKWZ6HawQgGaYmxaNC4KTz9O8HJxUP5l7YLH4tGjZ1RdLIQId1G4uTxfJw/W4Q+Q67F9bfNuJCil53HVi3+CddOvB3+rUPQq/9wZXEuD82NFx7dODas/l19phcuQleWKbffh2tumILWRiNlqyFE9+3ebjRKDKF6/jw2rFmKfoOGqzB3pJlHc2UBDu89AMeYej0xCR27XWyYrFs2B2PGTcDGNcvh4+uHmNg4DBtXetY4Wyyb/x2C27bDsDETMffnL9C2fUe0bHUx2QphBI6XnnkUBzPS0K1Hf0yaMt0cA6xd8TsOMKX0mZMYf/0UFVd6+KjxGDnGENgDhuHBx59Frz6DVFirQcPHIbRTNzUf3TkOHUxHZlYmOnUbqEL4OQKnC+7QDXN/+hiJcRHG9eukrlNGF7GGqa4XzfnWOPYlXROuNmz4MPNfz77DlHBePO879eWmQ7fB6Bg+VLlPVTVjJ05TriNFhmDNMIW8NU7OLsg+nI6t65eoCB2XQ4tWrZWV21ZnTfpeM5sq13HCmIa+1cPHTjYaGAcc6vwoXB38/ANx3Y20PF90yXCkLJwrlue6iFiehWpLckIUcrIykJ+Tgfbh4zFw4p9QmJeF5Kh1yErbj+T9G4wXoruKpXvjtD8q/1SNp48fXFybq45uN9/xkBLBFaFZcy9cN3k6/AKCywyZVZfIPcooBhc7ujX39MbaVb/jnX8/r1wvmCI7OnKvObYkffoNuaRjV5v23XDsWJ5Kc5ydeRgubs3NMY5DH+WEmD0YPuYGePu0xJ0PPIUfvv5IhUEk3KY9O7fg1ZeeNF6Sd+CZl97GhBunqnGE0V1uvfN+nCo8ikFDx+C4GemFQpYuCe062E8EQ/eVuT9/Df+gTsrvuzw082yBux57BYGhvbFq+e94859P4dcfPsL2zauNbb5o2Vy68GekJsebQ9WL7ZtW4uO3X8Ca5fOUeKSodHZthqD2PdDCP8ScqurYs20NPDxboluvwXBvVvz1yRoK511bV122cCa0WtNFwxZ8TvgHtkVLv0AMGT0JT738Ebr1Hgwv45kkVGMMIWzLslxWEcNz3UXEs1BtyTmUhIMJO7F18QeI3jofRw8n4szp4lS6jZu4GKLGTXUQbNToUktdMy9fHExLVr9pHasIFE0pCbG4efqfcN0tD4mAtuDLT97CulWLlftDfFw0/vbap8o/fO4sWn87YMSYCeaUJZk/+weE9RhsDhXj2ox+oQUq2+DpM6dKxMx1lIPpieg7aKTyEybBbTsiPTUZL//1MXz4zj/x9r9fwNbN6wyB/DBGjb80qUvTps5oF9oFr//vBxWTetbMz80xpVNQkK9iW3Pb6ftdUdp16onrb38Mdz3+Kk4UAV9/+hZWLZmtxsVF78XG1VeuA155oZhcu2ye6gCpaeLkgpYB7TB4/DSzpupgkqXvP30NIaFd4RdY9WKdEVXs0Ta0u/L7ZyfT/kOvRSuj4U1C2kuozOqOtT+zI0Wou4h4Fqo9x/OzkX5gG04UXHxpZaZGIjAoEN372k7D3Dl8MJb9Phtvv/o0/vPiH7Bg1jfmGMdJPLAfWZkHVbzhYWMmo0NnCXOnSUtJwntvvIyP33kVI8ZPVlFKxl0/Fcw94epqP3FHfHw8nK0iaDBVddHpU+qze1MnZ4djF9PiuGjWF9i0egF2bFyOQWZED3IoIwX+gW0wdNQEXH/zXcrSPO2+PyiBXRoU7vc+8meVSpx+3TqSgj0YseXWaQ/hljvuw4r5XyI5vmIhFjVcP92OunXvjUm33q/qlvz2o0rEUZPIPFgcN7tVYCi8fYPU76okavdmJaLD+46As9Goriq0a5g90pLjcCB6j4o7zc7O7JT48ZvPIjU51pxCqK7YEsdlFaHuIj7PQo3g7JkinDEEliWNGjuhhyGemebYGoav6hw+FK2COqFjj6HYtXUNCnKz1Of5/fu2q/i+Xt4tzakvpeBYHr7/4m107TUcHbv2VaHJGHmB7gFHHUhoUReg/y0LUx+3DmyLoJAOyoK7bdMqjL/uZnOqi5w6eRIL5s3CqOtKWiPzj2Zh97ZVOJqdhfgD0SpKxv69W5AQu1d9NfD1b2NOeZFVi3/G/j2b0LZdB2xZvxTde/ZH7wEXO9zN/ukz9DOGx1xzE5xdXMvlTsEIEoOHj8OP33wI31b+RsMgwBxjH7+AILgZjYKlv/2A8P5jzNrys3/3Juza+DvunfFXuLi4ISMtCb/N+kqlta9JODV1RYtWwdiz+Xckxe4yGiFVn2Y8IXafOs8DRkwwGnHnlICtTPjlqZV/MLr0HICUxOKMktZY+jVzWnYW3LlpJQ4fTK7wFzCh6vEPCMTEm243BHGxL7Oj5bc5M5GRLj7PdY0pU6aIeBZqNn2HXmfXnUJ9SjcECMN9sWPWzm3rkJKcjOULfsLAYWNLFc+x+/dgw6rFuP2Bi8k9mEWOkT1OnypQoY06dOoGf0M4Go/RateR60pBy+yeHRuRffgg3Jo1VyHW9u7cgoVzZ2LchJIZBQ+mp2D1it/h36bjhYx8B9MSDBG8ETu3rEVaSgLi4/aDaZ/Tkg8gbv9uFcGhe99hJRpIjKqxceV8PPzHF9G5W28MGXmtioOsYYiwTasXKYuwZcr38pB5KMPYHw/Mn/Ut2rUPU1FEyoKRN/bt2oIz5+rBu2XZgtuajNQDWLv4B9xvCGeflsU+suuN/Vi9dP4VEZ+VSd6RQ0hLiEBC1DajoXplOtwyyoWnt6+KXsLYzox2UZkN3U5d++Cvr32Fzj0GqEgbqUmlW5MZQzo6YrvqGHo0p/pFShEu4kfxfPNUQxDbtjDbK/Nni3iui7z//vsinoWaC/1EB4yYaA6VToMGDVUMX5aE/VsxfuLtNqMaaFr4BhiicANWLvoZ7Tp2h4trM/UZdvOa+Zhy2z24+6EnMXLsRPTqOwQx+/di4PBrlBhPTrBtkartJCfG4nhBPkI7h6OjUXZuXYPe/QYrn+gVSxdg0fxfsHDOT8oNhhkI+SVh/bJZWLngO+zctEzFwuXXAGuOZB9ER0O0+LS8GDVj7/b1qHf+DAYMKbbwWvtI0+eU2QuZBdFWtrtP/vcaFsz5HsMM0c0XIGEmuKOGaN+4bhlWL/sNv/z0NQ4ciFdCLPNwmrGu4tB5BcfyjUaZ/esmKmKXSr5B1xTfgLL9bwuP5WHXlhVIit2HpbM/x23TH0O70K5qXHTkTsz/5Uuj0ZGkhmsaxwtyVRKRyia873B1f7KxdrqoCEzWonFycsbYG+7A9bfcj/7DrsWxvCNIjt9vjq04TAl/852PKR9mNsq79RqCzIMpyDuaU2L9llDMM4a8dfIWofqhLM+T7yghjB0p82f9IOK5DiJJUoQajXtzb/Qbyo5pxQLIUSJ2rMKw0dcrQa1hlABtwaaI27N9Q3HkCEPsNWjUCCHtu2KtIfa8mrtiwiRaKIoF2+FD6arD3H0znkVoWLjKMrZv12Y1rq5By3Fs9F7jmGUYguI4li2ai19nfonN61chJmqvCulEC31yfKQKzUaLc2mdrwgFCEU5BcuKhT8YjZNo7Ny8Ah06dkXHLj3NqS6F58DL01uFlbPkxb88goZureHm1Rrff/a6snDnZB/GZx+8gaVLFuHYyQY428AVnXqORtd+4+EbFIb42CgcO3oQKUkH8NpLT6LvwOEqTbkldAf6z9//ZIj2Rcp3m/uZk5kO/6D2SswThrQ7kpWB3JxM9UVk2/rFWLXwW5wrKkRYl+4qOUrnbn3UtGTBnG+wZtk8c0jQMEHJXY88h+umPIBW/m2wZd3v5hjglHEeJky+F14+vuqaaWY8IzatWaiuo4ribSyrkdFg6hw+QInxLOOeX7rge+zfu1VcuGoJ/gFBuLEC4nneLFqeHc+EK9QOKJ6pOi7GnBKEGkS7sF54/PmPzCHHmfXlq5hyx/0qUQqhf/Pf/jgdwR3CVEiyHVvWoomzOzp1H4iw8EH4+t3ncefDz2PlwpnoFNoO10y8Tc1HmKXu43f/iT/89XU1vG3DSnzz2VslIg8Il4+Pb4ASLjq5ha9/ICZOuVd1BrRFTOQuQ+D8hGdeelNZulOTE1B4/Bh++OZLTLq32F5wOC0e2YeScDQrDc5uzdHNEMsNTaFbAkP07tq4SCVJoU9rg9PZ6NGrHzIzD8Hb2wfHj5/AZuO8n0dD3PLQK0g+sE+5DCTG7ML+3evRtdcQhPUYoLLa8VM+XVBOFBxFFyblCe+PHr0HmSu6COOLf/nBq0bjLM2sESwJ694Pdz74rHFd+OOnL97EcuPe1Nxy9/9h4q0Pqd/svPfm32coC3FFCArphPGT7jQaRyeKY3E3ccax/CPKv7qyfaqFq0effoPx1Y8LzCHHufu267Bty3pzqHTy8/PNX8WMHTsWmzfXTUNLTYeGELE8CzWWlv7B6D3oGnPIcdgR7dyZk2hvJrmghSopIRqFJ04joG03jLzuLkPwDFWZy7auXYhGjRqha88hcGvmiaW/fY9WfgFoYby0Cd0CIvZsRVMXdzRv7o1fvv9YxbdNS4pFZcSUFYqh9Vl3uGra1EWJWIriYaNvMMTopZn9GNt7wexvjPPigs8/eB25eflITkowxGgGOoUPV77Qru6eaOEXgkDjfDEqhN1OhfXqGeM7wD84zJi2G/ILT2DLmgXw8PZDamoyQjqGq7BkmYbQzcvNRedwXiteCGzbxZivvYrAsH/vZhWXfNxNDyM35zAaNziHR/74d/j6BZorucjyRb9izo+fIi2lesZ1rg5QuO7ZvhYuru649uZ74dc6RPnInzp5HIfSk9G5R39ldT6Wn4tt65faTN1dFu07hePhP7+KrkYD+uzp08r/ftyNd2HRr1/gUEZxGEyhduDfOhA3Tim/5Xku3TbSSrc89+/fH1FRUZg3bx769u2LV199FcOGDcNf//pXrFq1Cmlp0kCuaUiSFKHG4uMbeEm8YEfISIlDbMTWEj60hJkIGS3Bx7e1eklq6LOpO535tW4Lv6AwJMbH4qQh3uJiIrB6+W9KkLUJ6YBd29ajiXMz9Bo4VllKharhxIlC1SmQrjaFx4qtOZmH0nHcKsTd3/79mSFCv1Ln4vZ7/ohuPQfCp1UwGtiIzlIeOnYdhPoNG+PGqY9g+iPPGw2rQUq8tWnbEZE7VppTFdOqdXuMnngfbpr+DIZfO029cA+n7scDj79gTlEShkdctugXJMRdXsi7ugDdg+b9+LHK6DdwxHXG+XgUnj6tVHi4uTM/VIKZcb+ZSttR6DMd1q0vbpn+Bzz2l9eN50JbnDSut+WLZqK1cY+7uTfHvU+8DK8KJl4SqieGFLaZBKWswr+yoNDKzs7GtGkXowyNHz9e/Z8xY4b6L9Q8RDwLNY5WrdsZYuQpDB3rWApnhq0qYMedvCNo0tQZIaHh2LR2iTm2GPqbpsRHYOfGZSVCStVv0FClC9ews9Kq5Qvw5j+fVnGO16xZiSM52Xj71WeweP5P6DFgjHqBtw4pdgkRqg42YP73xvP40yOT8fJfHsB/X/kz/vLYVLzw5N34z8t/wH//8UccOZKlUkeTX777EGG9Rqnfl0NmRgKOGaJ9x+aVSgxrho29Ca5u7pdkULSEqd5dXFwvJHPRMGoJXTU+fudlRO3dZtYKZVFwLBfffPiK0XhKxchrb8W1N92N1sGh2LJuCd7/z5+Rb9zzN9xyv92IPNZ4G43qh/70Kibe9rD6TWL370Zo595GI6m4sd6uUw/4tCjZ+BZqOMZtzFu5vMUB7YwOHTogNvbSyCwxMTHo2LGjOSTUNHjqxedZqFG0ad8Vjzzzrool6wiMpPD2S/epeMG0Op4+dUJFAvjDM6+iuZePIaqPYsn8H5Gdk4vJ9zxlzlUMQ4R9+c5z6NZrKNKSY4x5i9CwcSOj/hxGTpiqXrBZxoubFuszp41xps8shfrPX/wH2zeUFOlC5TF87CQ8/Md/4LP//cMQrreolMhfvPcinJycDLHTU3UoTIiLxPAxxRkF//XCDAye8ACaedoPUegI0bvWIGbXctz5wJ8RENTOrIWydL77rz/h5nv/Bidn29cm3U9Wzv0f/vy3t80a41rJz8Vrf5uBlMS4GpcMpbowasJtmP5osTWfkVuWzf8e83/+VH1Nah3cHknxMXY7pzb3aqHiuLNB06ZdGK6ZNB3LF/6okvfwnk5NjkO/odcY19jF2OULfvkMv8/5Wt3npeHVwg85mRnmEODrF6Qs2RK+rnrBeO5BbcqfnTItNRnpZbht0Nd548aNF6zNmm3btsHLywshIVWfFVOoXOjzLOJZqDF4erdSViX92Z2pucN6XNrZyhpanX/45B/KajxodHHs4Q0r5iA74wBOFBbg5KmT6DXoWnTtXWyhtOZwehIidq5HYNtOaB/Wy6wtm9nfvo1l8742h4TKJtgQOs29W6qsbzfc8hD8A9tiz/Z1KnZ0fMwePP3S/8wpi3nhqXtx8/3/UMKlohxOjcOW5d/irof+ciH1smb5gh9xMDMLw6+xn5L65PECLJv1Dp5+8R01TOH8z+ceRkJspHJHEcoH+yEUnTyBgDbt8cRzbxtCWDeMzuNvT9xiiOYolbiH0VDsQeHNcIg7Ni1XMcTpqsEOiUw3n3kwFaOvn6rcujSnjMb30nnfYdOqBUhLOaCuv9bG+r1b+CtLOMWx6ljaoKFR54ftxnI1vv5B6NJ9AHbvWIds6XBYJ6B4pr+zpdsGWbx4sbJKi3iueVA8i9uGUGOglffhp9/Eg396HUMMEbxr81J887/n8fusT5B7xH7IqPzcbEMk56OV8VI8z/zRBoNG3Yh2nQfA3TsAY2960K5wJi3922DU9XeWSziTngNGo0WrSzuECZcPfVO7GefsD8+9i0ee+o8SzqR77yHqa4Gnp48a1jD8IH3XL0c4k4Npceg3eOwlwjklIQZR+3aUKpwVxvqLiorjWdNnm3GcRThXHFp+2dEzPmYvNhpi9iL18McX30eHzr3g4t5cCVx7ZB1KQ2/jXqWrxt/f/gUPPfVvDB17M665cTqmP/p8CeFMUhNjsWTet0o4E2cXF/XV4UjOIfUVi9cfrdku7s2wb9cGNY3mSPZhRO7dikJDZAt1Bx+fks8jQquzUHMR8SxcEZjQoLQXmCMw4oWOr9yp+wDc8eALuP2BZxEUEoqfPvsXPnztcTXOmsZNmpqRFYIuzE869xyMwaNvVB0Bq4I27bpg2qMvqf9C5UIR3G/IuBLnU8MoC3ThsIQp2c+eK244XQ7ZGQkI6dDZHLoIxbkWxaXBhC7KV9Jg3aqFmPvz5yKcL5MTZkdRdhLctmGZ+k0oYB/983/Qf8h4FYXDHozlnp58wGiAtVPXlaUfuy3OnD6tLMuaBg0bIyM1AbGRO5GcsB+JcZHYu2M9IndtKjEdYUKVM2eKVIdXjXuzYhHF7KWO+mYLNQd2FrRHTk7FQigKVx8Rz8IVgX7HzT1bmEPlJyS0OzqHl3TR4IuGaZ59/UOUVbp7n+GY933x53BLmCq5iyG82RnQGncPb/NX1dCuUzgm3fE4wvuPQu9B4wxRx3TewuXSJXwgAoLam0MlYfrk6Mhd5hAthXH4+ZsP4Bd4+Z1zTh7PQ3pKAub99Al++/lTo3ym/q9ZMgsF+bnqC0epGPdBatIBbFq3FAtnf3MhbrVweTBxCoXqwl8/U5ZhTU72IUTs3mQO2SYjNR7ffvLqBRFeGoczUgyRvOOCGOczqGvPgfDyaaUMBLwmPZpfamW05FheSatzfl6O+kJ192N/w72Pv6wih7DTMWG68fJECxGqH+wsSPcMa0JDQxEdHW0OCTUNifMsXBEY/o3+gBWldXBHjJxwhzlUkl++fgNtO/TAoNE3Kv/kPdtWIrRrP3NsMamJ0SgyXnhtO3Y3a64cFPYMX0c3DjYA6Ledmhjj0MtasA1TZHfpMVDF+dUcMYQSk5Owg9bOravRd+BoNGrcGF9/+h+0COyK/qNvNaesGIdS4xC5bTkOH0xCmiGAR4ybCO8WvvBp6YvANu1x9sxJbFu3AKfPnoNvgO2vGfTXP5yRhBULGB9WYgVXFp4+vigsyFed8ELad0FQ2+JoN8w0yE6A9F1mbGj6HDMpkjXsF9Fn0Bj11cIejNv+m9FoWvbbDxci8gQaz6W7Z7yoYo2Hde+PFr6tkXkoRflEFhWdVDHk6cahoRCm5dk642FgcAeMnTgNoZ17oWOXPiqhDrMX8hmhrdeMCU4XFWtrtlC9cXZ2xqRJkxAWFoY5c+aoOnYW9Pb2VnGfhZqHpOcWagxMiOLq7mEIlZLxk/dsW43EmL0YM2m6+uwZ3KErdqxfgqhdG5F4IAJxUTtwvDBPRcFgFAb/oEstAFcSF1f2/u9oiOkxcHFphpgICUtWERhRoVuvIUqskOiI7SrSxr5d65V1sEnjRhg8YgK2rF+GjIPZGDB2qpructi0bCb6Dx5pCJw+yDYE0uQ7H1Hpv1u2aq2ETY8+QxDWtReSYndh67pF8GrRGs7G+baE6bmjjG2Mj95t1giVAYWzhgKT0TE0dN/wCwhW6bSdnd3QqFET45lQ8gtBwwbG9TJmEjysfOUtoWvOgllfqLB4Gv/AEIy69jYEGQI9KS4S82Z+hNyjWUo4E66bHQfprkEofG2lCmfMapaMlAPIPZJtNKwSLnQodGrqguD2nTHlnicxZNQkFBri/5gh9vUyS6NxYycVScQy/KZwZdmxY4dyz3jiiSfw7LPPqkJ8fX3Vf6HmIeJZqDGcOX0K0fu2oH2nXsp6E7l7IxbP/lwlPblp2v+hmcWnUh9DzDCLW2BIJ0O8uCIzPQk7Ny9D977DVeio6gBfiMdyc4wXZSb6Dp2gPjvTsnXe+OO+nD131uZLVijm3NmzSI7fr0QFRc2X/3sZXt4+aN+xh/G/BQaPvA4ezb2xbeMKeLXuYhzTirsMEYYs279rJdKTYxBhiN+Q9mEIN8SyNS6ubujcvS88vTyxbP5XKgZ465AwNY7L+PnzVxCxY7UaFiofV/fmKsNgh7BwFelCw6gszi6u2LJ2sWroUKgGBofi5Mnj6j6jdZjCltFP2Piy5RKUmhSLLWsWKeFK+FXj9vueVmKdFunQLr1x4kSB8Uy6mBmSHQmtRW4joyHvaWwPv5JYfn1iPPo8Y9mMCuRhiG6mAOczoe+QcXjwyX+p7aUlvd+Q8ejYuRfahnY3tilOpXtnBBBbcL/sCefGTk7yjLlCUEAzs6Au77xzqXuhUHMQ8SzUGPiSoX/zwOE3KMvPigXf4Zqb7sPgMTejqYubOVUxDF/VoXNv+AYEw994CTZo1FC5SfQeOMYQ0xc/819t+FIbO3E6wnoMUD7RA0bcgPB+ozBo1CT1PzFun/qcLNiGCTAORO9RbjDphoi4ZtI0jLpmstHA6q6EM1m+8CecPgv4BV2evzMF0hlDsJ/IzUBw21DVqcyWeNb4GMKtg7Edqxb9iA7dBivrY/S+jdi8co4SRELVwGQzp4tOqk57IR26KsuvJjCko7I466gc586fV40wLS4pjplG/cD+3YjcswUbVs7H1vXLlOuFl48fFv76uQqFqKFobWc01poYInTm56+jR++haNrUFbFROy4RpcxI2LZDN/XsoosJXbkYsYUh8ehqwvB2FNkjrrnFaBCGqagxmYaI57RTpv9B+T5reO2x3sWtmXLvuO+Jf+CEIdK5PfZiWduiQf0G6lkpfveCUD5EPAs1Bl//YLTtGK4E5rL536DvkAlo0770KBZ8MdKyu3TOlzh8KAXjb7yHbx5z7NWH/pU69TfFFaOR8LMxGwl8War9Ow+kJO5X0wiXQgGddCDKECad0a3XQCWa83KPwMmpKT599+/IzDmC/qNuRaPGTuYcFYfnKC5iMy8s3HDLvWjm4WmOsQ39sRs0qI/lC743hFJ7rFk8E6kJkeZYoSqg9ZbwujiSdVB1LLWM8sOQdlGGMCZsxFhbZSl6aS0+lJ6EwwdTVNznuOhdiIvaje0bl5XwX+bvuP270KlbXxVdg5FUwsL7I2Lnxkv6M/BZ1NTZRQllLp+W7/SUA8q63KBhQ9UnhML/kLG+HZtWGAJ8FwaPugHXTblfWdNtwYQ6XB4zK/Y0Gt8dOoejRasgHC/IM557WeZU9uH6KJzZkZviXRAExxDxLNQIGGrujoeeV51wNq2apzrSDBt/i/r8aY+InWsx9/v3VHITukJ07NIX7TuXL07z1cbDeKkxWsfR7EPKF1KwDTui0tocu38P5v74CbZtWYu1y+fhZNF5jL5pxiV+xxWlIDfHEM/rce2kOxDWtbdZWzrsCObp5a0S5rARJCLlykHxm2GIUVqc3ZsVN3R2bFqpvlaUByZSooi2FM6aRo0aqY6rO7esVDGeM5IPqOvRWjxTlFPo2oLCWcP5GLWFofP279umLMt0J+E0lm4o5Ej2QeO5kKAaCPwywsY4U4d3NMQ8xTkbAKVBf+iW/kHK4l1aKD9BEEoi4lmoEfCl1a5TT4yYcDucXdzh5u6pOgbaIyUhCgt//gSDR9+E6297VEW6aB/W0xxbs2BnnzCG6DMaDvyjoKY/t1CSzMPpKCw8jo69RsPDpzW69rsGge26w/0yfZ0tOZaXg9OFWZh8x0NmjWP4tPTDjs2rlDVRuLJQQKYlxarU24y0sX7FXKQlx5ljLx+m/GeyG7p80CXk9JkiuHt4Iq8S0qxTSFME79m+Vvn38znIyCG0cJNMo3Fw+GCqivJhiatbM5XtcP/eLcrKbQ2fIWzEtQ3tpny74+S6FIRyIeJZqDE0aeqMnv1Hq/in9BWkpcUeB4yXAT+ZDxl7s1lTs6EvY8du/TBw5CTjf38kHYhQ1nfhIrTOeXj7oZlnS5w1BMyRzFQVESMtIQIJ0dvRpkO4OWXFcW3miYitS9FnwHDVqHEUCpwFv36jtlGiHlx5crIO4kjWIWzfsAzx0Xsr1frPr2F0ycjLLRbLXDat3OXxPbYFRTk7wp41r5c8Y3kxEdvh7OKmRC9JSYzF6aIim+E3aU2mrzbTwWsXDiaBoS/1oJETlTU+NycTkbs3lbgmu/YcpML6CYJgH4pnSZIi1AiyD6chYkdxZx2GnbMHX2a0PHfrYz/ddk2GyRj44hMu5UTBUfi3aonuPcLRuXNn9AjvqX6nxO5Eno307VqYlAf6qBccKyMRihX8ZF9QkKciOwhXh5jIHdi9bY3qQHjPjJcw6fZH0KlrH3NsxWF68JTEkokuaIW+XNp26HKJKwUbX4lxEeYQEBu1024HaIrv6ybfj2tuuhf9h01QddrHmtb3jSt/Q9TeLZdck5ymiyGgBUEoHbE8CzWCvCNZiDYe9s29feEX2M6svZR929ciavcm9Bt6rfKVro1QjG3fsMQcEjQMBRfefzh6DRitxEML3wAVBzo7Mx2Nmja74MKxd/Ni7Fr/G9KTopTfp7Obx4WOm2WRdSgd+3evR29jPWWlcdYw85y7UTavuzTDpXBl4blgmMhJtz+Mnv1HwtW9mRrm9cJQcH0HjYNXC1/liuHm7qG+MFwNf2B2BrQVlYVuGMygWRyuczM6dO5pNAhammMvhS5eS+Z9e2EfGGaPyYRsuXMQpg3nc5OWc3ayPWfDz1sQ6jpieRZqFHzwL5//jRLS9uBD3691W7s91GsDjAHb2Kl2NgwuB8a6LSy4VBSwQxfFckZiFPKPZmLf1mXoO2AofLyaYfGPb2HXhuLQZY4wcOztyC84jaT48qXVZQQQy6gPwtUhJTEGG1f/hnf+8QTWLZtjNK4C0XfweNw49VE89uybuPHOGXjoT6+hc/f+SrzSZaoyaOrsZv66FH5N8mnpbw4VQ4u2NbSah3ToAhe3YmszXdNKRv84i7defhS/fvOO8pE+d+6sEtZlRYWxhj7ixZw3GhauykdaEISSiOVZqFGwI05aUgz6D7/erClJvfr1sWvLcvQxXoi1lcyMJOzatAKnT1/spS8UU5ifi/B+I0oIVUYpOJKZhp2bliIzNRqBwe0x4pop6Ni1r7I85mTnICCk9LCHJHL7KkRtX4HDaTE4fDAZ/QePMceUTdS+7dixWZKjVAfoD5x5KE1ZbreuX6JC0O3btRG7Nq9CRmq8yu7HrxYUp7x2Mg+nGddTUxXxQqfbZrZTwt9MvEQLrWVsZ1qzabVuZIhvftWgkKVvtC0Yqs6R0HLDx92MFq1aY/mCmarPA9PQ0/+ZUTbozvHFu39TseHpxxxh7M/R7MMYMGICmnn6ICUhWkUBKQ8ezVuoTso0SDDONbfTOuGLINRFpMOgUCOh71+n7v3h7lGcCMMSvkjOnjmrkh0wA1dtZOncr3EgWnrI24KxmJn6nJ/nLWnfKRwDh1+L3gNHqcQUOmJBQd5RJMRHIzi09DCG7HgYtXUhBgwegXE3TFVC6rdfvsCZs6cRFMKU76W7cLDT4OZ1S80hobpBN4asw+kqIsre7euwe+saJB6IxIkThThz+jRcXZupGNJMTNJ70BglhJnmm4KUGQvpHsS+GE5Go+2MIaJ5NbDzoHeLVujYJVxF+2hoiE9mMLTGUUHKEHuMUc0MiBTIFOgBbdqrhiKHV/3+04VlcX9SEvajQ5fe6Bo+SInpwxnJapyjMNoHGwTnz58zfhdnSqQlu2GjRiKihTqNiGehRsIHt49vIELsiGNaSpbO/QKH05MQ0rEHdmxYAo/mPpe4OtAaxPitfEkwmoejfq9Xk6S4CJVdsbCcVqS6QqeufTH6uqnmUNmws1dufgFal2F5jovYiMCAAIy69hYVCoyfzymWDqanYvb3H8G9mYcSTkyEYQtaIbesX2aImpLxf4XqTWFBvmooFRbkqegXfFbQisuYzbTEMvwdo3mwox3jM1O00hpNf3iKbP5m9IqEuCibwvlyyDbEPgXy1nW/I3rfVrWtlvD5RhcM+kizwUi3Jm57eaBw1ni3DFAuc7yWRTwLdRkRz0KN5cSJAhV6ycNGZxmGs+vaa5jKRJiWGIOkA5Fo6uKqfKE16clxhsD+ErER2xFjvHhorazu5Odm45cvX1efZgXbnMc5dOs1RFkIHaF+g4ZYu+RXtAntVWoH06z0BAS0DkBA4MVrqFVAG4SGhSPfEEVLF8xUVsrO3WxHcGAyjYS4SKQkVV6MYeHqwk54LVsFIiConRLQlm4b3XoNUkmcGF6O/u5VBfuBMIydvQ6AuUezVCdXuiexQyQTvjB5TEUoKjqpOirmV0IMa0GoyYh4FmosTLvt6e1nM/kJP8kzHmq/YRPQc8Bo1eElYsdaZVk+bbwAlv/2LRbP/gJDxt2OwWNvxZ4tyw2xPURZkqor9HGkcI7et0VZswTbFBzLMxpJIQhu39msKR1akTevXQh3L/8Ln9qdnF2LR1qQGr8PuVkp6GYrjJcxY0FeDg6mJWHwiOKwYNbkZB1CTuYhFZtXrHa1B4rmnMyDyqpryVHj+aQTm1xtDmUkYcem5diy9nfVT4IRZuj6Vl5oyWbcaKYAp6sIrfCCUBcR8SzUaAryjyK0ax9DABV33rGG/q+En12ZCIAiiWHsWvqHYOrDf4enT3G62z1bliGkQzfVQai68vusz7B9w1IUVeClV9doaohfhiGrV8+xYEJHsg4jZu8m7N+xEjG7VyFy23I4ubjDq0VrFZmjpX9bRG79HRMm3akSYDCWuGWYOrr+uLm6IDXpgNGga6kEOGNB04d29dK52L55NdYsmwc3Dy/k5mSpMGRC7cGWQLa0QtvDxbWZcb20Us+npkZjvyKNKorYjl36IuuQY4lNGIquIsLZErqwiHAW6jJTpkwR8SzUXI7lH1FCpUffEWaNbRi2LrBtGPyD2iEhZh9uuOOP5phimIku53AaQmxk6qoOME7x4tmf42j2IbNGKA12Fhw8apI5VDaMldtvyFjj13mcPnUcN97+gIqsEWGU2L1rkbh/K+o1aAx3dzdlYWTnMcsQZlvWL0VQUBB2btuAo0eOYM/2Ddhs1CXFx+Bk4XF06z0IN019BK2YHnr1IociKwi1HyY4Yac/FQXjPNBnyHjlOkTrMIU0n1tlCWr/wPZo3aaDyjoqCMKV4f333xfxLNRsDmckKd9Ce50HLXFv5oX46N3Gy+m0+vSoCe7QA3FR27Fjw2JkHkxBc++WynpZHcg7moVdm1dgx6ZlkrDAAdhh7/b7/oKWfoFmTdmcO3cOjJGbEhdliJXjGHXtrQjvOwyhYd3Qe8BINGxQH3H7d+HQwQzs3LRcCe0mpn/0KUPcbN2wFP5+rZGSnIAZT/9bjR8y6gb0HTQGPfsPh69f8bXGdWzfuFxZpB2F87YN7WJc55IyubbBLxg+LQPQvfdw9B06AaNvmI6+wyagS88h6itYYEgnnDGENCNd2HP/GDBiItqF9VQdB2kRFgSh6qHbhiRJEWo0zCq3bumvOJJ90KwpndycQyqcnSX8BD/qhnswePxUFJ0+i5+/eB2LZ32m4qheTWh1+vcz07Bk9hc4XYFPunUNxuKdMPl+dO012KwpG35+/uTNZ/DJG08jKSECPfoMUfX0m2eMX3YGGz9pGrqF90X24VQllil6NIywcMoQN0NGjlfn6+SJUrLRGfMVnSpfbG63Zh4YZCemuVCzuXbyQ7jzkRdx47T/M0TwDSqGNP2R/YPa4/rbZiCwbWcVJs+e9ZlW67adwpXYbtHK8caiIAiXj4hnocaTdThNddpxBBc3DxWf1RbeLQIw7JqpuPWBF407oxFmf/sOvnn/JSTE7DWnuLKwkyCTMdA9RSgbxvUeN2m6OeQYqYkxCAgMwZ9efA8PP/lPQzwPNceU5Jbpf8BjT7+KGX9+Tfk9a9KSDyA/74jqjOofEIgFs740x1wKLdxGS80cKpsOYeGYMu0JBHfootJ7CzUX60guQYYwDus+AF4tSmYW1DCm9Ibls5CeYj86i19ge9VXg5yzCCknCELVI+JZqBWsWfyj+at0KGB0R0J70AI0dPxU3PHoK2jQsAkOpyeaY64s9Ils2LCxOSSURZeeg8qdTpmuFI52LAwK6ags0YRJT2b/8CF+/e49nCoqwp9n3I7gtqHYv2cL9u3apKaxhtZsVzO1cllQoNN1pGuvQWhiXI+1Od18bYbprfsNvx7XTH4AbhaNrgEjJxrit/hassXeHWuRlhStsgPag5FidCbN0C590dJ0DxIEoeoR8SzUChivec3iX8wh2+RkZaCo6BR8LPydy6JD136Ij9ljDl1ZmMXMMqqDYB+6bGhhWx7OnjmtRK2j0G3jl2/fw49fvaUSZfzlHx/hiWfewJS7n8SWTWsx48m/Yc3SOebUJWEcaHspmi3hvrQO7oAbbn1ADTcyxLNYnmsePfqOxENPv4mpDz6PMTdMx5iJd8PDq4WKTd+6TUdzKtvs370B+blHVFISezSysGaPuu5OTH/8FQSGhJk1Vx5a15s1b2EOCULtRsSzUCtgj/WFv3yEZfO/VdEpbEH/wfL6Dvv6ByMvN9tuh52qhJZnR62i1RUmB2nQgP2Sqxaflv7w8m5lDjkO02tTrDrC2uVz8clbf1Wd/h76v5fxoFGYdrm5IYhUB9Pz51SscDd326ET845mIzurdPciDy8f1dnwD399S7mCEIr0mn4d1DW69xmBiXc8gfZhvS586co1zuMLb87CY8+9r4ZLY/CYyQg2XTLsEdqlZEIeCmdv4z64WjDjJkOCCkJdQKJtCLUGdqyJ3rsZ+3asRcOGTeDp7VtCGDEedEbqARXn1FHrs7OLOyJ3rFEWIIaKox/yleqcQ9G5e+tKFQGkptK4cWO1H2cciHt7OTAVcnnC02nos5wQuw+9+pce7vDbT15TLhnDRl+vXD22rl+KdSsWKOHs09IP6SnxiI/ei/2RuxHSoeslSVpyjGvnm49fQ2zUbrPmIk2aNkWLlgG49qbpGDTiemVxtrxu//vSo0hOiHYodrBwdaHLFy3LfYZOUD7NlnQyhulWRBccJm4qDXcPb+XWQbcMPrOszz07FV5z8wOXRAXas3WVmv5qwHjVTEIlCLUdSZIi1EqYqjZi5zokxu5VLzNL30KGHKtvvMD8AzuYNWXTsLGTSk27dd1CFWmhY9e+5piqhaGn1i+brbIp1lQomqtaOBP35t5oUL8+9u/dqsSro7h7eGLbuiUICgkt0RHQko/feh5Re7fgmb+/hy49+qLf4NEYMGwc3NzdsXT+TBQcO4a+g0Yjcs821KvfAJOnPWbOyRTOJ7Bx9e/46cu3ERe9R339sKZNSCdMe/gZDBt7E1q3aW/WFkOrM4V65kEJVVfdoaA9ebwQN9w+A70GjlUhNC8HCuywHgOVq09ebhYKj10MRddv2PUI7zfKHCqGAjvVaGQlxFzaQLtSNGzURGUirCiMINI6pKPR4G6EE3ZSjgvC1UbEs1CroaU4cvdG1XO9TbsuyEiJx7J5X+Lmu58xp3AMH99ABAR3Ml5kg7F51VwVB9rTp/wuAuWlIO8otm34HfmSka5MfIxzUr8e0wfnYsPyeSouti67t67C7i2rsGbpbOOFXKj8iQuP5SqrHhtXhYX5WDL/OxW7OWLXJhw/fswQxs3RqHETfP7uS4bgPYk/vfAmWvhe/CROP2m/gDbG/E1wMD0Fnbr2Qc9+ww1x3f9Cp8Wt65fhy/dfwRbjf1L8fpvCmTDCxzU32o4SMueHD7Bt4/LLEiRC1UP3jJvuelJF86GodffwMsdcPlw2nzkxEdvU1zXGtJ9wy0NqXZbwmmzUuDEid20wprs6mUgrep02dmoKL28/5SJH9xYRzkJ1huKZvZEuBi0VhFoIRdKg0TehcaMm2L9nI7r2GYUR191lji0fGSmxWDb3M9w14+UqT+fNl+CvX/0Xh65StI+axOSp9+PRJ4vtAHm5R0zfy3rqAYd69VBYkK9SZm/btBqx0REq6srpojM4cbIAZ4qKjOmLENKuE7KzDiOHPsbGbG1COhqz1sPt9zyO1m1sd0bcuWUt1ixfiIeefMWsKWbJ/B/w8zfvqk5fpUH3jBff+O4SNw/NB/95GutWzDeHhOrK0LFTcMt9z6jrrrwRXxyF7hiJcREIad8VrVq3NWtLEhu5He/+/SFzqObgH9gOAW06YsvaBWaNIFRf+AVaeqEItZ5TJ49j5YLvkBwfiUl3PIbDBysuRv0CO6he5eevgCVw/97NIpwdZM2KRTgQG6V+N/PwhJd3S6O0gCeLlw9aB7VFpy7huOuBP+Ifb3yKl177EE0aNwTOnsPIcZMw8pqblKAeNuYG3DbtUfToNQj3P/Ec/u+v/7YrnElhwTF07TnQHCpmy7olWLn41zKFM6Fbx+EM2z7tFGIFFp/qheqJj29rhA8Yo35XlXAmfq3bYdDISXaFM2H/ArdmlWf1vlKkpxxQ/TsEoaYg4lmoM/ATe/feQ+BliKndW5abtfY5XpiPxJjdylVj+ZyPsXDmW9i2YSHOni665JNpVWAvs5hwKVmHMzDr+09xorQMfyaMXEF3jbPnz2LsDbfi+sl348Zb7lcRNMZOuAXDx05CfFwkjhvCmNOVRnJCDNp36qF+0zf1l2//h68/eg0JsRGqzhEO2mkgpRjLZodGofrCzn8DDEFL14rqgItrM3i18DOHahY0cghCTUHEs1BnOJpzCEeyDiKobRgSY8uO3bxqwVfISt0Lb48mGDBwMEaOuRa5Bw+gqYub+pxflbCT4MHUBHNIcITNG1YgIy3JHHKA8/UQFHyx46hlApOJU+7BT9+8jwMx+8wa2zR1dkHigUj1e9YPH2LJ/O8NIW87VKI94u2sY9fW1eVellD10NWGX59aB3fCyAl3YuzEu80xVx/fgBCV8rtbn+FmjSAIVYGIZ6HOkJuThePHC4ozthkCuDROnijAqcJcTJ76IK6/eTp6DxiBnn2HYModD8GpSekZCiuDZEOQXa2QUzUV+jqvW/W7OVQ6DDd3/vw5uzGZBw2/BuF9huCnrz9AWor9RkzU3h0IDA5VEV727tiAvKM55hjHaNLUGZ279zOHLhK3f7fNsHZlwY6OQtXQolUQuvYehumP/xN/+scXePyFDzF2UvURzhrGpr/b2MZ+Q68zayqfdu1LT/IiCLUdEc9CnYHZ4ZhMJbzfCEPsHEVWKfGTC/Nz4d7M45JOga38A+Hq6oaMlKoTtrQ6r1r0I44X5Js1gqNsXrcCR7LLDu3HpDd0yWCKY3uMGn8T2oV2wb6dm82aksz6/hO069Qdvn6BcDYaYxXJcNiuQ1eMvPZWc+giibGRSI7fbw7Zp2lTF/hYfKY/ln/U/CVUBnTLuHHaH3H/k6/joT+/qUo3Q0D7B3VQ57y6wmubKcCrKq37OaPhOXDISHNIEOoeIp6FOgN96hLjij+xh3Xvj73bizuoHIjajiNZGTh5olAN03c1YvtqODk1UcPWePm0xOGMJNXBrCpIS4ytUnFem4ndvxdrVy4yh2xz6GAaMtJT1Hm2Z3nWjL/+NhWh4+uPXkeycV409LGOi95bImFO5+7li/9NK7F1QhRNSlIM8nLLtmIz5ffx48XXrVB5uBrXBV0gbrn3Lyr1dY9+I9HSv405tmbAjowenj7mUOWScCAWrq6uCOva3awRhLqFxHkW6hTsMNg2tDvcmzXH+uWz4dOqDRb8+C4SYnZi/+71iI/Zhe3rFiA1KQrNm3uh76CSiQjIsbyjWL3kV+zevAwbVsxBM88WlZYW93BGMhbP/txYf7RZI5SX7KxDCArpAN9WAWZNSXZuW4+vP34THl7e6D9krFlrG6emzghuF4pli37F3h2bEBO1BwmxkVi28Gf0Hjgag4ZPMKekq89x7Ni0SkXQcIQ27TrhtnueNIcukhwfjWW//YBcB+N7M7ObUDkwtnfb0B7oPWg87v2/10qNbFHdYb+MiB3rkJ1ZNX7z8QdiDAHtruJLO9JRVxBqC5IkRahz9BowyhAtnVXsZ0bTWLnweyWopz38HEI791S+xhOm3I9rbrwHOzavxLGjWWjfsZs5dzEBQW0xcNh49B0wXFkuVy2ehV6Dxpljy0/03i3Yu30tcoyX3I4NS7FtvWN+u4JtjuZkYdCwcQi0E2IuIS4KrYNDcfvdT5g19ondvwdffvg6evYbgUlTH1FhwPLzc5EUH4NpDz5tTlXM+fPAprW/45gx3hF8/YIweOQNqGeID0tiIrZj9dLZZqxq4UoSEBSKh//yNsK6lww/WBNh2LzAkE5o0tSlyrIO5h49IsJZqHNQPIvbhlBn4OfxwDah5hAwYvwt8PT0Qfc+w9Qw0+Hedt+flaih1WbcpLuxfesGvPPvZy6J2etkLMvD0xt9DAHdtKmTilNaHk6fLkJS3D788tUb+Onz1/DLl6/j87efxdqlv5hTCJcD/dXtUVhQgMaNbbvkWLJp7VK889qz6GY0rkZfd7sKA8awdCON64bXEjsdWnL4YAryjjieDfLwoVQ1jzVrls1WVmzhysNGNVNE1xboehLUros5JAhCZSHiWagz8HN6dtZBc4jpk5eoUGAezW37BdKf9Z4n/omTJ0/jrVf/gkVzv1dWS0vY4azfwBGY+/UbmP3Nm2Zt6RxMS8B/X7gXX733gnL7OJRejvBqgkMwJbs9zpw5oz7Pl8WqZfPx6NP/xriJd5o1xTRo2BCduvbF73O+MWuKadCgIRo2amwOOQCzVBnzWLJu+Tzj+kg2h4QrCTvXjZ10jzqPtYmAoPYI7VI+f3xBEEpHxLNQpziaUxyJIT56D7as+914WU6Hcylptus3aIBpj76Ie/7vNeQVnMR3n7+N7ZtWI9ciJNmQkRPwx+dex/H8sjPKzf72bcz85F/KPYT+zafEwlglJByw7zNeUJiPrEMZ5tClHD6Yhk/efQVdegxA6zYX40BbEhgSinr1i2N952Qdwqa1i/Hdp/9xqJOf5tixPKxdNsccKoauRIeM60K48tDtxqtFK3Oo9uDdMgAjJkyFWzNPs0YQhMtFxLNQp0gyE1o4ObsYb0ugZ/9LOwTagv6Dw8ZNwc13P4XIqEh89r9/Ij+vOCwYO5XVb1BfhW8qrXPOgf07EblrA+Kidpg1QlWxf99O89elJB6IxeoVv+F0UZEaXrV0Ll594THMnvkpCguP4csPXkNAcCiGj5+sxltz4nghzp09g7Onz2DW9x/gvdf+jA9efxYxkbvMKRyDDafdW9caZQ02rPwN/37+QSyY9aU5VrjSFBWdQPTereZQ7YI+3F17DS0zY6YgCI4h4lmoUzD5CeHndVshwsqiuZevEtGEvcw19IlOTojGxpXzzJpLyTuaLSHorhAUwXYxGjm0Ku/avh7nz5/HhjVLMHDEDSg8fgJvvvJnNHXzQJ+BY8yJL+Xrj17FzC/eRlJ8FGb/8BEi92y5EOawvCTEReDfLzyEz959Ebu3rUX2YfsWcaHqoBuPUxNnuDWrnUlm+AWtQ+c+KjW9IAiXj9xJQp2iXj0GmAF8WgaorHCFBXlquDykJcfCPzCkRIKNAzER6NZ7KI5mZdiNklB4rPzrEirGgZhIHLXTee/smbM4kpOJiN1b8MzjU9HZENLh/YZh4m0P4Q/Pv4N7Zrxgt2G1fsVvyM3NhX9wmAolV7+SxIh0ELzK1KuHdmE9a61v8Omik0bDfq6KdS8IwuUj4lmoU3h6t1T/C/KPomHDhjiYlqiGy8OuzSuRkZqAmKjdSqBt37wau3dsglNTN5U45YQdq6ekTr5yMFycvZBxZ86dRSu/QDi5eOCaG6djlI0Mf/bw9GmJhg0aGAK8CCdPnjCKiJHawOlTJ9G2Y3ip/R9qMlmH0pCfV77U8YIg2EfEs1CnoLWZZB1Og69/MNp17KGGHYWf+WlhbtdlAL76+L94799/xZ5d24w7qRHSkuMwePTNdjvmeBjCvXEFXEWE8kNhu3bFQhV1Y9O65WZtMWfPnMHo62/HdZPvRc/+I8xaxwjr1hcjx9+Inr37SwesWkbmwdrbUfPM6SIcyb4YaUgQhMtDxLNQpwjt3Ev9Zwetbn2Gqt/lgfGf24f1RJ9B4/D48+/j/qfewImTJ1FYcAx3P/4K2pvLt0XWwVQ0aSLi+Uoxe+bn+MdzM/DVp29jzfIFKCo6iYVzfkCDho0cDkfGToUJsRElLMw9+w1XiXaOZB8ya4TaQG3uyHvm7Gnj2eNsDgmCcLmIeBbqFOxtXnAsV3XeYxrey2XP9jVISYjFHQ+/oOL/2iPzYAo2r/4Nx/LKDmcnVA65uUeU1Xn42JuxZNEcPPfk/YiJicbNdz6moqeURWFBPn788i18++kb+PD1Zy4kRdm6bgk+fft5JB3Yr4aF2kGjRk1w4ngpHU1rKOeM63bzKj57xG1DECqDyMhIEc9C3YLChyHCmpu+z5cDY/KuXfIrxk6cDmcXN7PWNuuXzcL+vZvNIeFKwcQ4Z8+ewR+eewd/eulD3PHA0/BrHWKOtQ8z/y345XOcKDqLqY/8y2hwHVMNrpjInVi+8CfERlVNumPh6sFIPDp8YW0icvcGxERsMYcEQbhcOnfuLOJZqFswJrNXCz9lAT5z5vJelEvmfq16r8ftL/1zL6NsxEXZjzssVC17tq1V/+ly4ygtWwUiMS5SCebfvvs3xl5/m+psun3jcuzbtdGcSqhNuLh5wN2jdvmxH805jFULf0BOpoRAFITKRMSzUKfwD2qH6H1blftGw4blSKVsg8yMJNz98F/g16oVfvzkFezassIcU5KM1APIyZKX19Uidv9upCbFmkOOM/3R5+Dt1Rw3Tn0I/YaMM87vapXQRKidMBOf0cQqHqglLJnzOZLiixNDCYJQeYh4FuoUe7atUeHk3NwuP2wcE6209AvCmOtux6Dh43Fg32b8+tUbylqpYQ/3JbO/EF/nq8ixvKNYOv97nD9/zqxxjFYBwSrmc3C7MCWcZ3//AdJS4s2xQm3DXojJ8kJ3rrSkGNUBMTZiG2Ijt1+VzqX792xCXOQOFEk4RUGodJgx4qXin4JQ+yk8lo9eA0cbL5Yt6NZ3mMNRF2yxadU8DBgyTlmxWwW0Qe+Bo+Di4op5Mz8whLWTchGZ+cm/EBe9C2ftJE4RrgxsMHXrPQQuFYjju2LRz/jt18+QECcWvNpMi1ZB6D14vDnkOMwaysZx9uE0bFu3CMvmfY31y39VSUk2rpyDLWsWqNT8J48Xqkx/Hp4tzDmrjoW/fIwNy2cjPSXOrBEEobJ46aWXxPIs1C1OnTphvMh2GwJ6LD598xmztmIUnSpCXu5FizJ9asO69cGYCbdg/dKfsWPjMmV1OlXB1M1C5cGMgYx1W16WzP0Wc2d+KJE1ajlNnJzR3NvXHCobJlmK2bdFfWn66D9/wMev/xHv/fNRzJ/5P8REbFU+xpbZ/FITozH3+3fw2X//jGQrNwpG4qlM1i79BXu3rb5kPYIgVB4inoU6SfuwHmjS2El90q8o9jochvcdhsA27ZEUt1fS4VYTmNzGkSgbhNNmG+Ln03dewM/fvGv8luQStR12Ip4w5SFzqHSOZB3Ej5+9ih8+eQWrf59pDB9SYrno5AlzitI4jwwL1589hsj96t2/Iq0CPvm2oJhfMvszpCdXzvIEQbANe0ecL/4pCHWDW+99CuMnTceq339WPex7DRxjjikf/3v1Cdzz8DPwD2xr1lzko7eex7pl85WlW7j6BIaEYvojz6kMgRo2nDLSEnHu3FklmE+eKETWoXTs2roGWZnpyDFEEcMaCrWbNu27YOyke9Gt9zCzppjUxP1IjItQ0XKKjPu4Veu2OJp9CBE71hr1+8ypys84Y13Bod2xauH3qk9E3yETcM3kB8yxFYcW599//UT6VwhCFcP3hYhnoc5x92MvYdjYm7Fm6a84d/Ycho6bYo4pH4vnfKlepCHtO2PwyOvh1szDuKHqITkhGovnf499OzeZUwrVgcDgUEx76BlDsBzG7m1rcDQnE/GGOKpfv4ESyd4tWomVuQ7SoXMf3HLvX+AbEKyG05PjlNvD7m0rkV5JFmFLevQdpWJKR+/botY96c4njMZdmDm2Ymxb9ztmffMmCvJFOAtCVSPiWaiTXDv5Pky56//w7Uf/xNhJ0w3R5G+OKR+ni05hwS8fY/OaRSjMz1Xiy725F04UFiDxQJQ5lVCd8GaM72O5YlEWSkAR26JVa5w7d175Clel24NfYDvVybCZZwuj8X4GA0ZMwg23zzDHlh+G3pzz7VtXzVWje+8hxjZsl69sQp2B4ll8noU6BTuO9Rk0Vv1mB7/UhGj1uyI0atwEN97xBCZMfkDdTAxjFrVnqwjnagx9mUU4C9bERm7D+uWzVXSMqhahFM4t/NvgREG+slxdToi83VtXYt7371xVH+fh46fAxd3DHBKEuoGIZ6FO4erWHE2aNGXTEU2dXVH/MkLVaVr6BaJDl17mkCAIQukcy81RPY4K8o4gMW5PidjwjsIIHotnfab+X03Skw9IKE6hziHiWahTNGrcWIWlyj2ahRTjpRPapbc5puKEdumD0dfdCTf3y0+8IghC7YfW5qJTJ9VvF1ePcscfP27Mv+CnD1QylqtNqrEN8uwT6hoinoU6hZdPK7g1aw53D29lhWaIqcqgsCBP+UDXJej20qAB8ywJglBRWvq1UdlKy6LgWC4OpiUoS/NPn72qYshfbbyN5+l1k+9Dlx79zRpBqBtIhkGhTuHm7oHeA8eo7H+xkTuU6A0J7WaOrRhpyXFY+MunOJSRZNbUHejrLQhCxTlx/JjqP8FbiY16imRG8WE8aN+AEBVCceemZVj0y8dYPu8r7Nm2ynjmxF6wXF8tnJyc0XfoeAwfN1m5wJ05fRreLf2M7Wdov6u7bYJQlTDDoETbEOoUdNt48sWP0LFrHxxKT8LPX72Fu2a86PBnx/SUAypTHV8OcVE7ER+92xDNyThsFEEQhIrQ2KkpvLwZrccHp0+dUM+ZBg0aokuvIcjNOYzk+KhqlXCpSRMnhPcbjnseewnOLm4q/GNc1C789sunKlSnINRmJFSdUCehcH7iuXeRYjzkVy+dhfv/71/mmLJ5/fn7kJF6QInnUw5lFBMEQagYTOJUeCzXHKoeOLu6o2v4AEx/9AVldNi4agHWLJuN+Oi9Eq5OqBNIqDqhTkLRS3/drMNpCAhsZ9Y6RquAYJWZToSzIAhVDYVzk6bO5lD1gJE1gtqGKeG8c8sqzP3xI0Tt2SLCWahTiHgW6hweni3g1NQFLVoFor4DHd7Onj17IeVtY4a5EwRBqAIaNmpi/rrI1Y5Lztj4nt6+5lAxjBby45dv4tuP/oWDaYlmrSDUHcRtQ6hzhHToghunzlAh69Yun4O7H/u7OcY2n775DLIOpSrhfObMaRzYv8scIwiCUHkMHXcLXN2bI2LHOuVLzM/DiXF7r1oHPArnYeMm41B6soryce7cOfQZOAZJ8VFISz6gOjMKQl1DfJ6FOouvf5CyPrcP64WwHgPQtedgc8ylbFr9Gz5/+zlzSBAEofLx9GmFR595D74BwapzYFzkdqxY8D3ioq5OSDpGJrp52hMYNvZGrFz0MxbP/QbHCwtQVHSyzoXlFARLxOdZqLPw82jSgSikxO/HkayDZq1t/Fq3xeDRN6Jdp3CzRhAEoXLxbhFgWpvPIXL3Riyb/81VEc4Mm8e+IC+/9RNaBbTB95++jnk/fYKsw+l1Mp69INhCxLNQJ2nUqBEaGy8JZ1c3pCXGqJakPdg5xtevDbIPpanYpoIgCJUNOyOfPXcWC3/+GHO/fQvx0VfWPYzPtpatAnHTHTPw+HNv48cv/ovZ33+A5Qt+QD7TiQuCcAFx2xDqJN4t/JGdmY5pjzyvome4unti+Pgp5tiS5B3NxsxPX8X2jcvMGkEQhMqlpX8wXFzckZocg9NX0MeZfs2BwR3Rb8g4dO8zTCVt2b1lNRb8+oVy0RAEoSTi8yzUeZp7tcCQMTchIy0Bt9/3DJo19zbHlOSTN57G1vWLzSFBEISaTSv/NujRbzi69BgA/8C2SIiNwPKFM5F1KE25aFQEX2OZTD4lCLUZEc9CnYedBq+bfB/yj+XhTNEpTH3wr+aYi/BlsG7ZLCyZ+7VZIwiCUDPxbuGnIg6Nn3QX2ncKVxGE5nz/AdavnKcyBQqCUDoinoU6D1Pg3veHf6Bhw8bYH7ENd1iJ5+0blmLhr58i82BqtUqPKwiCUB7o09yxa29DNE9H5x79VR0tzGuWzMKqJb+KX7MgOIhE2xDqLHyRMPB/c88WaNLECR5ePkiM3WeOvUhi3D6kJsaIcBYEoUbj4uqONu3CVDl6JBPrV8zDV++/jCXzvhXhLAjlRCzPQp3EvZkn3Jt7o0v4QNxy95M4e/YMPn/nBVx/68No6RdkTgUkx0fh2w//gaQDkWaNIAhCzaNJk6YqhbaXjx88PL2RziQnYhQQhHITEREB5iZ+qXhQEOoOfInQ2pKaFIuAoLZwM8T0rk0rVMIUF7dm5lRM5e2Dzj0Gwt3DE3nG9DpNtyAIQk2CBgNmBGQ0jaM5h5WvsyAI5ef9998Xtw2hbtO4cWMs+PVz7N2+DjnZh+Dk7GqOuYhXCz9ce/P9aBfazawRBEGoWdBVQxCEykHEs1CnOZafi7wjWejScyB6DxiN9OQ4c0xJdm9dhURx3RAEQRCEOo+IZ6FO4+Xti+PHj2H1op9xKCNZJU+xpujUCaxe/IvqOCgINQ1+XWFGTUEQBKFyEPEs1GnoqsEwdUkJ0chIiYePb4A55iJb1y2xa5EWhOrO2bNnS00/LwiCIJQPEc9CnYedAJMPRKKJkxM+f/uv2Lx6gTkGOHfuLNYs+QUnjheYNYJQs6B4PnPmjDkkCIIgXC4ingXBIPdoFg4fTEWPPkNVbOcj2QdVff36DRAYEqp6qZeHRk2czF+CIAhVT+PG8swRhCuFxHkWBAu69RpiiOcIQzB3RKfu/VUGwozUOOzcvAqFx/LMqexD0ezp5Yd8Q4wHdeiG6D0bzDGCIAiCINR0JMOgIFgRHbEN/kHtUL9BfUMAZ6OpswtOnzoNVzcPc4rSOX3qJE6cOIbGTk2RlrjfrBUEQRAEobYglmdBsMCpqQvOnT2DBo2a4OyZIpXC++SJAvQdci3SkmIRtWezOaUgCIIgCHUNsTwLghX0bS4qOgVXt2YqI5enly9yj2Qjet9WDB83BQFB7c0pBUEQBEGoi4h4FgQbZB1KxamTJxATtR2NGjVGbk4mzht/vv5tcOMdjyG0Sx9zSqEqYGzihg0bmkOCIAiCUH0Qtw1BKAO6bjg7uyIv74i6YTw8W6iOhPl5OSgsyMO5s2dR3xgub0QOoST16tVD06ZN4eLiAldXVxw7dgzZ2dnmWEEQBEG4+tBtQ8SzIJQDF9dmyge6uVdLZGdmmLVCZdCkSRO0bNkSTk7FIbdyc3ORmZmpfguCIAhCdUDEsyAI1QZant3c3FQqaSb2OHXqFE6cOGGOFQRBEISrj4hnQRAEQRAEQXAQibYhCIIgCIIgCOVAxLMgCIIgCIIgOIiIZ0EQBEEQBEFwEBHPgiAIgiAIguAgIp4FQRAEQTrLSJ4AABmgSURBVBAEwUFEPAuCIAiCIAiCg4h4FgRBEARBEAQHEfEsCFcYJgNp0KCBOSQIgiAIQk1CkqQIwhWifv3ituq5c+fUf0EQBEEQahaSYVAQrgK0PDdp0kSJ6TNnzqgbkemoRVQLgiAIQvVGxLMgXAEaNmyoRDJp2rSpEs68+Y4fP64E9KlTp9Q4QRAEQRCqNyKeBeEKQPFMnJyc0KhRIxQUFOD06dOqThBqEpYNQUEQhLoIxbN0GBSEKobuGK6urvDx8VHWZhHOQk2DX0jc3d3VVxM2APkFhZ1eGzduDBcXFzUNf2u//tKg25IgCEJNJTIyUizPglDVUDR7eHgo0UDfZgro3NxcnDhxwpxCqK1QaLI4OzsrsUnLLa0WPPf5+fnqergaUORyW3hNFhUVqW3SsI7juW38zS8mFMhubm6qno1B7gsbgXo53B/Wnzx5UhVap7lcDYU1hTePA48Hpzly5IjDfv7cDq6T26mPGeso4rkNrLeMYMM6rp/bKI1VQRAqEz5vRDwLQhVAsUABQbFAix0tz5bk5eXh8OHD5pBQ2+D5J82bN0ezZs3Ub2syMzNVQ8pSZFYVWhDzPxty3D6KYtbR5/7YsWPqt7Yma5HPa1hbmR1Fz8f94nXO9fD618eEUABT1PI/p9FCnfNSXHMeLoPr5XZxe/ibIr2wsFAtg8fWUjxzfkv0duht0b+5Xo6TxqsgCBVBPW/4v3hQEITKgi963mB86bdu3bqE+OALPD09XToK1gIo2Cj2eH4pELWVk1ZWCjtLwWgLTq+FHf9TRPK64fIshwmttPzNOkfgtvH6o7ikYKaI57yW12JNRb28rMSyo3BeNlpo+WejQRAEoTyo5w//Fw8KglDZ8AXfokWLS6yP7DSYk5MjArqaoQWZFqzWaLFMUUpXBgpk/mapCrRg1oXXjLYS2xLRevu0fzJLVW1bTYfHj9Z/NmB43PTx1MeLlml714EgCHUXPhdEPAtCJUFBowULRTFfvnwp0/rYsmVL9SnaEoogvrwdtSQKlQ/PD88L/1M00XrMByOtktoqrOF4NoIoTPmb81xpKKa5TbzWaD2l3zCt1vo6o4WZ+1AbrMtXCh5THj/tf81jx3vy6NGj6ljzXtZfFARBEEQ8C0IlQ0ukn5+furl0hygvLy9lDbSG4pnT1FXrMxsZtN6ykUGRoq2sRItZihaKGYpFwvEsrNMiVrs8cH7LoufnePWwM8Uu67k8nhPLjnDW0LeW54ZCiufK29tbrbO6QIHPwn1gA4DH09Z+CBWH1xGvH3bwZREEQVDvE/4vHhQEoaJoSyQFjKenpxIzfPGS0gQNxV1WVpZy46hNaEso910LVcLfHEfxy4YGjxfFiRa8FMGMxEDrKY8p67To5X8WLbDt+RNT7GrLK5fFY6zrWLhcLaAdgdugBbtQN+H9SfHM64jXjb4meL0KglC3EPEsCJWIFmdt2rQpvrlM0VcWtG6yAyFFZE2HYpiWXP5nA0IEp1Cb4D3Ka1o3yPh1gl+PBEGoO4h4Fmo1tEzS4slCS6N+6fHCp79oZbtLUCzr0FlaRNqzjlpD1wWGrqtplizus7Yw8z/Dhzm6z4JQU+F9Smu0fo5QSAuCUDcQ8SzUetiBioXijgJaw4tf+zDyEyxffhzPFyH/czxfkKzXv62hcKQg1/8pGinOuTxaqFgfGBhYYr2lwZfxwYMH1fqqK7qBwPjV3C/uM/87uo+CUBPRbhq8vymYaXGmS1B1vlcFQagaeN+LeBauKrQK8/M+Rar2faUQ5cXJ3xRrrFcXq/G7Ii8rCjtaghkyTvveOgq3i9vBDmN8aWoxzf/sqEVhzheqziCnt1u7YHC9jkLrM8Wznre6wePPaBPsOOeov7Ag1ES0NVlblnlPs7ARXZFnkCAItQelR/i/eFAQqg6KVl5w2lKr4TBFLQWuFqYUZvyvC19efGnR4kn4EiO0HHM+Lo/zUnzyP7EltCl0KXhZKgqXT7FMKtviyhc1xbPeh6sNzwMbNnQ/oaWNwpmNBMvzJwi1BTZa+Qzh/c2vQLwPWfTzRhAEgVBbiHgWKgUKKktrJD/na5HFyAkUz6zjNJbiqzItmEzzS5FNsU3RR7FN0aetRXwJUvz5+PiYc1Qv+KJm5A1ur6VIvxrwvLBhw/9BQUFmrSDULnif8RnBZwfRVmZBEAR7iHgWLhuKVMa+1a4X2hJLsUzhpS6yK2yppAXJlkX4amxLRaBo5rZaWsJ4LCmqWcf/VQ3dTWip12HjLsdaLwjVDd5TFMy0MPOe0s8GEc6CIJSFiGfBISjc+FLhy4UXjSUUzr6+vuaQUNXwRc8XP32wK1NM08rMBgeFsvbT5m8m4aA1rrpa6wWhvDDFuf4iJWJZEITyIuK5lkPrL18OtAhfLhRSFMoUWYQXD18+HKZPrHDl4TmgeKb1TFuoea5Zr885Gzza/cJaZLOObiwsdHHRXwss4XLoh+3v718jrPaCYA/eKxkZGeo+0Y1FXvPaKGB5ffO61/cQ7xs9jvMKglC3EfFcy+HLgYXiiCebhWJa/9Zo64sezxeFFt18yVA0UyDzRSNUX3i+9PmlmOZ/njMtEDiedRQDFBKsYydA3SCyR2ZmprqG2IAShJoMG5q8H7R4Lg3eS7yPOI+OtKOflYIg1F34HhXxXEfgp3gKIJ39zdLKouEFof/zJcFCS2RZLxmhdkMXEfo+i+uGUBdg45JimaJZNzQFQRA0Ip7rILS4MOoFrckU02JNFsqCjSimD6frhrVbhyDUBmhVZgORvtAUzdp4IAiCYI2I5zoOLdAs/HTP/yKMBHvQdYN+0eLfLtQm2BlWu2VIxkBBEBxBxLOg0NZoCiNao/lbECyh6wb9P5nQRhBqMrQyW/oyi1uGIAjlQcSzcAlijRZswU/YjFTg5+cn14RQI6GVWTcCxcosCEJFEfEslIr+TE9rdFkRGYTaT3Z2tkqGI1E3hJoCrczs9Kc7vUqoOUEQLhcRz4JD0AJtKzqHULeg9ZkPDWlICTUFXq8Uz2JlFgShshDxLAiCIAiCIAgOQvEszouCIAiCIAiC4CAingVBEARBEATBQUQ8C4IgCIIgCIKDiHgWBEEQBEEQBAeIjIyUDoOCIAiCIAiC4AjSYVAQBEEQBEEQyoGIZ0EQBEEQBEFwEBHPgiAIgiAIguAgIp4FQRAEQRAEwUFEPAuCIAiCIAiCg4h4FgRBEARBEAQHEfEsCIIgCIIgCA4i4lkQBEEQBEEQHETEsyAIgiAIgiA4iIhnQRAEQRAEQXAQEc+CIAiCIAiC4CAingVBEARBEATBQUQ8C4IgCIIgCIKDiHgWBEEQBEEQBAcR8SwIgiAIgiAIDiLiWRAEQRAEQRAcRMSzIAiCIAiCIDiIiGdBEARBEARBcBARz4IgCIIgCILgICKeBUEQBEEQBMFBRDwLgiAIgiAIgoOIeBYEQRAEQRAEBxHxLAiCIAiCIAgOIuJZEARBEKqAxYsXIz8//0J58MEHzTHVg2+//VYVS/r374+EhARzqHxY7++rr76q6vl/27Zt6rcg1AZEPAuCIAhCFfH+++/D3d0dTz31FJ555hmztvZiub+33nqrqnv22WfRp08f9VsQagMingVBEAShivnkk0/g7e2tftO6a2mh5bC1xZeWWm25pcWaVl3COj2fruO8nJ7zs57Ymo7Q0qzrfXx8zNpL4fL0dITzWS6Hv/X22SMnJ0f95/ZryzPnsdwGy2VarpOlrOULwtVCxLMgCIIgVDEUgtnZ2er3Dz/8oCyztNDSUsvhzZs3q3EUwprw8HD1f8iQIdi1a5caN3r0aDUfC9GuIKGhoXjttddUvb3pWAYNGnShvkOHDmqcNRT5n376qZpm48aNSuxyOy2n5+958+aZQxeZMWOGEr5vvPEGli9fbtaWZOLEiRg7dqxa/sCBA9X2aqHMOh4brpcWa0Gojoh4FgRBEIQqQotJ/g8JCbkgjmmJJhSI2iK9YcMGNR1FLoWnl5eXqqfgpVCl6KRI1pZZCk8Ka0Jhrpdpb7rg4GDExsaqaQjXZwvLZc2ePRsdO3ZU4p6WZC3C+VsLfku02waL3hdrKIz1vDExMejWrZv6rS3V3E6974JQ3YiMjBTxLAiCIAhVhaWYLIt169YpoUqhm5iYeEGsEi02KTz18limTZum6q1xdLryQEF/0003qe2zZ1W2hNtAIewI3F+KfN3QePzxx80xglC96Ny5s4hnQRAEQbhSUATT0qxFMd0VaH0ltPbSYkwBzd901XjggQcuWIi1wCwLe9Ox3tL1ghZqW1huH8VydHS0+k3rN+enJdwRlwpuA9fpCBTklg0NW1ZtQaguiHgWBEEQhCsIfXrpE6ytrJaRKGit1VB4UkzTIk0oqClgtTsGiy23CHvTsZ5uG7qOYtUWFPMU7ZyGYllbrSloaQ3X7hW24P7o5XMbuE5H4D5azlvRcHmCcCWoZ5TzxT8FQRAEQRDsw+gYtIhXdmc+Lpf+1VpsM/IGOy06Kr4F4Upx/vx5Ec+CIAiCIJQNOzsuXbpUuVVUNrSM0xqvoQV+/Pjx5pAgVB9EPAuCIAiCIAiCg1A8i8+zIAiCIAiCIDiIiGdBEARBEARBcBARz4IgCIIgCILgICKeBUEQBEEQBMFBarV4Zs9gHTNSl2+//dYcaxsGrOd0OoXqlYJhedjbWG/z5aL3QxeGAaruMK4nt9X6HPHY6P2wFdPUUThveWKHcn2VdR1w3XofWMq6DktDHw9LrIevFno/bV1vlttd3nNRWej7ojzrrqzj7eg+89hx+VxvRbC8X1iq4llm+Wy9kueR6+I6rdHnlf8rC+vjyHK5+2q9PJaqeDbzOFheP/p88RrU8BnEYjmtrrOkst5JhOvS+8t1Vub5EoQrDaNt1LpiPCTOGzf8JfXGDXveeDhcUq8Lxxs3d6nTlFa4Xi7D1rjSCufhvLbGVaQYDyW1H3qYx8J4CJaYpjoVbput48b9sKzX+2S9f/aK8bJzeL+5PC7X1rjLKVym9bXIfaro+eC83C/La9TWtX41ir7+rbdHn9+rvZ08x/o+c/QautLHm+uyVe9I4bZa7pOta68yCtej7xX+18e0su8hrsfyuchjY7luy+ls1VdG4Xmv6PvAXrHer6oolued6+Kw5X7Y2oaq2FfLwvPjyD0nRUp1LqTWWp6ZUpRZnIyb9UIL33hYqExOTC1qC+MFr/4zUDvTo2qMB0yJVrxx819oMbNeL591jFPJjFAc5nys4/R6/caD6cL0LLbQ9ZzfcloOEy7Dcjn87Qg63Snn0ejtI/yvt1Uv03hZXViPPj56GhaO1/C3nsb6mGk4Xs+rl8nC2KH6uOll2IJxP7nNzEQ1cODAC9Nbnge9Xm4P08xy2Xqc3l7LY6v3m8uzzHDForfFcp/5m1gem9K49dZb1bVoCa9DfT64P9bLJpbn2PpY/vTTTzZT63J79TwsXDbhf8vl8bfeJ8tzSPQ0LBrL/dfXYWkwRqteN3nppZewfPlyc6h4Oy3Xa3n+uG2cV69T77vlNlgeJ8t5Sztf/M9zbJnZjcP8XdY+led4c1mW+6b3xXKfrc+H3kaO5zWrl0X0NCylbSeXz3vIMjYuE1kwW5xeFpdveWz08SKW69Hw2Fpup631cx1MZKGPL4+r3k/L9XFey+OlpyG26rlu7g/Pl74GCK+j0aNHm0PF9zKxzHpneU1Yzlva/jsKj6We33If+NvyWFnukz7+9rDcXi6DcH7W63H8b7nusrad510fG6a+5j1p+V7jseV54zSWx0jDOr0tXB/htDx+3FfWWe6/rXNILLc5PDzcrC2+Hy2vSz0N6wWhJmBTWdf0YtyMJf5bFuOhYNPqZzwoLrS6OZ+exnhgqHn0dMbNfcHaYllva1pOZzwQSkyji+X6OA/n5W9b01sul/PoabiNtqbX69WF26zHWU7P6fQ4/rfeT71NXI/1vuppuAz+Lu2Y6cJp9DI5nz4/9qZnYT23Wc/HYrnd1oXT62ktt4n/9fosp9HFcl9Y9LycTs+nS2nrty6Wx9u6WB9Xfcyt18lprK8VTqvrbK3Dcn+5vZyGdSz8bbk8vd/8zfH8rddhuZyyCufR28f/ul5vn/5vvW2W0+o6y32ynobzss56PaVNy9+s5zx6OkfOoZ6nPMeb//Vx5Hxcl/U+cxl6Guvf/M/Cdett5zbYWq8uto4FC7fZcrv18lin95/z6fXrfdX1epmcT//mtFyW3h9d9L7qYY7X69bD+jen0+Ps1XN9+nzp6fRx1Nur12m9bl0sl2Fv/0srnE5vj95vPY7z62Vwm/Rv/tfTcd2W+8diuU3W28H5OE6vS28vl6GPvyPbbrndnM9y27l8PT9/Wy5XL1vPy2I5H3/rY8/5LLdPT886zm99vDi9Xi//2zpfludWipTqWGq15bkisFWuc/1v2LBBWVBKg612tt6Nh4BZYxu2+DXGQ+FCC9uWJcsa40GiprXMvETmzZun/tN6mZ2dbdMKwfUyExSLl5fXBStCaVhaBzt06HDBSqctw8R4gF7Yh4EDB6o6R9DbqNOt0mJFK1tZ0ErLfbC2QFliPIQvbJPeztKIjo5Wy7N13Kyh1YbXgyU8/tx3R46pJfp8snDdvAa4vbqOy+T6rNfJ8+Lj42MOFUNrrq1riMeIy+I5s4TXA68XbfGeNm2a+s9jERAQoH5zW7SlnseH14Ce3t6xtwXPMa857iPPjeU9YA2tUZbXncZyHutpeGy4zbbuQXvTXi7lOd6Wzw+eU1upjPX5ILQSduvWTf22hPum5+W+2rvXy4NeHp91PL/E1nnXMEUy4TXPc0q43bwnaZHnPDzH9tDPVG63tqqz8PjwmWuvvjTKOr6lPQ9s7b+j8PxbXpf8SqmPCeE1QrKysi48o3neSnvOcV+5HA2XHxwcrH7zfOvtpWVdn4t169aVWK8tOI0+jpyW50xbo/l8YYptW3Afuf36+WANl6GvW95nvN/snUNe05xeY+s+J3yO6nkdeScIwtWm1opnPmh4Q+uHO4t++esHiSWc1vIFwgeIPfcOS/gC4UOI83AZZfHee++phzbn0w9Xe/CBEhsbq6a1/uxfXvjQshZfjjB27Fi1fl3IM888o7aHw6WJosqG6+M5snWc+bDW22r5sLYHXwyc9ocffqjQZ0ItHgjPfWnwBcgXFgkJCVHzsU7DY8g6Xey9tKzhNvAa4nWi0SKGy+HxqAiW28LtJfzPFzf3Ve9LWWiBw0/sluKgsuF2lucerCjlOd5auJTVcKhM9u7da1NQcTu4PWVh67yXBYUdn2eWbhSlwevecj1sGJdWbw+uk89ne8e3vM+D2ohuWPJ+5XuEsKFM4cxrwt77h/V8/zl6n2vKew41vGe5Pj2f5bNREKortVY880VPIcyHu+XNTAHNl7o1fNjyoaGnZSG8sflSsrRe0NJhCdfBBzgfAI6QmJio/murQGnQAkD4wLsc+HLTy+LDST8YS3vpsQHC42ILHhNiabnh9PoY0OfcGooPWhX0uvniK+vFRqGip9fCyLrho9H11pam0pg6dWqZ1qe0tDS7DSkKXe5DaS8aNuBozbMFrwXr64lYr5PnyZaliOu3vu6076ej16MlvDa0ILSGL2PeI45eixQ43AYKOs5rD16XZYkv62l4bCwFoeU9WNa0Gh77sqx31jh6vLm/XDa343IaDpbnQ19jZV3/1uLe+vjr5fHe1qKqtPNuC8uvELTq62NQGtb3v8ZefWlwHv18snd89fGwfh7Y2n9Hsb5f+ZyjIL0cuB+Wz0su356wLS+8Jx544IELzw7dqOM1oY+PLWgcoZHEFpYGDP1csncOrd+d7P9hCy2YuVyxPAs1gVornvmy4AOA1ijLQgusLcuerRcsH6x8wPLBwIeQXoa2dPAhrOsowPgC1y9N1tl6GVDUU0hxfFkvbv2i5rT2xFtp8CGst4/o/dZijvWlvfTY2NDrZ9EvTM6vLfSWcN94vKzrLeE50evmtGVZJ7jNenquU1vgeaz1/vGBy5cNf7PoBzFhQ4nzWVuXtfsEx3F/CF/C3CaOs4Tr4nHSy+eyKFD0MOF55/VgKSo0nJ9CUk+v5+F1xfkst52F1w3n4fWn67h+1tnC8kXLaXgtch57L6rSYGNCn0MW7iu3Rw/zetDXEYf1S9QW3D82LPTxtQeXp+8ZFh5bayzXycLzqo+5rtP3oL1prWEdX+ychvvB9TryFcLR4831cvm21u0olueD9wGHib1tpcWYzwq975zX2orMz+wcx3OpOxfaOu+lweeonpbr08uxdw9pLO9/Fn2u7dVzPay3dV9xHK8vW8fX3vOA2Np/R88912W5bF63+nqrKNwGfQ2x8FlRmrC1prRtp7DlNaivWW4/t7msRgOn4/Vr67jzmPOLHbeV6OeSrXPI/bA8XraeBZxGP+v4PLY+X4JQXbHpEC1FipTyFeNlUaKTTW0uhti8pBNUTS+GALHZgak6lopuqyFQbNbXlWJv/2vSubcuV3LbjYb0hc6FUqTU1UKM/7ZHSpEipXyltonJ0gpf2HyR2hpXEwsbAzVFFFzOtop4vnT/a9K5ty5XettFPEuRUiye65kDgiAIgiAIgiCUAg3PEqpOEARBEARBEBxExLMgCIIgCIIgOIiIZ0EQBEEQBEFwEBHPgiAIgiAIguAgIp4FQRAEQRAEwUFEPAuCIAiCIAiCg4h4FgRBEARBEAQHEfEsCIIgCIIgCA4QGRkJSZIiCIIgCIIgCA4gSVIEQRAEQRAEwWGA/we5zNWJJRILGgAAAABJRU5ErkJggg==)"
      ],
      "metadata": {
        "id": "hoN3Y0jyhYz7"
      }
    },
    {
      "cell_type": "markdown",
      "source": [
        "# Task 4-- Node Removal analysis"
      ],
      "metadata": {
        "id": "ob_hhlZvJENs"
      }
    },
    {
      "cell_type": "code",
      "source": [],
      "metadata": {
        "id": "jcYFl3PPVsGt",
        "colab": {
          "base_uri": "https://localhost:8080/"
        },
        "outputId": "714d24b9-a988-4dc9-b8e9-a815fd1378e9"
      },
      "execution_count": null,
      "outputs": [
        {
          "output_type": "stream",
          "name": "stdout",
          "text": [
            "Average Ti 0.7792582133827184\n"
          ]
        }
      ]
    },
    {
      "cell_type": "markdown",
      "source": [
        "Running SIR model before removing any node with zero recovery rate"
      ],
      "metadata": {
        "id": "YBK5-JDOUQoL"
      }
    },
    {
      "cell_type": "code",
      "source": [
        "# Calculating initital average Ti (T) before removing any node\n",
        "T = np.mean(df_ti_ki.loc[:,'Ti'].values)\n",
        "print('T(Average Ti) = ', T)\n",
        "tmax = 20\n",
        "iterations = 100  \n",
        "tau = 1           #transmission rate\n",
        "gamma = 0    #recovery rate\n",
        "\n",
        "t, S, I, R = EoN.fast_SIR(Graph, tau, gamma,initial_infecteds = 'WUH', tmax = tmax) # first simulation\n",
        "plt.plot(t,I,color = 'r',alpha=0.5, label='Infected')\n",
        "plt.plot(t,S,color ='b',alpha =0.5, label='Susceptible')\n",
        "plt.plot(t,R,color ='g',alpha =0.5, label='Recovered')\n",
        "plt.legend()\n",
        "for counter in range(iterations): # 99 more simulations\n",
        "    t, S, I, R = EoN.fast_SIR(Graph, tau, gamma,initial_infecteds = 'WUH', tmax = tmax)\n",
        "    plt.plot(t,I,color = 'r',alpha=0.5)\n",
        "    plt.plot(t,S,color ='b',alpha =0.5)\n",
        "    plt.plot(t,R,color ='g',alpha =0.5)\n",
        "    # print(t.shape)"
      ],
      "metadata": {
        "colab": {
          "base_uri": "https://localhost:8080/",
          "height": 283
        },
        "id": "rw81J9vVirEP",
        "outputId": "c2666f46-6032-49cc-a7d7-128842cab758"
      },
      "execution_count": null,
      "outputs": [
        {
          "output_type": "stream",
          "name": "stdout",
          "text": [
            "T(Average Ti) =  0.7792582133827184\n"
          ]
        },
        {
          "output_type": "display_data",
          "data": {
            "text/plain": [
              "<Figure size 432x288 with 1 Axes>"
            ],
            "image/png": "[encoded data removed]"
          },
          "metadata": {
            "needs_background": "light"
          }
        }
      ]
    },
    {
      "cell_type": "markdown",
      "source": [
        "Now, for random node removal creating a list of all the node creating lists of random 5%,10%,15%,20%,25%,30% nodes.\n",
        "\n",
        "**Note:** We will remove Wuhan from this list to make sure that Wuhan is not removed randomly beacuse in that case infections will not even start."
      ],
      "metadata": {
        "id": "l_hqhfHqUzrM"
      }
    },
    {
      "cell_type": "code",
      "source": [
        "import random\n",
        "Node_List = list(Graph.nodes())\n",
        "print(len(Node_List))\n",
        "Node_List.remove('WUH') # Remove Wuhan from the list as we dont want Wuhan to be removed randomly\n",
        "print(len(Node_List))\n",
        "five = int(0.05*len(Node_List))\n",
        "ten = int(0.1*len(Node_List))\n",
        "fifteen = int(0.15*len(Node_List))\n",
        "twenty = int(0.2*len(Node_List))\n",
        "twentyfive = int(0.25*len(Node_List))\n",
        "thirty = int(0.3*len(Node_List))\n",
        "Rand_5 = random.sample(Node_List, five)\n",
        "Rand_10 = random.sample(Node_List, ten)\n",
        "Rand_15 = random.sample(Node_List, fifteen)\n",
        "Rand_20 = random.sample(Node_List, twenty)\n",
        "Rand_25 = random.sample(Node_List, twentyfive)\n",
        "Rand_30 = random.sample(Node_List, thirty)\n"
      ],
      "metadata": {
        "id": "HfCNl7C-JBiJ",
        "colab": {
          "base_uri": "https://localhost:8080/"
        },
        "outputId": "4bf355a1-7a21-40ad-fee4-b4fc2f0f1f80"
      },
      "execution_count": null,
      "outputs": [
        {
          "output_type": "stream",
          "name": "stdout",
          "text": [
            "3425\n",
            "3424\n"
          ]
        }
      ]
    },
    {
      "cell_type": "code",
      "source": [
        "print(len(Rand_5),len(Rand_10),len(Rand_15),len(Rand_20),len(Rand_25),len(Rand_30))"
      ],
      "metadata": {
        "id": "A4LpgQ20e8bY",
        "colab": {
          "base_uri": "https://localhost:8080/"
        },
        "outputId": "f6ea1d39-c482-48cc-bbb5-d033aa8925ec"
      },
      "execution_count": null,
      "outputs": [
        {
          "output_type": "stream",
          "name": "stdout",
          "text": [
            "171 342 513 684 856 1027\n"
          ]
        }
      ]
    },
    {
      "cell_type": "markdown",
      "source": [
        "Defining a custom function to calculate avearge Ti value which negates the zero values, so that our average value is not decreased exponentially because of these zero values after node removals"
      ],
      "metadata": {
        "id": "CCgybW-VVuxv"
      }
    },
    {
      "cell_type": "code",
      "source": [
        "def average(Ti):\n",
        "  sum =0\n",
        "  count =0\n",
        "  for value in list(Ti.values()):\n",
        "    if value !=0:\n",
        "      sum = sum+value\n",
        "      count=count+1\n",
        "  return sum/count"
      ],
      "metadata": {
        "id": "YYqPYXA55vd5"
      },
      "execution_count": null,
      "outputs": []
    },
    {
      "cell_type": "markdown",
      "source": [
        "Removing 5% random nodes, getting average Ti and running SIR model on this network"
      ],
      "metadata": {
        "id": "JRob7hyg-p-V"
      }
    },
    {
      "cell_type": "code",
      "source": [
        "# Adding nodes again\n",
        "Graph = nx.from_pandas_edgelist(df, source='Source', target='Target', create_using=G)\n",
        "print('Number of nodes before removal', len(Graph.nodes()))\n",
        "\n",
        "Graph.remove_nodes_from(Rand_5)\n",
        "Node_list=list(Graph.nodes())\n",
        "print('Number of nodes after removal', len(Node_list))\n",
        "\n",
        "print(\"5% random nodes removed\")\n",
        "Ti_5,Dis_5,full_data_5= calculate_Ti(Graph)\n",
        "print(\"Number of nodes disconnected from Wuhan\", len(Dis_5))\n",
        "T_Rand_5 = average(Ti_5)\n",
        "print('T(Average Ti) = ', T_Rand_5)\n",
        "\n",
        "tmax = 20\n",
        "iterations = 100  \n",
        "tau = 1           #transmission rate\n",
        "gamma = 0    #recovery rate\n",
        "\n",
        "t, S, I, R = EoN.fast_SIR(Graph, tau, gamma,initial_infecteds = 'WUH', tmax = tmax) # first simulation\n",
        "plt.plot(t,I,color = 'r',alpha=0.5, label='Infected')\n",
        "plt.plot(t,S,color ='b',alpha =0.5, label='Susceptible')\n",
        "plt.plot(t,R,color ='g',alpha =0.5, label='Recovered')\n",
        "plt.legend()\n",
        "for counter in range(iterations): # 99 more simulations\n",
        "    t, S, I, R = EoN.fast_SIR(Graph, tau, gamma,initial_infecteds = 'WUH', tmax = tmax)\n",
        "    plt.plot(t,I,color = 'r',alpha=0.5)\n",
        "    plt.plot(t,S,color ='b',alpha =0.5)\n",
        "    plt.plot(t,R,color ='g',alpha =0.5)\n",
        "    # print(t.shape)"
      ],
      "metadata": {
        "id": "_2L4O4uPNl45",
        "colab": {
          "base_uri": "https://localhost:8080/",
          "height": 354
        },
        "outputId": "83eb51da-98de-4692-8b4e-fda94d8c84eb"
      },
      "execution_count": null,
      "outputs": [
        {
          "output_type": "stream",
          "name": "stdout",
          "text": [
            "Number of nodes before removal 3425\n",
            "Number of nodes after removal 3254\n",
            "5% random nodes removed\n",
            "Number of nodes disconnected from Wuhan 114\n",
            "T(Average Ti) =  0.9553959417877798\n"
          ]
        },
        {
          "output_type": "display_data",
          "data": {
            "text/plain": [
              "<Figure size 432x288 with 1 Axes>"
            ],
            "image/png": "[encoded data removed]"
          },
          "metadata": {
            "needs_background": "light"
          }
        }
      ]
    },
    {
      "cell_type": "markdown",
      "source": [
        " Removing 10 % Random Nodes \n",
        " (Firstly adding all the nodes and then removing 10% from the original network)"
      ],
      "metadata": {
        "id": "AyvvsIY2-y5o"
      }
    },
    {
      "cell_type": "code",
      "source": [
        "# Adding nodes again\n",
        "Graph = nx.from_pandas_edgelist(df, source='Source', target='Target', create_using=G)\n",
        "print('Number of nodes before removal', len(Graph.nodes()))\n",
        "\n",
        "Graph.remove_nodes_from(Rand_10)\n",
        "Node_list=list(Graph.nodes())\n",
        "print('Number of nodes after removal', len(Node_list))\n",
        "\n",
        "print(\"10% random nodes removed\")\n",
        "Ti_10,Dis_10,full_data_10 = calculate_Ti(Graph)\n",
        "print(\"Number of nodes disconnected from Wuhan\", len(Dis_10))\n",
        "T_Rand_10 = average(Ti_10)\n",
        "print('Average value of Ti after removing nodes', T_Rand_10)\n",
        "\n",
        "tmax = 20\n",
        "iterations = 100  \n",
        "tau = 1           #transmission rate\n",
        "gamma = 0    #recovery rate\n",
        "\n",
        "t, S, I, R = EoN.fast_SIR(Graph, tau, gamma,initial_infecteds = 'WUH', tmax = tmax) # first simulation\n",
        "plt.plot(t,I,color = 'r',alpha=0.5, label='Infected')\n",
        "plt.plot(t,S,color ='b',alpha =0.5, label='Susceptible')\n",
        "plt.plot(t,R,color ='g',alpha =0.5, label='Recovered')\n",
        "plt.legend()\n",
        "for counter in range(iterations): # 99 more simulations\n",
        "    t, S, I, R = EoN.fast_SIR(Graph, tau, gamma,initial_infecteds = 'WUH', tmax = tmax)\n",
        "    plt.plot(t,I,color = 'r',alpha=0.5)\n",
        "    plt.plot(t,S,color ='b',alpha =0.5)\n",
        "    plt.plot(t,R,color ='g',alpha =0.5)\n",
        "    # print(t.shape)\n"
      ],
      "metadata": {
        "id": "S01w4PAhdBdv",
        "colab": {
          "base_uri": "https://localhost:8080/",
          "height": 354
        },
        "outputId": "d49ac17d-af25-4c50-a555-56d92e69adae"
      },
      "execution_count": null,
      "outputs": [
        {
          "output_type": "stream",
          "name": "stdout",
          "text": [
            "Number of nodes before removal 3425\n",
            "Number of nodes after removal 3083\n",
            "10% random nodes removed\n",
            "Number of nodes disconnected from Wuhan 132\n",
            "Average value of Ti after removing nodes 1.0646136934617574\n"
          ]
        },
        {
          "output_type": "display_data",
          "data": {
            "text/plain": [
              "<Figure size 432x288 with 1 Axes>"
            ],
            "image/png": "[encoded data removed]"
          },
          "metadata": {
            "needs_background": "light"
          }
        }
      ]
    },
    {
      "cell_type": "markdown",
      "source": [
        "Removing 15% Random Nodes (Firstly adding all the nodes and then removing 15% from the original network)"
      ],
      "metadata": {
        "id": "FUW5SSfEFuw-"
      }
    },
    {
      "cell_type": "code",
      "source": [
        "# Adding nodes again\n",
        "Graph = nx.from_pandas_edgelist(df, source='Source', target='Target', create_using=G)\n",
        "print('Number of nodes before removal', len(Graph.nodes()))\n",
        "\n",
        "Graph.remove_nodes_from(Rand_15)\n",
        "Node_list=list(Graph.nodes())\n",
        "print('Number of nodes after removal', len(Node_list))\n",
        "\n",
        "print(\"15% random nodes removed\")\n",
        "Ti_15,Dis_15,full_data_15 = calculate_Ti(Graph)\n",
        "print(\"Number of disconnected nodes\", len(Dis_15))\n",
        "T_Rand_15 = average(Ti_15)\n",
        "print(\"Number of nodes disconnected from Wuhan\", T_Rand_15)\n",
        "\n",
        "t, S, I, R = EoN.fast_SIR(Graph, tau, gamma,initial_infecteds = 'WUH', tmax = tmax) # first simulation\n",
        "plt.plot(t,I,color = 'r',alpha=0.5, label='Infected')\n",
        "plt.plot(t,S,color ='b',alpha =0.5, label='Susceptible')\n",
        "plt.plot(t,R,color ='g',alpha =0.5, label='Recovered')\n",
        "plt.legend()\n",
        "for counter in range(iterations): # 99 more simulations\n",
        "    t, S, I, R = EoN.fast_SIR(Graph, tau, gamma,initial_infecteds = 'WUH', tmax = tmax)\n",
        "    plt.plot(t,I,color = 'r',alpha=0.5)\n",
        "    plt.plot(t,S,color ='b',alpha =0.5)\n",
        "    plt.plot(t,R,color ='g',alpha =0.5)\n",
        "    # print(t.shape)\n"
      ],
      "metadata": {
        "id": "-r49sGd7dXrg",
        "colab": {
          "base_uri": "https://localhost:8080/",
          "height": 354
        },
        "outputId": "c14ebce7-bd8e-4775-ab83-94af6217cad6"
      },
      "execution_count": null,
      "outputs": [
        {
          "output_type": "stream",
          "name": "stdout",
          "text": [
            "Number of nodes before removal 3425\n",
            "Number of nodes after removal 2912\n",
            "15% random nodes removed\n",
            "Number of disconnected nodes 195\n",
            "Number of nodes disconnected from Wuhan 1.34731067789933\n"
          ]
        },
        {
          "output_type": "display_data",
          "data": {
            "text/plain": [
              "<Figure size 432x288 with 1 Axes>"
            ],
            "image/png": "[encoded data removed]"
          },
          "metadata": {
            "needs_background": "light"
          }
        }
      ]
    },
    {
      "cell_type": "markdown",
      "source": [
        "Removing 20% Random Nodes (Firstly adding all the nodes and then removing 20% from the original network)"
      ],
      "metadata": {
        "id": "eU4n-DTRF0AW"
      }
    },
    {
      "cell_type": "code",
      "source": [
        "# Adding nodes again\n",
        "Graph = nx.from_pandas_edgelist(df, source='Source', target='Target', create_using=G)\n",
        "print('Number of nodes before removal', len(Graph.nodes()))\n",
        "\n",
        "Graph.remove_nodes_from(Rand_20)\n",
        "Node_list=list(Graph.nodes())\n",
        "print('Number of nodes after removal', len(Node_list))\n",
        "\n",
        "print(\"20% random nodes removed\")\n",
        "Ti_20,Dis_20,full_data_20 = calculate_Ti(Graph)\n",
        "print(\"Number of nodes disconnected from Wuhan\", len(Dis_20))\n",
        "T_Rand_20 = average(Ti_20)\n",
        "print('Average value of Ti after removing nodes', T_Rand_20)\n",
        "\n",
        "t, S, I, R = EoN.fast_SIR(Graph, tau, gamma,initial_infecteds = 'WUH', tmax = tmax) # first simulation\n",
        "plt.plot(t,I,color = 'r',alpha=0.5, label='Infected')\n",
        "plt.plot(t,S,color ='b',alpha =0.5, label='Susceptible')\n",
        "plt.plot(t,R,color ='g',alpha =0.5, label='Recovered')\n",
        "plt.legend()\n",
        "for counter in range(iterations): # 99 more simulations\n",
        "    t, S, I, R = EoN.fast_SIR(Graph, tau, gamma,initial_infecteds = 'WUH', tmax = tmax)\n",
        "    plt.plot(t,I,color = 'r',alpha=0.5)\n",
        "    plt.plot(t,S,color ='b',alpha =0.5)\n",
        "    plt.plot(t,R,color ='g',alpha =0.5)\n",
        "    # print(t.shape)\n"
      ],
      "metadata": {
        "id": "DxJmr4H2dj7R",
        "colab": {
          "base_uri": "https://localhost:8080/",
          "height": 354
        },
        "outputId": "78c47473-df7a-4e15-dfcd-98df6047d631"
      },
      "execution_count": null,
      "outputs": [
        {
          "output_type": "stream",
          "name": "stdout",
          "text": [
            "Number of nodes before removal 3425\n",
            "Number of nodes after removal 2741\n",
            "20% random nodes removed\n",
            "Number of nodes disconnected from Wuhan 187\n",
            "Average value of Ti after removing nodes 1.2706851458109807\n"
          ]
        },
        {
          "output_type": "display_data",
          "data": {
            "text/plain": [
              "<Figure size 432x288 with 1 Axes>"
            ],
            "image/png": "[encoded data removed]"
          },
          "metadata": {
            "needs_background": "light"
          }
        }
      ]
    },
    {
      "cell_type": "markdown",
      "source": [
        "Removing 25% Random Nodes (Firstly adding all the nodes and then removing 25% from the original network)"
      ],
      "metadata": {
        "id": "niQA3pHQF5dx"
      }
    },
    {
      "cell_type": "code",
      "source": [
        "# Adding nodes again\n",
        "Graph = nx.from_pandas_edgelist(df, source='Source', target='Target', create_using=G)\n",
        "print('Number of nodes before removal', len(Graph.nodes()))\n",
        "\n",
        "Graph.remove_nodes_from(Rand_25)\n",
        "Node_list=list(Graph.nodes())\n",
        "print('Number of nodes after removal', len(Node_list))\n",
        "\n",
        "print(\"25% random nodes removed\")\n",
        "Ti_25,Dis_25,full_data_25 = calculate_Ti(Graph)\n",
        "print(\"Number of nodes disconnected from Wuhan\", len(Dis_25))\n",
        "T_Rand_25 = average(Ti_25)\n",
        "print('Average value of Ti after removing nodes', T_Rand_25)\n",
        "\n",
        "t, S, I, R = EoN.fast_SIR(Graph, tau, gamma,initial_infecteds = 'WUH', tmax = tmax) # first simulation\n",
        "plt.plot(t,I,color = 'r',alpha=0.5, label='Infected')\n",
        "plt.plot(t,S,color ='b',alpha =0.5, label='Susceptible')\n",
        "plt.plot(t,R,color ='g',alpha =0.5, label='Recovered')\n",
        "plt.legend()\n",
        "for counter in range(iterations): # 99 more simulations\n",
        "    t, S, I, R = EoN.fast_SIR(Graph, tau, gamma,initial_infecteds = 'WUH', tmax = tmax)\n",
        "    plt.plot(t,I,color = 'r',alpha=0.5)\n",
        "    plt.plot(t,S,color ='b',alpha =0.5)\n",
        "    plt.plot(t,R,color ='g',alpha =0.5)\n",
        "    # print(t.shape)\n"
      ],
      "metadata": {
        "id": "XiVR0cD0dwi8",
        "colab": {
          "base_uri": "https://localhost:8080/",
          "height": 354
        },
        "outputId": "3829c443-a2ba-4fd6-c549-94dd343aeb41"
      },
      "execution_count": null,
      "outputs": [
        {
          "output_type": "stream",
          "name": "stdout",
          "text": [
            "Number of nodes before removal 3425\n",
            "Number of nodes after removal 2569\n",
            "25% random nodes removed\n",
            "Number of nodes disconnected from Wuhan 292\n",
            "Average value of Ti after removing nodes 1.4656118514130665\n"
          ]
        },
        {
          "output_type": "display_data",
          "data": {
            "text/plain": [
              "<Figure size 432x288 with 1 Axes>"
            ],
            "image/png": "[encoded data removed]"
          },
          "metadata": {
            "needs_background": "light"
          }
        }
      ]
    },
    {
      "cell_type": "markdown",
      "source": [
        "Removing 30% Random nodes(Firstly adding all the nodes and then removing 30% from the original network)"
      ],
      "metadata": {
        "id": "QuYhGAr5GS74"
      }
    },
    {
      "cell_type": "code",
      "source": [
        "# Adding nodes again\n",
        "Graph = nx.from_pandas_edgelist(df, source='Source', target='Target', create_using=G)\n",
        "print('Number of nodes before removal', len(Graph.nodes()))\n",
        "\n",
        "Graph.remove_nodes_from(Rand_30)\n",
        "Node_list=list(Graph.nodes())\n",
        "print('Number of nodes after removal', len(Node_list))\n",
        "\n",
        "print(\"30% random nodes removed\")\n",
        "Ti_30,Dis_30,full_data_30 = calculate_Ti(Graph)\n",
        "print(\"Number of nodes disconnected from Wuhan\", len(Dis_30))\n",
        "T_Rand_30 = average(Ti_30)\n",
        "print('Average value of Ti after removing nodes', T_Rand_30)\n",
        "\n",
        "t, S, I, R = EoN.fast_SIR(Graph, tau, gamma,initial_infecteds = 'WUH', tmax = tmax) # first simulation\n",
        "plt.plot(t,I,color = 'r',alpha=0.5, label='Infected')\n",
        "plt.plot(t,S,color ='b',alpha =0.5, label='Susceptible')\n",
        "plt.plot(t,R,color ='g',alpha =0.5, label='Recovered')\n",
        "plt.legend()\n",
        "for counter in range(iterations): # 99 more simulations\n",
        "    t, S, I, R = EoN.fast_SIR(Graph, tau, gamma,initial_infecteds = 'WUH', tmax = tmax)\n",
        "    plt.plot(t,I,color = 'r',alpha=0.5)\n",
        "    plt.plot(t,S,color ='b',alpha =0.5)\n",
        "    plt.plot(t,R,color ='g',alpha =0.5)\n",
        "    # print(t.shape)"
      ],
      "metadata": {
        "id": "9j2jSsQjfOmP",
        "colab": {
          "base_uri": "https://localhost:8080/",
          "height": 357
        },
        "outputId": "1f230452-65ae-48e1-aa41-05213a9f4fd2"
      },
      "execution_count": null,
      "outputs": [
        {
          "output_type": "stream",
          "name": "stdout",
          "text": [
            "Number of nodes before removal 3425\n",
            "Number of nodes after removal 2398\n",
            "30% random nodes removed\n",
            "Number of nodes disconnected from Wuhan 455\n",
            "Average value of Ti after removing nodes 1.796857276659697\n"
          ]
        },
        {
          "output_type": "display_data",
          "data": {
            "text/plain": [
              "<Figure size 432x288 with 1 Axes>"
            ],
            "image/png": "[encoded data removed]"
          },
          "metadata": {
            "needs_background": "light"
          }
        }
      ]
    },
    {
      "cell_type": "markdown",
      "source": [
        "# Removing nodes as per Eigen Vector Centrality"
      ],
      "metadata": {
        "id": "AY2SZ3Szgx3E"
      }
    },
    {
      "cell_type": "code",
      "source": [
        "# Adding nodes again\n",
        "Graph = nx.from_pandas_edgelist(df, source='Source', target='Target', create_using=G)\n",
        "print('Number of nodes before removal', len(Graph.nodes()))\n",
        "\n",
        "# Creating a dictionary of eigenvector centralities of all nodes\n",
        "e_c = nx.eigenvector_centrality(Graph)\n",
        "len(e_c)\n"
      ],
      "metadata": {
        "id": "dn-IBQZwXS9p",
        "colab": {
          "base_uri": "https://localhost:8080/"
        },
        "outputId": "1408a182-77a2-40e9-cc11-d2daeb2d9b3a"
      },
      "execution_count": null,
      "outputs": [
        {
          "output_type": "stream",
          "name": "stdout",
          "text": [
            "Number of nodes before removal 3425\n"
          ]
        },
        {
          "output_type": "execute_result",
          "data": {
            "text/plain": [
              "3425"
            ]
          },
          "metadata": {},
          "execution_count": 44
        }
      ]
    },
    {
      "cell_type": "code",
      "source": [
        "# Sorting it in Descending order of eigenvector centrality values\n",
        "sorted_e_c = sorted(e_c.items(), key = lambda x:x[1], reverse = True)\n",
        "len(sorted_e_c)"
      ],
      "metadata": {
        "id": "1nDrkWH_WQ4d",
        "colab": {
          "base_uri": "https://localhost:8080/"
        },
        "outputId": "40b355e6-68b0-490a-d21f-e2a88669914a"
      },
      "execution_count": null,
      "outputs": [
        {
          "output_type": "execute_result",
          "data": {
            "text/plain": [
              "3425"
            ]
          },
          "metadata": {},
          "execution_count": 45
        }
      ]
    },
    {
      "cell_type": "markdown",
      "source": [
        "Creating a function which removes x% most eigen vector nodes and maked sure Wuhan is node removed, calculates average Ti and runs SIR model on the resulting network"
      ],
      "metadata": {
        "id": "7uMlFNFobFAZ"
      }
    },
    {
      "cell_type": "code",
      "source": [
        "# Removing x% most eigonvector central nodes and caculating TI and average\n",
        "def remove_x_percent_nodes_calculate_Ti_average(x):\n",
        "  # Adding nodes again\n",
        "  Graph = nx.from_pandas_edgelist(df, source='Source', target='Target', create_using=G)\n",
        "  print(\"length of Graph before removing nodes:\",len(Graph.nodes()))\n",
        "  node_list=[]\n",
        "  Ti=[]\n",
        "  sliced_list = sorted_e_c[0 : int((x/100)*len(sorted_e_c))]\n",
        "  for list in sliced_list:  # Wuhan Should not be removed\n",
        "    if list[0] != 'WUH':\n",
        "      node_list.append(list[0])\n",
        "  Graph.remove_nodes_from(node_list)\n",
        "  print(\"length of Graph after removing nodes:\",len(Graph.nodes()))\n",
        "  Ti,Dis,full_data = calculate_Ti(Graph)\n",
        "  print(\"Number of disconnected nodes\", len(Dis))\n",
        "  T_avg = average(Ti)\n",
        "  print('Average value of Ti after removing nodes', T_avg)\n",
        "\n",
        "\n",
        "  t, S, I, R = EoN.fast_SIR(Graph, tau, gamma,initial_infecteds = 'WUH', tmax = tmax) # first simulation\n",
        "  plt.plot(t,I,color = 'r',alpha=0.5, label='Infected')\n",
        "  plt.plot(t,S,color ='b',alpha =0.5, label='Susceptible')\n",
        "  plt.plot(t,R,color ='g',alpha =0.5, label='Recovered')\n",
        "  plt.legend()\n",
        "  for counter in range(iterations): # 99 more simulations\n",
        "    t, S, I, R = EoN.fast_SIR(Graph, tau, gamma,initial_infecteds = 'WUH', tmax = tmax)\n",
        "    plt.plot(t,I,color = 'r',alpha=0.5)\n",
        "    plt.plot(t,S,color ='b',alpha =0.5)\n",
        "    plt.plot(t,R,color ='g',alpha =0.5)\n",
        "    # print(t.shape)\n",
        "  \n",
        "\n"
      ],
      "metadata": {
        "id": "63n-ctiBQNjd"
      },
      "execution_count": null,
      "outputs": []
    },
    {
      "cell_type": "markdown",
      "source": [
        "Removing 5% most eigen vector nodes"
      ],
      "metadata": {
        "id": "lsOST-Cbb3gw"
      }
    },
    {
      "cell_type": "code",
      "source": [
        "T_Eigen_5 = remove_x_percent_nodes_calculate_Ti_average(5)"
      ],
      "metadata": {
        "id": "En81pnQ1W1QH",
        "colab": {
          "base_uri": "https://localhost:8080/",
          "height": 337
        },
        "outputId": "7888b270-4929-4bb2-86c1-c1e3b331913b"
      },
      "execution_count": null,
      "outputs": [
        {
          "output_type": "stream",
          "name": "stdout",
          "text": [
            "length of Graph before removing nodes: 3425\n",
            "length of Graph after removing nodes: 3254\n",
            "Number of disconnected nodes 550\n",
            "Average value of Ti after removing nodes 2.2243419803919866\n"
          ]
        },
        {
          "output_type": "display_data",
          "data": {
            "text/plain": [
              "<Figure size 432x288 with 1 Axes>"
            ],
            "image/png": "[encoded data removed]"
          },
          "metadata": {
            "needs_background": "light"
          }
        }
      ]
    },
    {
      "cell_type": "markdown",
      "source": [
        "Removing 10 % most eigen vector nodes"
      ],
      "metadata": {
        "id": "3vs-sMmeb9yF"
      }
    },
    {
      "cell_type": "code",
      "source": [
        "T_Eigen_10 = remove_x_percent_nodes_calculate_Ti_average(10)"
      ],
      "metadata": {
        "id": "p4KkAtejXHsk",
        "colab": {
          "base_uri": "https://localhost:8080/",
          "height": 337
        },
        "outputId": "a6e491ee-fa38-45d5-cfa2-3d5e6a1f67ee"
      },
      "execution_count": null,
      "outputs": [
        {
          "output_type": "stream",
          "name": "stdout",
          "text": [
            "length of Graph before removing nodes: 3425\n",
            "length of Graph after removing nodes: 3084\n",
            "Number of disconnected nodes 1308\n",
            "Average value of Ti after removing nodes 5.030583027614325\n"
          ]
        },
        {
          "output_type": "display_data",
          "data": {
            "text/plain": [
              "<Figure size 432x288 with 1 Axes>"
            ],
            "image/png": "[encoded data removed]"
          },
          "metadata": {
            "needs_background": "light"
          }
        }
      ]
    },
    {
      "cell_type": "markdown",
      "source": [
        "Removing 15% most eigen vector nodes"
      ],
      "metadata": {
        "id": "rpIDgejIcFDx"
      }
    },
    {
      "cell_type": "code",
      "source": [
        "T_Eigen_15 = remove_x_percent_nodes_calculate_Ti_average(15)"
      ],
      "metadata": {
        "id": "zTsFiac0XUfu",
        "colab": {
          "base_uri": "https://localhost:8080/",
          "height": 337
        },
        "outputId": "989a2905-8e8d-4aca-aecc-f4b9db143dce"
      },
      "execution_count": null,
      "outputs": [
        {
          "output_type": "stream",
          "name": "stdout",
          "text": [
            "length of Graph before removing nodes: 3425\n",
            "length of Graph after removing nodes: 2913\n",
            "Number of disconnected nodes 2238\n",
            "Average value of Ti after removing nodes 5.431837141128431\n"
          ]
        },
        {
          "output_type": "display_data",
          "data": {
            "text/plain": [
              "<Figure size 432x288 with 1 Axes>"
            ],
            "image/png": "[encoded data removed]"
          },
          "metadata": {
            "needs_background": "light"
          }
        }
      ]
    },
    {
      "cell_type": "markdown",
      "source": [
        "Removing 20% most eigen vector nodes"
      ],
      "metadata": {
        "id": "92y1OXF7cJhe"
      }
    },
    {
      "cell_type": "code",
      "source": [
        "T_Eigen_20 = remove_x_percent_nodes_calculate_Ti_average(20)"
      ],
      "metadata": {
        "id": "Fw8LIqvlapEx",
        "colab": {
          "base_uri": "https://localhost:8080/",
          "height": 337
        },
        "outputId": "255725be-0548-4b41-a32f-679f95286c4c"
      },
      "execution_count": null,
      "outputs": [
        {
          "output_type": "stream",
          "name": "stdout",
          "text": [
            "length of Graph before removing nodes: 3425\n",
            "length of Graph after removing nodes: 2741\n",
            "Number of disconnected nodes 2656\n",
            "Average value of Ti after removing nodes 5.885416940696176\n"
          ]
        },
        {
          "output_type": "display_data",
          "data": {
            "text/plain": [
              "<Figure size 432x288 with 1 Axes>"
            ],
            "image/png": "[encoded data removed]"
          },
          "metadata": {
            "needs_background": "light"
          }
        }
      ]
    },
    {
      "cell_type": "markdown",
      "source": [
        "Removing 25% most eigen vector nodes"
      ],
      "metadata": {
        "id": "diKk9bddcMx2"
      }
    },
    {
      "cell_type": "code",
      "source": [
        "T_Eigen_25 = remove_x_percent_nodes_calculate_Ti_average(25)"
      ],
      "metadata": {
        "id": "BVxx84zPWkHu",
        "colab": {
          "base_uri": "https://localhost:8080/",
          "height": 337
        },
        "outputId": "25b212a1-3da8-49d1-d725-6f631fe2e16f"
      },
      "execution_count": null,
      "outputs": [
        {
          "output_type": "stream",
          "name": "stdout",
          "text": [
            "length of Graph before removing nodes: 3425\n",
            "length of Graph after removing nodes: 2570\n",
            "Number of disconnected nodes 2553\n",
            "Average value of Ti after removing nodes 5.973660023529263\n"
          ]
        },
        {
          "output_type": "display_data",
          "data": {
            "text/plain": [
              "<Figure size 432x288 with 1 Axes>"
            ],
            "image/png": "[encoded data removed]"
          },
          "metadata": {
            "needs_background": "light"
          }
        }
      ]
    },
    {
      "cell_type": "markdown",
      "source": [
        "Removing 30% most eigen vector nodes"
      ],
      "metadata": {
        "id": "AdHuDZSgcQxR"
      }
    },
    {
      "cell_type": "code",
      "source": [
        "T_Eigen_30 = remove_x_percent_nodes_calculate_Ti_average(30)"
      ],
      "metadata": {
        "id": "bcGmIDxxrrdd",
        "colab": {
          "base_uri": "https://localhost:8080/",
          "height": 340
        },
        "outputId": "f4be5eec-d9f7-4ca3-c328-c816fe83e200"
      },
      "execution_count": null,
      "outputs": [
        {
          "output_type": "stream",
          "name": "stdout",
          "text": [
            "length of Graph before removing nodes: 3425\n",
            "length of Graph after removing nodes: 2399\n",
            "Number of disconnected nodes 2398\n",
            "Average value of Ti after removing nodes 5.997920850022732\n"
          ]
        },
        {
          "output_type": "display_data",
          "data": {
            "text/plain": [
              "<Figure size 432x288 with 1 Axes>"
            ],
            "image/png": "[encoded data removed]"
          },
          "metadata": {
            "needs_background": "light"
          }
        }
      ]
    },
    {
      "cell_type": "code",
      "source": [
        "df_Bridging = pd.read_csv('Bridging.csv')\n",
        "df_Bridging"
      ],
      "metadata": {
        "colab": {
          "base_uri": "https://localhost:8080/",
          "height": 423
        },
        "id": "P12tmMWZ-HOI",
        "outputId": "b7a578a0-9b9d-469f-c9f2-0fe1a4a00294"
      },
      "execution_count": null,
      "outputs": [
        {
          "output_type": "execute_result",
          "data": {
            "text/plain": [
              "       Id  Bridging Centrality\n",
              "0     DAV         182082.90720\n",
              "1     JQA          68753.12500\n",
              "2     JAV          22765.69191\n",
              "3     CHU          18050.89286\n",
              "4     BOC          17332.33607\n",
              "...   ...                  ...\n",
              "3420  GFN              0.00000\n",
              "3421  RCM              0.00000\n",
              "3422  LSY              0.00000\n",
              "3423  MYA              0.00000\n",
              "3424  OAG              0.00000\n",
              "\n",
              "[3425 rows x 2 columns]"
            ],
            "text/html": [
              "\n",
              "  <div id=\"df-ab023022-9895-44c3-97a9-16c036cbc2e8\">\n",
              "    <div class=\"colab-df-container\">\n",
              "      <div>\n",
              "<style scoped>\n",
              "    .dataframe tbody tr th:only-of-type {\n",
              "        vertical-align: middle;\n",
              "    }\n",
              "\n",
              "    .dataframe tbody tr th {\n",
              "        vertical-align: top;\n",
              "    }\n",
              "\n",
              "    .dataframe thead th {\n",
              "        text-align: right;\n",
              "    }\n",
              "</style>\n",
              "<table border=\"1\" class=\"dataframe\">\n",
              "  <thead>\n",
              "    <tr style=\"text-align: right;\">\n",
              "      <th></th>\n",
              "      <th>Id</th>\n",
              "      <th>Bridging Centrality</th>\n",
              "    </tr>\n",
              "  </thead>\n",
              "  <tbody>\n",
              "    <tr>\n",
              "      <th>0</th>\n",
              "      <td>DAV</td>\n",
              "      <td>182082.90720</td>\n",
              "    </tr>\n",
              "    <tr>\n",
              "      <th>1</th>\n",
              "      <td>JQA</td>\n",
              "      <td>68753.12500</td>\n",
              "    </tr>\n",
              "    <tr>\n",
              "      <th>2</th>\n",
              "      <td>JAV</td>\n",
              "      <td>22765.69191</td>\n",
              "    </tr>\n",
              "    <tr>\n",
              "      <th>3</th>\n",
              "      <td>CHU</td>\n",
              "      <td>18050.89286</td>\n",
              "    </tr>\n",
              "    <tr>\n",
              "      <th>4</th>\n",
              "      <td>BOC</td>\n",
              "      <td>17332.33607</td>\n",
              "    </tr>\n",
              "    <tr>\n",
              "      <th>...</th>\n",
              "      <td>...</td>\n",
              "      <td>...</td>\n",
              "    </tr>\n",
              "    <tr>\n",
              "      <th>3420</th>\n",
              "      <td>GFN</td>\n",
              "      <td>0.00000</td>\n",
              "    </tr>\n",
              "    <tr>\n",
              "      <th>3421</th>\n",
              "      <td>RCM</td>\n",
              "      <td>0.00000</td>\n",
              "    </tr>\n",
              "    <tr>\n",
              "      <th>3422</th>\n",
              "      <td>LSY</td>\n",
              "      <td>0.00000</td>\n",
              "    </tr>\n",
              "    <tr>\n",
              "      <th>3423</th>\n",
              "      <td>MYA</td>\n",
              "      <td>0.00000</td>\n",
              "    </tr>\n",
              "    <tr>\n",
              "      <th>3424</th>\n",
              "      <td>OAG</td>\n",
              "      <td>0.00000</td>\n",
              "    </tr>\n",
              "  </tbody>\n",
              "</table>\n",
              "<p>3425 rows × 2 columns</p>\n",
              "</div>\n",
              "      <button class=\"colab-df-convert\" onclick=\"convertToInteractive('df-ab023022-9895-44c3-97a9-16c036cbc2e8')\"\n",
              "              title=\"Convert this dataframe to an interactive table.\"\n",
              "              style=\"display:none;\">\n",
              "        \n",
              "  <svg xmlns=\"http://www.w3.org/2000/svg\" height=\"24px\"viewBox=\"0 0 24 24\"\n",
              "       width=\"24px\">\n",
              "    <path d=\"M0 0h24v24H0V0z\" fill=\"none\"/>\n",
              "    <path d=\"M18.56 5.44l.94 2.06.94-2.06 2.06-.94-2.06-.94-.94-2.06-.94 2.06-2.06.94zm-11 1L8.5 8.5l.94-2.06 2.06-.94-2.06-.94L8.5 2.5l-.94 2.06-2.06.94zm10 10l.94 2.06.94-2.06 2.06-.94-2.06-.94-.94-2.06-.94 2.06-2.06.94z\"/><path d=\"M17.41 7.96l-1.37-1.37c-.4-.4-.92-.59-1.43-.59-.52 0-1.04.2-1.43.59L10.3 9.45l-7.72 7.72c-.78.78-.78 2.05 0 2.83L4 21.41c.39.39.9.59 1.41.59.51 0 1.02-.2 1.41-.59l7.78-7.78 2.81-2.81c.8-.78.8-2.07 0-2.86zM5.41 20L4 18.59l7.72-7.72 1.47 1.35L5.41 20z\"/>\n",
              "  </svg>\n",
              "      </button>\n",
              "      \n",
              "  <style>\n",
              "    .colab-df-container {\n",
              "      display:flex;\n",
              "      flex-wrap:wrap;\n",
              "      gap: 12px;\n",
              "    }\n",
              "\n",
              "    .colab-df-convert {\n",
              "      background-color: #E8F0FE;\n",
              "      border: none;\n",
              "      border-radius: 50%;\n",
              "      cursor: pointer;\n",
              "      display: none;\n",
              "      fill: #1967D2;\n",
              "      height: 32px;\n",
              "      padding: 0 0 0 0;\n",
              "      width: 32px;\n",
              "    }\n",
              "\n",
              "    .colab-df-convert:hover {\n",
              "      background-color: #E2EBFA;\n",
              "      box-shadow: 0px 1px 2px rgba(60, 64, 67, 0.3), 0px 1px 3px 1px rgba(60, 64, 67, 0.15);\n",
              "      fill: #174EA6;\n",
              "    }\n",
              "\n",
              "    [theme=dark] .colab-df-convert {\n",
              "      background-color: #3B4455;\n",
              "      fill: #D2E3FC;\n",
              "    }\n",
              "\n",
              "    [theme=dark] .colab-df-convert:hover {\n",
              "      background-color: #434B5C;\n",
              "      box-shadow: 0px 1px 3px 1px rgba(0, 0, 0, 0.15);\n",
              "      filter: drop-shadow(0px 1px 2px rgba(0, 0, 0, 0.3));\n",
              "      fill: #FFFFFF;\n",
              "    }\n",
              "  </style>\n",
              "\n",
              "      <script>\n",
              "        const buttonEl =\n",
              "          document.querySelector('#df-ab023022-9895-44c3-97a9-16c036cbc2e8 button.colab-df-convert');\n",
              "        buttonEl.style.display =\n",
              "          google.colab.kernel.accessAllowed ? 'block' : 'none';\n",
              "\n",
              "        async function convertToInteractive(key) {\n",
              "          const element = document.querySelector('#df-ab023022-9895-44c3-97a9-16c036cbc2e8');\n",
              "          const dataTable =\n",
              "            await google.colab.kernel.invokeFunction('convertToInteractive',\n",
              "                                                     [key], {});\n",
              "          if (!dataTable) return;\n",
              "\n",
              "          const docLinkHtml = 'Like what you see? Visit the ' +\n",
              "            '<a target=\"_blank\" href=https://colab.research.google.com/notebooks/data_table.ipynb>data table notebook</a>'\n",
              "            + ' to learn more about interactive tables.';\n",
              "          element.innerHTML = '';\n",
              "          dataTable['output_type'] = 'display_data';\n",
              "          await google.colab.output.renderOutput(dataTable, element);\n",
              "          const docLink = document.createElement('div');\n",
              "          docLink.innerHTML = docLinkHtml;\n",
              "          element.appendChild(docLink);\n",
              "        }\n",
              "      </script>\n",
              "    </div>\n",
              "  </div>\n",
              "  "
            ]
          },
          "metadata": {},
          "execution_count": 76
        }
      ]
    },
    {
      "cell_type": "code",
      "source": [
        "nodes_b = list(df_Bridging['Id'])\n",
        "nodes_b.remove('WUH')\n",
        "nodes_b_5=nodes_b[0:171]\n",
        "nodes_b_10=nodes_b[0:342]\n",
        "nodes_b_15=nodes_b[0:513]\n",
        "nodes_b_20=nodes_b[0:684]\n",
        "nodes_b_25=nodes_b[0:856]\n",
        "nodes_b_30=nodes_b[0:1027]"
      ],
      "metadata": {
        "id": "kPrK5zI2_nPm"
      },
      "execution_count": null,
      "outputs": []
    },
    {
      "cell_type": "code",
      "source": [
        "Graph = nx.from_pandas_edgelist(df, source='Source', target='Target', create_using=G)\n",
        "print('Number of nodes before removal', len(Graph.nodes()))\n",
        "Graph.remove_nodes_from(nodes_b_5)\n",
        "Node_list=list(Graph.nodes())\n",
        "print('Number of nodes after removal', len(Node_list))\n",
        "Ti_5,Dis_5,full_data_5= calculate_Ti(Graph)\n",
        "print(\"Number of disconnected nodes\", len(Dis_5))\n",
        "T_b_5 = average(Ti_5)\n",
        "print('Average value of Ti after removing nodes', T_b_5)\n",
        "\n",
        "tmax = 20\n",
        "iterations = 100  \n",
        "tau = 1           #transmission rate\n",
        "gamma = 0    #recovery rate\n",
        "\n",
        "t, S, I, R = EoN.fast_SIR(Graph, tau, gamma,initial_infecteds = 'WUH', tmax = tmax) # first simulation\n",
        "plt.plot(t,I,color = 'r',alpha=0.5, label='Infected')\n",
        "plt.plot(t,S,color ='b',alpha =0.5, label='Susceptible')\n",
        "plt.plot(t,R,color ='g',alpha =0.5, label='Recovered')\n",
        "plt.legend()\n",
        "for counter in range(iterations): # 99 more simulations\n",
        "    t, S, I, R = EoN.fast_SIR(Graph, tau, gamma,initial_infecteds = 'WUH', tmax = tmax)\n",
        "    plt.plot(t,I,color = 'r',alpha=0.5)\n",
        "    plt.plot(t,S,color ='b',alpha =0.5)\n",
        "    plt.plot(t,R,color ='g',alpha =0.5)\n",
        "\n"
      ],
      "metadata": {
        "colab": {
          "base_uri": "https://localhost:8080/",
          "height": 337
        },
        "id": "iymlmOlMIYsp",
        "outputId": "408262d3-72cb-4f09-aeed-14cd8830c67e"
      },
      "execution_count": null,
      "outputs": [
        {
          "output_type": "stream",
          "name": "stdout",
          "text": [
            "Number of nodes before removal 3425\n",
            "Number of nodes after removal 3254\n",
            "Number of disconnected nodes 145\n",
            "Average value of Ti after removing nodes 0.9216732639487206\n"
          ]
        },
        {
          "output_type": "display_data",
          "data": {
            "text/plain": [
              "<Figure size 432x288 with 1 Axes>"
            ],
            "image/png": "[encoded data removed]"
          },
          "metadata": {
            "needs_background": "light"
          }
        }
      ]
    },
    {
      "cell_type": "code",
      "source": [
        "df_dis_5 = pd.DataFrame(Dis_5, columns=['Nodes'])\n",
        "df_dis_5\n",
        "df_merge = pd.merge(df_dis_5,df_air, how = 'inner', on =\"Nodes\")\n",
        "df_merge\n",
        "df_country = pd.DataFrame(df_merge.groupby(\"Country\"))\n",
        "df_country"
      ],
      "metadata": {
        "colab": {
          "base_uri": "https://localhost:8080/",
          "height": 739
        },
        "id": "QO7RC6ve-sMD",
        "outputId": "5c1d46d4-e645-42ac-a6e5-98b5527644a1"
      },
      "execution_count": null,
      "outputs": [
        {
          "output_type": "execute_result",
          "data": {
            "text/plain": [
              "                          0                                                  1\n",
              "0                 Australia      Nodes        Lat        Long    Country\n",
              "1 ...\n",
              "1                    Brazil      Nodes        Lat       Long Country\n",
              "27    ...\n",
              "2                     Burma     Nodes      Lat       Long Country\n",
              "74   KAW ...\n",
              "3                    Canada      Nodes        Lat        Long Country\n",
              "0    ...\n",
              "4                     China     Nodes      Lat     Long Country\n",
              "35   WUH  3...\n",
              "5   Cocos (Keeling) Islands     Nodes      Lat     Long                  Co...\n",
              "6          Congo (Kinshasa)     Nodes      Lat       Long           Country...\n",
              "7                 Greenland     Nodes        Lat       Long    Country\n",
              "10  ...\n",
              "8                   Iceland     Nodes        Lat       Long  Country\n",
              "22   R...\n",
              "9                    Israel     Nodes        Lat       Long Country\n",
              "21   HF...\n",
              "10                 Malaysia     Nodes    Lat        Long   Country\n",
              "95   BKM...\n",
              "11         Marshall Islands     Nodes      Lat        Long           Countr...\n",
              "12               Micronesia     Nodes      Lat        Long     Country\n",
              "29  ...\n",
              "13                 Mongolia      Nodes      Lat     Long   Country\n",
              "100   LT...\n",
              "14                  Namibia      Nodes        Lat       Long  Country\n",
              "6    ...\n",
              "15            New Caledonia      Nodes        Lat        Long        Countr...\n",
              "16                   Panama      Nodes       Lat       Long Country\n",
              "17    C...\n",
              "17                Sri Lanka      Nodes       Lat       Long    Country\n",
              "78  ...\n",
              "18            United States      Nodes        Lat        Long        Countr...\n",
              "19                  Vanuatu     Nodes     Lat        Long  Country\n",
              "2    MTV...\n",
              "20           Virgin Islands     Nodes        Lat       Long         Country...\n",
              "21        Wallis and Futuna     Nodes      Lat        Long            Count..."
            ],
            "text/html": [
              "\n",
              "  <div id=\"df-89140e16-805f-49fb-b955-5811c168652d\">\n",
              "    <div class=\"colab-df-container\">\n",
              "      <div>\n",
              "<style scoped>\n",
              "    .dataframe tbody tr th:only-of-type {\n",
              "        vertical-align: middle;\n",
              "    }\n",
              "\n",
              "    .dataframe tbody tr th {\n",
              "        vertical-align: top;\n",
              "    }\n",
              "\n",
              "    .dataframe thead th {\n",
              "        text-align: right;\n",
              "    }\n",
              "</style>\n",
              "<table border=\"1\" class=\"dataframe\">\n",
              "  <thead>\n",
              "    <tr style=\"text-align: right;\">\n",
              "      <th></th>\n",
              "      <th>0</th>\n",
              "      <th>1</th>\n",
              "    </tr>\n",
              "  </thead>\n",
              "  <tbody>\n",
              "    <tr>\n",
              "      <th>0</th>\n",
              "      <td>Australia</td>\n",
              "      <td>Nodes        Lat        Long    Country\n",
              "1 ...</td>\n",
              "    </tr>\n",
              "    <tr>\n",
              "      <th>1</th>\n",
              "      <td>Brazil</td>\n",
              "      <td>Nodes        Lat       Long Country\n",
              "27    ...</td>\n",
              "    </tr>\n",
              "    <tr>\n",
              "      <th>2</th>\n",
              "      <td>Burma</td>\n",
              "      <td>Nodes      Lat       Long Country\n",
              "74   KAW ...</td>\n",
              "    </tr>\n",
              "    <tr>\n",
              "      <th>3</th>\n",
              "      <td>Canada</td>\n",
              "      <td>Nodes        Lat        Long Country\n",
              "0    ...</td>\n",
              "    </tr>\n",
              "    <tr>\n",
              "      <th>4</th>\n",
              "      <td>China</td>\n",
              "      <td>Nodes      Lat     Long Country\n",
              "35   WUH  3...</td>\n",
              "    </tr>\n",
              "    <tr>\n",
              "      <th>5</th>\n",
              "      <td>Cocos (Keeling) Islands</td>\n",
              "      <td>Nodes      Lat     Long                  Co...</td>\n",
              "    </tr>\n",
              "    <tr>\n",
              "      <th>6</th>\n",
              "      <td>Congo (Kinshasa)</td>\n",
              "      <td>Nodes      Lat       Long           Country...</td>\n",
              "    </tr>\n",
              "    <tr>\n",
              "      <th>7</th>\n",
              "      <td>Greenland</td>\n",
              "      <td>Nodes        Lat       Long    Country\n",
              "10  ...</td>\n",
              "    </tr>\n",
              "    <tr>\n",
              "      <th>8</th>\n",
              "      <td>Iceland</td>\n",
              "      <td>Nodes        Lat       Long  Country\n",
              "22   R...</td>\n",
              "    </tr>\n",
              "    <tr>\n",
              "      <th>9</th>\n",
              "      <td>Israel</td>\n",
              "      <td>Nodes        Lat       Long Country\n",
              "21   HF...</td>\n",
              "    </tr>\n",
              "    <tr>\n",
              "      <th>10</th>\n",
              "      <td>Malaysia</td>\n",
              "      <td>Nodes    Lat        Long   Country\n",
              "95   BKM...</td>\n",
              "    </tr>\n",
              "    <tr>\n",
              "      <th>11</th>\n",
              "      <td>Marshall Islands</td>\n",
              "      <td>Nodes      Lat        Long           Countr...</td>\n",
              "    </tr>\n",
              "    <tr>\n",
              "      <th>12</th>\n",
              "      <td>Micronesia</td>\n",
              "      <td>Nodes      Lat        Long     Country\n",
              "29  ...</td>\n",
              "    </tr>\n",
              "    <tr>\n",
              "      <th>13</th>\n",
              "      <td>Mongolia</td>\n",
              "      <td>Nodes      Lat     Long   Country\n",
              "100   LT...</td>\n",
              "    </tr>\n",
              "    <tr>\n",
              "      <th>14</th>\n",
              "      <td>Namibia</td>\n",
              "      <td>Nodes        Lat       Long  Country\n",
              "6    ...</td>\n",
              "    </tr>\n",
              "    <tr>\n",
              "      <th>15</th>\n",
              "      <td>New Caledonia</td>\n",
              "      <td>Nodes        Lat        Long        Countr...</td>\n",
              "    </tr>\n",
              "    <tr>\n",
              "      <th>16</th>\n",
              "      <td>Panama</td>\n",
              "      <td>Nodes       Lat       Long Country\n",
              "17    C...</td>\n",
              "    </tr>\n",
              "    <tr>\n",
              "      <th>17</th>\n",
              "      <td>Sri Lanka</td>\n",
              "      <td>Nodes       Lat       Long    Country\n",
              "78  ...</td>\n",
              "    </tr>\n",
              "    <tr>\n",
              "      <th>18</th>\n",
              "      <td>United States</td>\n",
              "      <td>Nodes        Lat        Long        Countr...</td>\n",
              "    </tr>\n",
              "    <tr>\n",
              "      <th>19</th>\n",
              "      <td>Vanuatu</td>\n",
              "      <td>Nodes     Lat        Long  Country\n",
              "2    MTV...</td>\n",
              "    </tr>\n",
              "    <tr>\n",
              "      <th>20</th>\n",
              "      <td>Virgin Islands</td>\n",
              "      <td>Nodes        Lat       Long         Country...</td>\n",
              "    </tr>\n",
              "    <tr>\n",
              "      <th>21</th>\n",
              "      <td>Wallis and Futuna</td>\n",
              "      <td>Nodes      Lat        Long            Count...</td>\n",
              "    </tr>\n",
              "  </tbody>\n",
              "</table>\n",
              "</div>\n",
              "      <button class=\"colab-df-convert\" onclick=\"convertToInteractive('df-89140e16-805f-49fb-b955-5811c168652d')\"\n",
              "              title=\"Convert this dataframe to an interactive table.\"\n",
              "              style=\"display:none;\">\n",
              "        \n",
              "  <svg xmlns=\"http://www.w3.org/2000/svg\" height=\"24px\"viewBox=\"0 0 24 24\"\n",
              "       width=\"24px\">\n",
              "    <path d=\"M0 0h24v24H0V0z\" fill=\"none\"/>\n",
              "    <path d=\"M18.56 5.44l.94 2.06.94-2.06 2.06-.94-2.06-.94-.94-2.06-.94 2.06-2.06.94zm-11 1L8.5 8.5l.94-2.06 2.06-.94-2.06-.94L8.5 2.5l-.94 2.06-2.06.94zm10 10l.94 2.06.94-2.06 2.06-.94-2.06-.94-.94-2.06-.94 2.06-2.06.94z\"/><path d=\"M17.41 7.96l-1.37-1.37c-.4-.4-.92-.59-1.43-.59-.52 0-1.04.2-1.43.59L10.3 9.45l-7.72 7.72c-.78.78-.78 2.05 0 2.83L4 21.41c.39.39.9.59 1.41.59.51 0 1.02-.2 1.41-.59l7.78-7.78 2.81-2.81c.8-.78.8-2.07 0-2.86zM5.41 20L4 18.59l7.72-7.72 1.47 1.35L5.41 20z\"/>\n",
              "  </svg>\n",
              "      </button>\n",
              "      \n",
              "  <style>\n",
              "    .colab-df-container {\n",
              "      display:flex;\n",
              "      flex-wrap:wrap;\n",
              "      gap: 12px;\n",
              "    }\n",
              "\n",
              "    .colab-df-convert {\n",
              "      background-color: #E8F0FE;\n",
              "      border: none;\n",
              "      border-radius: 50%;\n",
              "      cursor: pointer;\n",
              "      display: none;\n",
              "      fill: #1967D2;\n",
              "      height: 32px;\n",
              "      padding: 0 0 0 0;\n",
              "      width: 32px;\n",
              "    }\n",
              "\n",
              "    .colab-df-convert:hover {\n",
              "      background-color: #E2EBFA;\n",
              "      box-shadow: 0px 1px 2px rgba(60, 64, 67, 0.3), 0px 1px 3px 1px rgba(60, 64, 67, 0.15);\n",
              "      fill: #174EA6;\n",
              "    }\n",
              "\n",
              "    [theme=dark] .colab-df-convert {\n",
              "      background-color: #3B4455;\n",
              "      fill: #D2E3FC;\n",
              "    }\n",
              "\n",
              "    [theme=dark] .colab-df-convert:hover {\n",
              "      background-color: #434B5C;\n",
              "      box-shadow: 0px 1px 3px 1px rgba(0, 0, 0, 0.15);\n",
              "      filter: drop-shadow(0px 1px 2px rgba(0, 0, 0, 0.3));\n",
              "      fill: #FFFFFF;\n",
              "    }\n",
              "  </style>\n",
              "\n",
              "      <script>\n",
              "        const buttonEl =\n",
              "          document.querySelector('#df-89140e16-805f-49fb-b955-5811c168652d button.colab-df-convert');\n",
              "        buttonEl.style.display =\n",
              "          google.colab.kernel.accessAllowed ? 'block' : 'none';\n",
              "\n",
              "        async function convertToInteractive(key) {\n",
              "          const element = document.querySelector('#df-89140e16-805f-49fb-b955-5811c168652d');\n",
              "          const dataTable =\n",
              "            await google.colab.kernel.invokeFunction('convertToInteractive',\n",
              "                                                     [key], {});\n",
              "          if (!dataTable) return;\n",
              "\n",
              "          const docLinkHtml = 'Like what you see? Visit the ' +\n",
              "            '<a target=\"_blank\" href=https://colab.research.google.com/notebooks/data_table.ipynb>data table notebook</a>'\n",
              "            + ' to learn more about interactive tables.';\n",
              "          element.innerHTML = '';\n",
              "          dataTable['output_type'] = 'display_data';\n",
              "          await google.colab.output.renderOutput(dataTable, element);\n",
              "          const docLink = document.createElement('div');\n",
              "          docLink.innerHTML = docLinkHtml;\n",
              "          element.appendChild(docLink);\n",
              "        }\n",
              "      </script>\n",
              "    </div>\n",
              "  </div>\n",
              "  "
            ]
          },
          "metadata": {},
          "execution_count": 95
        }
      ]
    },
    {
      "cell_type": "code",
      "source": [
        "Graph = nx.from_pandas_edgelist(df, source='Source', target='Target', create_using=G)\n",
        "print('Number of nodes before removal', len(Graph.nodes()))\n",
        "\n",
        "Graph.remove_nodes_from(nodes_b_10)\n",
        "Node_list=list(Graph.nodes())\n",
        "print('Number of nodes after removal', len(Node_list))\n",
        "Ti_5,Dis_5,full_data_5= calculate_Ti(Graph)\n",
        "print(\"Number of disconnected nodes\", len(Dis_5))\n",
        "T_b_5 = average(Ti_5)\n",
        "print('Average value of Ti after removing nodes', T_b_5)\n",
        "\n",
        "tmax = 20\n",
        "iterations = 100  \n",
        "tau = 1           #transmission rate\n",
        "gamma = 0    #recovery rate\n",
        "\n",
        "t, S, I, R = EoN.fast_SIR(Graph, tau, gamma,initial_infecteds = 'WUH', tmax = tmax) # first simulation\n",
        "plt.plot(t,I,color = 'r',alpha=0.5, label='Infected')\n",
        "plt.plot(t,S,color ='b',alpha =0.5, label='Susceptible')\n",
        "plt.plot(t,R,color ='g',alpha =0.5, label='Recovered')\n",
        "plt.legend()\n",
        "for counter in range(iterations): # 99 more simulations\n",
        "    t, S, I, R = EoN.fast_SIR(Graph, tau, gamma,initial_infecteds = 'WUH', tmax = tmax)\n",
        "    plt.plot(t,I,color = 'r',alpha=0.5)\n",
        "    plt.plot(t,S,color ='b',alpha =0.5)\n",
        "    plt.plot(t,R,color ='g',alpha =0.5)"
      ],
      "metadata": {
        "colab": {
          "base_uri": "https://localhost:8080/",
          "height": 337
        },
        "id": "8SHMY7SgJVsG",
        "outputId": "027aaeed-d49a-4593-86d9-b9b87bd96b0d"
      },
      "execution_count": null,
      "outputs": [
        {
          "output_type": "stream",
          "name": "stdout",
          "text": [
            "Number of nodes before removal 3425\n",
            "Number of nodes after removal 3083\n",
            "Number of disconnected nodes 299\n",
            "Average value of Ti after removing nodes 1.163091057918879\n"
          ]
        },
        {
          "output_type": "display_data",
          "data": {
            "text/plain": [
              "<Figure size 432x288 with 1 Axes>"
            ],
            "image/png": "[encoded data removed]"
          },
          "metadata": {
            "needs_background": "light"
          }
        }
      ]
    },
    {
      "cell_type": "code",
      "source": [
        "Graph = nx.from_pandas_edgelist(df, source='Source', target='Target', create_using=G)\n",
        "print('Number of nodes before removal', len(Graph.nodes()))\n",
        "\n",
        "Graph.remove_nodes_from(nodes_b_15)\n",
        "Node_list=list(Graph.nodes())\n",
        "print('Number of nodes after removal', len(Node_list))\n",
        "Ti_5,Dis_5,full_data_5= calculate_Ti(Graph)\n",
        "print(\"Number of disconnected nodes\", len(Dis_5))\n",
        "T_b_5 = average(Ti_5)\n",
        "print('Average value of Ti after removing nodes', T_b_5)\n",
        "\n",
        "tmax = 20\n",
        "iterations = 100  \n",
        "tau = 1           #transmission rate\n",
        "gamma = 0    #recovery rate\n",
        "\n",
        "t, S, I, R = EoN.fast_SIR(Graph, tau, gamma,initial_infecteds = 'WUH', tmax = tmax) # first simulation\n",
        "plt.plot(t,I,color = 'r',alpha=0.5, label='Infected')\n",
        "plt.plot(t,S,color ='b',alpha =0.5, label='Susceptible')\n",
        "plt.plot(t,R,color ='g',alpha =0.5, label='Recovered')\n",
        "plt.legend()\n",
        "for counter in range(iterations): # 99 more simulations\n",
        "    t, S, I, R = EoN.fast_SIR(Graph, tau, gamma,initial_infecteds = 'WUH', tmax = tmax)\n",
        "    plt.plot(t,I,color = 'r',alpha=0.5)\n",
        "    plt.plot(t,S,color ='b',alpha =0.5)\n",
        "    plt.plot(t,R,color ='g',alpha =0.5)"
      ],
      "metadata": {
        "colab": {
          "base_uri": "https://localhost:8080/",
          "height": 337
        },
        "id": "tppv1xLjrA2a",
        "outputId": "527fa792-0ad9-4412-fc8a-e2b9836a9aa9"
      },
      "execution_count": null,
      "outputs": [
        {
          "output_type": "stream",
          "name": "stdout",
          "text": [
            "Number of nodes before removal 3425\n",
            "Number of nodes after removal 2912\n",
            "Number of disconnected nodes 519\n",
            "Average value of Ti after removing nodes 1.5940092485829571\n"
          ]
        },
        {
          "output_type": "display_data",
          "data": {
            "text/plain": [
              "<Figure size 432x288 with 1 Axes>"
            ],
            "image/png": "[encoded data removed]"
          },
          "metadata": {
            "needs_background": "light"
          }
        }
      ]
    },
    {
      "cell_type": "code",
      "source": [
        "Graph = nx.from_pandas_edgelist(df, source='Source', target='Target', create_using=G)\n",
        "print('Number of nodes before removal', len(Graph.nodes()))\n",
        "\n",
        "Graph.remove_nodes_from(nodes_b_20)\n",
        "Node_list=list(Graph.nodes())\n",
        "print('Number of nodes after removal', len(Node_list))\n",
        "Ti_5,Dis_5,full_data_5= calculate_Ti(Graph)\n",
        "print(\"Number of disconnected nodes\", len(Dis_5))\n",
        "T_b_5 = average(Ti_5)\n",
        "print('Average value of Ti after removing nodes', T_b_5)\n",
        "\n",
        "tmax = 20\n",
        "iterations = 100  \n",
        "tau = 1           #transmission rate\n",
        "gamma = 0    #recovery rate\n",
        "\n",
        "t, S, I, R = EoN.fast_SIR(Graph, tau, gamma,initial_infecteds = 'WUH', tmax = tmax) # first simulation\n",
        "plt.plot(t,I,color = 'r',alpha=0.5, label='Infected')\n",
        "plt.plot(t,S,color ='b',alpha =0.5, label='Susceptible')\n",
        "plt.plot(t,R,color ='g',alpha =0.5, label='Recovered')\n",
        "plt.legend()\n",
        "for counter in range(iterations): # 99 more simulations\n",
        "    t, S, I, R = EoN.fast_SIR(Graph, tau, gamma,initial_infecteds = 'WUH', tmax = tmax)\n",
        "    plt.plot(t,I,color = 'r',alpha=0.5)\n",
        "    plt.plot(t,S,color ='b',alpha =0.5)\n",
        "    plt.plot(t,R,color ='g',alpha =0.5)"
      ],
      "metadata": {
        "colab": {
          "base_uri": "https://localhost:8080/",
          "height": 337
        },
        "outputId": "248d0c09-953f-4c50-fcc2-6ca92cdd56c6",
        "id": "59YP9mqBJ-M1"
      },
      "execution_count": null,
      "outputs": [
        {
          "output_type": "stream",
          "name": "stdout",
          "text": [
            "Number of nodes before removal 3425\n",
            "Number of nodes after removal 2741\n",
            "Number of disconnected nodes 833\n",
            "Average value of Ti after removing nodes 2.3000533193658037\n"
          ]
        },
        {
          "output_type": "display_data",
          "data": {
            "text/plain": [
              "<Figure size 432x288 with 1 Axes>"
            ],
            "image/png": "[encoded data removed]"
          },
          "metadata": {
            "needs_background": "light"
          }
        }
      ]
    },
    {
      "cell_type": "code",
      "source": [
        "Graph = nx.from_pandas_edgelist(df, source='Source', target='Target', create_using=G)\n",
        "print('Number of nodes before removal', len(Graph.nodes()))\n",
        "\n",
        "Graph.remove_nodes_from(nodes_b_25)\n",
        "Node_list=list(Graph.nodes())\n",
        "print('Number of nodes after removal', len(Node_list))\n",
        "Ti_5,Dis_5,full_data_5= calculate_Ti(Graph)\n",
        "print(\"Number of disconnected nodes\", len(Dis_5))\n",
        "T_b_5 = average(Ti_5)\n",
        "print('Average value of Ti after removing nodes', T_b_5)\n",
        "\n",
        "tmax = 20\n",
        "iterations = 100  \n",
        "tau = 1           #transmission rate\n",
        "gamma = 0    #recovery rate\n",
        "\n",
        "t, S, I, R = EoN.fast_SIR(Graph, tau, gamma,initial_infecteds = 'WUH', tmax = tmax) # first simulation\n",
        "plt.plot(t,I,color = 'r',alpha=0.5, label='Infected')\n",
        "plt.plot(t,S,color ='b',alpha =0.5, label='Susceptible')\n",
        "plt.plot(t,R,color ='g',alpha =0.5, label='Recovered')\n",
        "plt.legend()\n",
        "for counter in range(iterations): # 99 more simulations\n",
        "    t, S, I, R = EoN.fast_SIR(Graph, tau, gamma,initial_infecteds = 'WUH', tmax = tmax)\n",
        "    plt.plot(t,I,color = 'r',alpha=0.5)\n",
        "    plt.plot(t,S,color ='b',alpha =0.5)\n",
        "    plt.plot(t,R,color ='g',alpha =0.5)"
      ],
      "metadata": {
        "colab": {
          "base_uri": "https://localhost:8080/",
          "height": 337
        },
        "id": "Trzcq25CrLAQ",
        "outputId": "bccad8ea-2d82-4c79-c1d0-96dcf79aa263"
      },
      "execution_count": null,
      "outputs": [
        {
          "output_type": "stream",
          "name": "stdout",
          "text": [
            "Number of nodes before removal 3425\n",
            "Number of nodes after removal 2569\n",
            "Number of disconnected nodes 1363\n",
            "Average value of Ti after removing nodes 3.648602887183555\n"
          ]
        },
        {
          "output_type": "display_data",
          "data": {
            "text/plain": [
              "<Figure size 432x288 with 1 Axes>"
            ],
            "image/png": "[encoded data removed]"
          },
          "metadata": {
            "needs_background": "light"
          }
        }
      ]
    },
    {
      "cell_type": "code",
      "source": [
        "Graph = nx.from_pandas_edgelist(df, source='Source', target='Target', create_using=G)\n",
        "print('Number of nodes before removal', len(Graph.nodes()))\n",
        "\n",
        "Graph.remove_nodes_from(nodes_b_30)\n",
        "Node_list=list(Graph.nodes())\n",
        "print('Number of nodes after removal', len(Node_list))\n",
        "Ti_5,Dis_5,full_data_5= calculate_Ti(Graph)\n",
        "print(\"Number of disconnected nodes\", len(Dis_5))\n",
        "T_b_5 = average(Ti_5)\n",
        "print('Average value of Ti after removing nodes', T_b_5)\n",
        "\n",
        "tmax = 20\n",
        "iterations = 100  \n",
        "tau = 1           #transmission rate\n",
        "gamma = 0    #recovery rate\n",
        "\n",
        "t, S, I, R = EoN.fast_SIR(Graph, tau, gamma,initial_infecteds = 'WUH', tmax = tmax) # first simulation\n",
        "plt.plot(t,I,color = 'r',alpha=0.5, label='Infected')\n",
        "plt.plot(t,S,color ='b',alpha =0.5, label='Susceptible')\n",
        "plt.plot(t,R,color ='g',alpha =0.5, label='Recovered')\n",
        "plt.legend()\n",
        "for counter in range(iterations): # 99 more simulations\n",
        "    t, S, I, R = EoN.fast_SIR(Graph, tau, gamma,initial_infecteds = 'WUH', tmax = tmax)\n",
        "    plt.plot(t,I,color = 'r',alpha=0.5)\n",
        "    plt.plot(t,S,color ='b',alpha =0.5)\n",
        "    plt.plot(t,R,color ='g',alpha =0.5)"
      ],
      "metadata": {
        "colab": {
          "base_uri": "https://localhost:8080/",
          "height": 340
        },
        "id": "sku3KGiYrOGk",
        "outputId": "e549f8bc-dd5d-461e-bf74-34b24b2ae09a"
      },
      "execution_count": null,
      "outputs": [
        {
          "output_type": "stream",
          "name": "stdout",
          "text": [
            "Number of nodes before removal 3425\n",
            "Number of nodes after removal 2398\n",
            "Number of disconnected nodes 2227\n",
            "Average value of Ti after removing nodes 5.626577644805516\n"
          ]
        },
        {
          "output_type": "display_data",
          "data": {
            "text/plain": [
              "<Figure size 432x288 with 1 Axes>"
            ],
            "image/png": "[encoded data removed]"
          },
          "metadata": {
            "needs_background": "light"
          }
        }
      ]
    },
    {
      "cell_type": "markdown",
      "source": [],
      "metadata": {
        "id": "Sf3zKtOu6_lG"
      }
    }
  ]
}